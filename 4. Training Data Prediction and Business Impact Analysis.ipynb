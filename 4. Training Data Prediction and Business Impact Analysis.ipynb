{
  "nbformat": 4,
  "nbformat_minor": 0,
  "metadata": {
    "colab": {
      "name": "4. Training Data Prediction and Business Impact Analysis",
      "provenance": [],
      "collapsed_sections": []
    },
    "kernelspec": {
      "name": "python3",
      "display_name": "Python 3"
    }
  },
  "cells": [
    {
      "cell_type": "code",
      "metadata": {
        "id": "ofPk8zW6N5RJ",
        "colab_type": "code",
        "colab": {}
      },
      "source": [
        "import numpy as np\n",
        "import pandas as pd"
      ],
      "execution_count": 0,
      "outputs": []
    },
    {
      "cell_type": "markdown",
      "metadata": {
        "id": "tWjdfwbnRXPF",
        "colab_type": "text"
      },
      "source": [
        "# 1. Data Preparation\n",
        "1. Assigned Final Features and Split Features and Results\n",
        "2. Prepares Two Sets of Data for Prediction\n",
        "3. Construct Training and Validation Indexes for Cross Validation"
      ]
    },
    {
      "cell_type": "code",
      "metadata": {
        "id": "apQA2psMVOPX",
        "colab_type": "code",
        "outputId": "3932ba33-4d84-4710-ffe8-391d721a2409",
        "colab": {
          "base_uri": "https://localhost:8080/",
          "height": 287
        }
      },
      "source": [
        "# Import original transformed data (unbalanced) and old training data index\n",
        "original_d=pd.read_csv('/content/drive/My Drive/Colab Notebooks/Lending Club Project_Joint/training_dummy.csv')\n",
        "old_set=pd.read_csv('/content/drive/My Drive/Colab Notebooks/Lending Club Project_Joint/training_sets_index.csv')\n",
        "original_d.head()"
      ],
      "execution_count": 2,
      "outputs": [
        {
          "output_type": "execute_result",
          "data": {
            "text/html": [
              "<div>\n",
              "<style scoped>\n",
              "    .dataframe tbody tr th:only-of-type {\n",
              "        vertical-align: middle;\n",
              "    }\n",
              "\n",
              "    .dataframe tbody tr th {\n",
              "        vertical-align: top;\n",
              "    }\n",
              "\n",
              "    .dataframe thead th {\n",
              "        text-align: right;\n",
              "    }\n",
              "</style>\n",
              "<table border=\"1\" class=\"dataframe\">\n",
              "  <thead>\n",
              "    <tr style=\"text-align: right;\">\n",
              "      <th></th>\n",
              "      <th>id</th>\n",
              "      <th>acc_open_past_24mths</th>\n",
              "      <th>avg_cur_bal</th>\n",
              "      <th>bc_open_to_buy</th>\n",
              "      <th>desc</th>\n",
              "      <th>inq_last_6mths</th>\n",
              "      <th>loan_amnt</th>\n",
              "      <th>num_bc_tl</th>\n",
              "      <th>mo_sin_rcnt_rev_tl_op</th>\n",
              "      <th>mths_since_recent_bc</th>\n",
              "      <th>num_actv_bc_tl</th>\n",
              "      <th>num_actv_rev_tl</th>\n",
              "      <th>num_bc_sats</th>\n",
              "      <th>num_il_tl</th>\n",
              "      <th>num_op_rev_tl</th>\n",
              "      <th>num_sats</th>\n",
              "      <th>num_tl_op_past_12m</th>\n",
              "      <th>percent_bc_gt_75</th>\n",
              "      <th>tot_coll_amt</th>\n",
              "      <th>tot_cur_bal</th>\n",
              "      <th>total_acc</th>\n",
              "      <th>total_bal_ex_mort</th>\n",
              "      <th>pct_tl_nvr_dlq</th>\n",
              "      <th>verification_status_all</th>\n",
              "      <th>if_worse_rating</th>\n",
              "      <th>annual_inc_all</th>\n",
              "      <th>revol_bal_all</th>\n",
              "      <th>if_revol_delinq</th>\n",
              "      <th>if_cur_il</th>\n",
              "      <th>if_delinq_2yrs</th>\n",
              "      <th>if_pub_rec</th>\n",
              "      <th>if_pub_rec_bankruptcies</th>\n",
              "      <th>if_chargeoff_12_mths</th>\n",
              "      <th>if_collections_12_mths</th>\n",
              "      <th>mort_acc_all</th>\n",
              "      <th>num_rev_accts_all</th>\n",
              "      <th>dti_all</th>\n",
              "      <th>addr_state_AL</th>\n",
              "      <th>addr_state_AR</th>\n",
              "      <th>addr_state_AZ</th>\n",
              "      <th>...</th>\n",
              "      <th>addr_state_NM</th>\n",
              "      <th>addr_state_NV</th>\n",
              "      <th>addr_state_NY</th>\n",
              "      <th>addr_state_OH</th>\n",
              "      <th>addr_state_OK</th>\n",
              "      <th>addr_state_OR</th>\n",
              "      <th>addr_state_PA</th>\n",
              "      <th>addr_state_RI</th>\n",
              "      <th>addr_state_SC</th>\n",
              "      <th>addr_state_SD</th>\n",
              "      <th>addr_state_TN</th>\n",
              "      <th>addr_state_TX</th>\n",
              "      <th>addr_state_UT</th>\n",
              "      <th>addr_state_VA</th>\n",
              "      <th>addr_state_VT</th>\n",
              "      <th>addr_state_WA</th>\n",
              "      <th>addr_state_WI</th>\n",
              "      <th>addr_state_WV</th>\n",
              "      <th>addr_state_WY</th>\n",
              "      <th>application_type_Joint App</th>\n",
              "      <th>home_ownership_MORTGAGE</th>\n",
              "      <th>home_ownership_NONE</th>\n",
              "      <th>home_ownership_OTHER</th>\n",
              "      <th>home_ownership_OWN</th>\n",
              "      <th>home_ownership_RENT</th>\n",
              "      <th>purpose_credit_card</th>\n",
              "      <th>purpose_debt_consolidation</th>\n",
              "      <th>purpose_educational</th>\n",
              "      <th>purpose_home_improvement</th>\n",
              "      <th>purpose_house</th>\n",
              "      <th>purpose_major_purchase</th>\n",
              "      <th>purpose_medical</th>\n",
              "      <th>purpose_moving</th>\n",
              "      <th>purpose_other</th>\n",
              "      <th>purpose_renewable_energy</th>\n",
              "      <th>purpose_small_business</th>\n",
              "      <th>purpose_vacation</th>\n",
              "      <th>purpose_wedding</th>\n",
              "      <th>term_ 60 months</th>\n",
              "      <th>results_Fully Paid</th>\n",
              "    </tr>\n",
              "  </thead>\n",
              "  <tbody>\n",
              "    <tr>\n",
              "      <th>0</th>\n",
              "      <td>1294383</td>\n",
              "      <td>5.0</td>\n",
              "      <td>0.8115</td>\n",
              "      <td>0.5315</td>\n",
              "      <td>0</td>\n",
              "      <td>0</td>\n",
              "      <td>1.2</td>\n",
              "      <td>1.0</td>\n",
              "      <td>22</td>\n",
              "      <td>69</td>\n",
              "      <td>1</td>\n",
              "      <td>1</td>\n",
              "      <td>1</td>\n",
              "      <td>12</td>\n",
              "      <td>2</td>\n",
              "      <td>6</td>\n",
              "      <td>2</td>\n",
              "      <td>0.000</td>\n",
              "      <td>0.000</td>\n",
              "      <td>4.8690</td>\n",
              "      <td>16.0</td>\n",
              "      <td>4.8690</td>\n",
              "      <td>1.000</td>\n",
              "      <td>1</td>\n",
              "      <td>0</td>\n",
              "      <td>7.5</td>\n",
              "      <td>0.0685</td>\n",
              "      <td>0</td>\n",
              "      <td>0</td>\n",
              "      <td>0</td>\n",
              "      <td>0</td>\n",
              "      <td>0</td>\n",
              "      <td>0</td>\n",
              "      <td>0</td>\n",
              "      <td>0.0</td>\n",
              "      <td>2.0</td>\n",
              "      <td>0.2042</td>\n",
              "      <td>0</td>\n",
              "      <td>0</td>\n",
              "      <td>0</td>\n",
              "      <td>...</td>\n",
              "      <td>0</td>\n",
              "      <td>0</td>\n",
              "      <td>0</td>\n",
              "      <td>0</td>\n",
              "      <td>0</td>\n",
              "      <td>0</td>\n",
              "      <td>0</td>\n",
              "      <td>0</td>\n",
              "      <td>0</td>\n",
              "      <td>0</td>\n",
              "      <td>0</td>\n",
              "      <td>0</td>\n",
              "      <td>0</td>\n",
              "      <td>0</td>\n",
              "      <td>0</td>\n",
              "      <td>0</td>\n",
              "      <td>0</td>\n",
              "      <td>0</td>\n",
              "      <td>0</td>\n",
              "      <td>0</td>\n",
              "      <td>0</td>\n",
              "      <td>0</td>\n",
              "      <td>0</td>\n",
              "      <td>0</td>\n",
              "      <td>1</td>\n",
              "      <td>0</td>\n",
              "      <td>1</td>\n",
              "      <td>0</td>\n",
              "      <td>0</td>\n",
              "      <td>0</td>\n",
              "      <td>0</td>\n",
              "      <td>0</td>\n",
              "      <td>0</td>\n",
              "      <td>0</td>\n",
              "      <td>0</td>\n",
              "      <td>0</td>\n",
              "      <td>0</td>\n",
              "      <td>0</td>\n",
              "      <td>0</td>\n",
              "      <td>1</td>\n",
              "    </tr>\n",
              "    <tr>\n",
              "      <th>1</th>\n",
              "      <td>1876502</td>\n",
              "      <td>0.0</td>\n",
              "      <td>0.2054</td>\n",
              "      <td>0.2069</td>\n",
              "      <td>0</td>\n",
              "      <td>0</td>\n",
              "      <td>0.5</td>\n",
              "      <td>4.0</td>\n",
              "      <td>50</td>\n",
              "      <td>50</td>\n",
              "      <td>2</td>\n",
              "      <td>3</td>\n",
              "      <td>2</td>\n",
              "      <td>0</td>\n",
              "      <td>3</td>\n",
              "      <td>3</td>\n",
              "      <td>0</td>\n",
              "      <td>0.500</td>\n",
              "      <td>0.000</td>\n",
              "      <td>0.6162</td>\n",
              "      <td>6.0</td>\n",
              "      <td>0.6162</td>\n",
              "      <td>1.000</td>\n",
              "      <td>0</td>\n",
              "      <td>0</td>\n",
              "      <td>2.5</td>\n",
              "      <td>0.6162</td>\n",
              "      <td>0</td>\n",
              "      <td>0</td>\n",
              "      <td>0</td>\n",
              "      <td>0</td>\n",
              "      <td>0</td>\n",
              "      <td>0</td>\n",
              "      <td>0</td>\n",
              "      <td>0.0</td>\n",
              "      <td>6.0</td>\n",
              "      <td>0.0797</td>\n",
              "      <td>0</td>\n",
              "      <td>0</td>\n",
              "      <td>0</td>\n",
              "      <td>...</td>\n",
              "      <td>0</td>\n",
              "      <td>0</td>\n",
              "      <td>0</td>\n",
              "      <td>0</td>\n",
              "      <td>0</td>\n",
              "      <td>1</td>\n",
              "      <td>0</td>\n",
              "      <td>0</td>\n",
              "      <td>0</td>\n",
              "      <td>0</td>\n",
              "      <td>0</td>\n",
              "      <td>0</td>\n",
              "      <td>0</td>\n",
              "      <td>0</td>\n",
              "      <td>0</td>\n",
              "      <td>0</td>\n",
              "      <td>0</td>\n",
              "      <td>0</td>\n",
              "      <td>0</td>\n",
              "      <td>0</td>\n",
              "      <td>0</td>\n",
              "      <td>0</td>\n",
              "      <td>0</td>\n",
              "      <td>0</td>\n",
              "      <td>1</td>\n",
              "      <td>0</td>\n",
              "      <td>1</td>\n",
              "      <td>0</td>\n",
              "      <td>0</td>\n",
              "      <td>0</td>\n",
              "      <td>0</td>\n",
              "      <td>0</td>\n",
              "      <td>0</td>\n",
              "      <td>0</td>\n",
              "      <td>0</td>\n",
              "      <td>0</td>\n",
              "      <td>0</td>\n",
              "      <td>0</td>\n",
              "      <td>0</td>\n",
              "      <td>1</td>\n",
              "    </tr>\n",
              "    <tr>\n",
              "      <th>2</th>\n",
              "      <td>954710</td>\n",
              "      <td>0.0</td>\n",
              "      <td>0.0631</td>\n",
              "      <td>0.0526</td>\n",
              "      <td>0</td>\n",
              "      <td>0</td>\n",
              "      <td>0.4</td>\n",
              "      <td>10.0</td>\n",
              "      <td>41</td>\n",
              "      <td>96</td>\n",
              "      <td>6</td>\n",
              "      <td>9</td>\n",
              "      <td>6</td>\n",
              "      <td>3</td>\n",
              "      <td>10</td>\n",
              "      <td>10</td>\n",
              "      <td>0</td>\n",
              "      <td>0.833</td>\n",
              "      <td>0.007</td>\n",
              "      <td>0.6312</td>\n",
              "      <td>18.0</td>\n",
              "      <td>0.6312</td>\n",
              "      <td>0.889</td>\n",
              "      <td>1</td>\n",
              "      <td>1</td>\n",
              "      <td>3.2</td>\n",
              "      <td>0.6312</td>\n",
              "      <td>1</td>\n",
              "      <td>0</td>\n",
              "      <td>0</td>\n",
              "      <td>0</td>\n",
              "      <td>0</td>\n",
              "      <td>0</td>\n",
              "      <td>0</td>\n",
              "      <td>0.0</td>\n",
              "      <td>15.0</td>\n",
              "      <td>0.1152</td>\n",
              "      <td>0</td>\n",
              "      <td>0</td>\n",
              "      <td>0</td>\n",
              "      <td>...</td>\n",
              "      <td>0</td>\n",
              "      <td>0</td>\n",
              "      <td>0</td>\n",
              "      <td>0</td>\n",
              "      <td>0</td>\n",
              "      <td>0</td>\n",
              "      <td>0</td>\n",
              "      <td>0</td>\n",
              "      <td>0</td>\n",
              "      <td>0</td>\n",
              "      <td>0</td>\n",
              "      <td>1</td>\n",
              "      <td>0</td>\n",
              "      <td>0</td>\n",
              "      <td>0</td>\n",
              "      <td>0</td>\n",
              "      <td>0</td>\n",
              "      <td>0</td>\n",
              "      <td>0</td>\n",
              "      <td>0</td>\n",
              "      <td>0</td>\n",
              "      <td>0</td>\n",
              "      <td>0</td>\n",
              "      <td>0</td>\n",
              "      <td>1</td>\n",
              "      <td>1</td>\n",
              "      <td>0</td>\n",
              "      <td>0</td>\n",
              "      <td>0</td>\n",
              "      <td>0</td>\n",
              "      <td>0</td>\n",
              "      <td>0</td>\n",
              "      <td>0</td>\n",
              "      <td>0</td>\n",
              "      <td>0</td>\n",
              "      <td>0</td>\n",
              "      <td>0</td>\n",
              "      <td>0</td>\n",
              "      <td>0</td>\n",
              "      <td>1</td>\n",
              "    </tr>\n",
              "    <tr>\n",
              "      <th>3</th>\n",
              "      <td>809314</td>\n",
              "      <td>7.0</td>\n",
              "      <td>2.9161</td>\n",
              "      <td>0.3000</td>\n",
              "      <td>0</td>\n",
              "      <td>0</td>\n",
              "      <td>1.0</td>\n",
              "      <td>5.0</td>\n",
              "      <td>7</td>\n",
              "      <td>12</td>\n",
              "      <td>1</td>\n",
              "      <td>12</td>\n",
              "      <td>5</td>\n",
              "      <td>11</td>\n",
              "      <td>12</td>\n",
              "      <td>18</td>\n",
              "      <td>4</td>\n",
              "      <td>1.000</td>\n",
              "      <td>0.000</td>\n",
              "      <td>52.4910</td>\n",
              "      <td>35.0</td>\n",
              "      <td>19.0254</td>\n",
              "      <td>0.830</td>\n",
              "      <td>1</td>\n",
              "      <td>1</td>\n",
              "      <td>13.5</td>\n",
              "      <td>1.4802</td>\n",
              "      <td>1</td>\n",
              "      <td>1</td>\n",
              "      <td>0</td>\n",
              "      <td>0</td>\n",
              "      <td>0</td>\n",
              "      <td>0</td>\n",
              "      <td>0</td>\n",
              "      <td>5.0</td>\n",
              "      <td>19.0</td>\n",
              "      <td>0.2366</td>\n",
              "      <td>0</td>\n",
              "      <td>0</td>\n",
              "      <td>0</td>\n",
              "      <td>...</td>\n",
              "      <td>0</td>\n",
              "      <td>0</td>\n",
              "      <td>0</td>\n",
              "      <td>0</td>\n",
              "      <td>0</td>\n",
              "      <td>0</td>\n",
              "      <td>0</td>\n",
              "      <td>0</td>\n",
              "      <td>0</td>\n",
              "      <td>0</td>\n",
              "      <td>0</td>\n",
              "      <td>0</td>\n",
              "      <td>0</td>\n",
              "      <td>1</td>\n",
              "      <td>0</td>\n",
              "      <td>0</td>\n",
              "      <td>0</td>\n",
              "      <td>0</td>\n",
              "      <td>0</td>\n",
              "      <td>0</td>\n",
              "      <td>1</td>\n",
              "      <td>0</td>\n",
              "      <td>0</td>\n",
              "      <td>0</td>\n",
              "      <td>0</td>\n",
              "      <td>0</td>\n",
              "      <td>1</td>\n",
              "      <td>0</td>\n",
              "      <td>0</td>\n",
              "      <td>0</td>\n",
              "      <td>0</td>\n",
              "      <td>0</td>\n",
              "      <td>0</td>\n",
              "      <td>0</td>\n",
              "      <td>0</td>\n",
              "      <td>0</td>\n",
              "      <td>0</td>\n",
              "      <td>0</td>\n",
              "      <td>0</td>\n",
              "      <td>0</td>\n",
              "    </tr>\n",
              "    <tr>\n",
              "      <th>4</th>\n",
              "      <td>1069627</td>\n",
              "      <td>0.0</td>\n",
              "      <td>0.4674</td>\n",
              "      <td>0.7715</td>\n",
              "      <td>0</td>\n",
              "      <td>0</td>\n",
              "      <td>1.4</td>\n",
              "      <td>7.0</td>\n",
              "      <td>61</td>\n",
              "      <td>61</td>\n",
              "      <td>2</td>\n",
              "      <td>2</td>\n",
              "      <td>2</td>\n",
              "      <td>3</td>\n",
              "      <td>2</td>\n",
              "      <td>3</td>\n",
              "      <td>0</td>\n",
              "      <td>0.500</td>\n",
              "      <td>0.000</td>\n",
              "      <td>1.4021</td>\n",
              "      <td>16.0</td>\n",
              "      <td>1.4021</td>\n",
              "      <td>0.875</td>\n",
              "      <td>1</td>\n",
              "      <td>1</td>\n",
              "      <td>3.5</td>\n",
              "      <td>1.3385</td>\n",
              "      <td>1</td>\n",
              "      <td>0</td>\n",
              "      <td>0</td>\n",
              "      <td>0</td>\n",
              "      <td>0</td>\n",
              "      <td>0</td>\n",
              "      <td>0</td>\n",
              "      <td>3.0</td>\n",
              "      <td>9.0</td>\n",
              "      <td>0.1022</td>\n",
              "      <td>0</td>\n",
              "      <td>0</td>\n",
              "      <td>0</td>\n",
              "      <td>...</td>\n",
              "      <td>0</td>\n",
              "      <td>0</td>\n",
              "      <td>0</td>\n",
              "      <td>0</td>\n",
              "      <td>0</td>\n",
              "      <td>0</td>\n",
              "      <td>0</td>\n",
              "      <td>0</td>\n",
              "      <td>0</td>\n",
              "      <td>0</td>\n",
              "      <td>0</td>\n",
              "      <td>0</td>\n",
              "      <td>0</td>\n",
              "      <td>0</td>\n",
              "      <td>0</td>\n",
              "      <td>0</td>\n",
              "      <td>0</td>\n",
              "      <td>0</td>\n",
              "      <td>0</td>\n",
              "      <td>0</td>\n",
              "      <td>0</td>\n",
              "      <td>0</td>\n",
              "      <td>0</td>\n",
              "      <td>0</td>\n",
              "      <td>1</td>\n",
              "      <td>1</td>\n",
              "      <td>0</td>\n",
              "      <td>0</td>\n",
              "      <td>0</td>\n",
              "      <td>0</td>\n",
              "      <td>0</td>\n",
              "      <td>0</td>\n",
              "      <td>0</td>\n",
              "      <td>0</td>\n",
              "      <td>0</td>\n",
              "      <td>0</td>\n",
              "      <td>0</td>\n",
              "      <td>0</td>\n",
              "      <td>0</td>\n",
              "      <td>1</td>\n",
              "    </tr>\n",
              "  </tbody>\n",
              "</table>\n",
              "<p>5 rows × 108 columns</p>\n",
              "</div>"
            ],
            "text/plain": [
              "        id  acc_open_past_24mths  ...  term_ 60 months  results_Fully Paid\n",
              "0  1294383                   5.0  ...                0                   1\n",
              "1  1876502                   0.0  ...                0                   1\n",
              "2   954710                   0.0  ...                0                   1\n",
              "3   809314                   7.0  ...                0                   0\n",
              "4  1069627                   0.0  ...                0                   1\n",
              "\n",
              "[5 rows x 108 columns]"
            ]
          },
          "metadata": {
            "tags": []
          },
          "execution_count": 2
        }
      ]
    },
    {
      "cell_type": "code",
      "metadata": {
        "id": "rRmw4w81cKS1",
        "colab_type": "code",
        "colab": {}
      },
      "source": [
        "back_up=original_d.copy()"
      ],
      "execution_count": 0,
      "outputs": []
    },
    {
      "cell_type": "markdown",
      "metadata": {
        "id": "J1pkvts8c-6n",
        "colab_type": "text"
      },
      "source": [
        "## 1.1 Assigned Final Features and Split Features and Results \n",
        "\n",
        "**Final Features:** \n",
        "\n",
        "  'term_ 60 months', 'acc_open_past_24mths', 'dti_all', 'total_acc', 'bc_open_to_buy', 'inq_last_6mths', 'home_ownership_RENT','loan_amnt', 'if_cur_il', 'percent_bc_gt_75', 'avg_cur_bal','verification_status_all', 'if_delinq_2yrs', 'purpose_credit_card','purpose_small_business', 'mort_acc_all', 'home_ownership_OWN'"
      ]
    },
    {
      "cell_type": "code",
      "metadata": {
        "id": "xvVJQZXajW1f",
        "colab_type": "code",
        "colab": {}
      },
      "source": [
        "# Split dependent variables and independent variables\n",
        "X_train = original_d.loc[:,['term_ 60 months', 'acc_open_past_24mths',\n",
        "                            'dti_all', 'total_acc', 'bc_open_to_buy',\n",
        "                            'inq_last_6mths', 'home_ownership_RENT',\n",
        "                            'loan_amnt', 'if_cur_il', 'percent_bc_gt_75',\n",
        "                            'avg_cur_bal','verification_status_all',\n",
        "                            'if_delinq_2yrs', 'purpose_credit_card',\n",
        "                            'purpose_small_business', 'mort_acc_all',\n",
        "                            'home_ownership_OWN']]\n",
        "\n",
        "y_train = original_d.iloc[:,-1]"
      ],
      "execution_count": 0,
      "outputs": []
    },
    {
      "cell_type": "markdown",
      "metadata": {
        "id": "WxCSnu9YebkO",
        "colab_type": "text"
      },
      "source": [
        "## 1.2 Prepare Two Sets of Data for Prediction\n",
        "  The new_sets has the same observations as old_sets and it's balanced \n",
        "- Data set used to derive final features (Index: old_sets)\n",
        "- Data set newly generated (Index: new_sets)"
      ]
    },
    {
      "cell_type": "code",
      "metadata": {
        "id": "92pjvWrXRVXG",
        "colab_type": "code",
        "colab": {}
      },
      "source": [
        "# Transform old_sets from dataframe to list\n",
        "old_sets=list()\n",
        "for i in range(5):\n",
        "  old_sets.append(np.array(old_set.iloc[i,].dropna().astype(int)))"
      ],
      "execution_count": 0,
      "outputs": []
    },
    {
      "cell_type": "code",
      "metadata": {
        "id": "6xNUItEUXnUp",
        "colab_type": "code",
        "outputId": "6c59d017-d1c3-4d0b-c6fb-eea7bbef0bf9",
        "colab": {
          "base_uri": "https://localhost:8080/",
          "height": 102
        }
      },
      "source": [
        "old_sets"
      ],
      "execution_count": 6,
      "outputs": [
        {
          "output_type": "execute_result",
          "data": {
            "text/plain": [
              "[array([ 91022, 191017,  70630, ..., 140822, 112110, 159035]),\n",
              " array([248018, 307905, 231109, ..., 356897, 353748, 403616]),\n",
              " array([592380, 522196, 440446, ..., 440262, 476290, 446821]),\n",
              " array([806043, 825605, 724397, ..., 813870, 800119, 760516]),\n",
              " array([1005551,  999835,  998141, ...,  923349, 1025448,  900250])]"
            ]
          },
          "metadata": {
            "tags": []
          },
          "execution_count": 6
        }
      ]
    },
    {
      "cell_type": "code",
      "metadata": {
        "id": "U-V5L_d-XIi5",
        "colab_type": "code",
        "colab": {
          "base_uri": "https://localhost:8080/",
          "height": 459
        },
        "outputId": "4383bc89-079c-451a-d75a-bc75ba86c27d"
      },
      "source": [
        "# Generate new data sets, e.g. randomize the index again\n",
        "# This time, the random seed was set as 24. Steps shown below:\n",
        "\n",
        "# Step 1: Seperate fully-paid and charged-off loans from the orignal dataset\n",
        "fully_paid=original_d.loc[original_d['results_Fully Paid']==1,:]\n",
        "charge_off=original_d.loc[original_d['results_Fully Paid']==0,:]\n",
        "\n",
        "# Step 2: Break down the data into 5 sets for cross-validation.\n",
        "\n",
        "fp=np.array_split(np.array(fully_paid.index),5) #fp: Fully-Paid\n",
        "cf=np.array_split(np.array(charge_off.index),5) #cf: Charge-Off \n",
        "\n",
        "# Step 3: Random select from fully-paid sets\n",
        "\n",
        "i = 0\n",
        "print('Target Size: ',len(cf[0]))\n",
        "for i in range(5):\n",
        "  print('Set {}'.format(i+1))\n",
        "  print('Before Sample: ',len(fp[i]))\n",
        "  np.random.seed(24) # Randome seed is 24\n",
        "  fp[i]=np.random.choice(fp[i],len(cf[0]))\n",
        "  print('After Sample: ',len(fp[i]))\n",
        "\n",
        "# Step 4: Merge both results, so they are equel weights\n",
        "\n",
        "i = 0\n",
        "new_sets=list()\n",
        "for i in range(5):\n",
        "  print('Set {}'.format(i+1))\n",
        "  new_sets.append(np.concatenate((fp[i],cf[i]),axis=None))\n",
        "  print('Set Size: ',len(new_sets[i]))\n",
        "\n",
        "# Step 5: Shuffle the observations in the dataset for\n",
        "# cross validation with a certain random seed\n",
        "for i in range(5):\n",
        "  np.random.seed(20+i)\n",
        "  np.random.shuffle(new_sets[i])"
      ],
      "execution_count": 7,
      "outputs": [
        {
          "output_type": "stream",
          "text": [
            "Target Size:  42025\n",
            "Set 1\n",
            "Before Sample:  166993\n",
            "After Sample:  42025\n",
            "Set 2\n",
            "Before Sample:  166993\n",
            "After Sample:  42025\n",
            "Set 3\n",
            "Before Sample:  166993\n",
            "After Sample:  42025\n",
            "Set 4\n",
            "Before Sample:  166992\n",
            "After Sample:  42025\n",
            "Set 5\n",
            "Before Sample:  166992\n",
            "After Sample:  42025\n",
            "Set 1\n",
            "Set Size:  84050\n",
            "Set 2\n",
            "Set Size:  84050\n",
            "Set 3\n",
            "Set Size:  84049\n",
            "Set 4\n",
            "Set Size:  84049\n",
            "Set 5\n",
            "Set Size:  84049\n"
          ],
          "name": "stdout"
        }
      ]
    },
    {
      "cell_type": "code",
      "metadata": {
        "id": "igWTJbB8bPoE",
        "colab_type": "code",
        "outputId": "3d046842-7e64-49de-9624-c614fccb0d07",
        "colab": {
          "base_uri": "https://localhost:8080/",
          "height": 102
        }
      },
      "source": [
        "new_sets"
      ],
      "execution_count": 8,
      "outputs": [
        {
          "output_type": "execute_result",
          "data": {
            "text/plain": [
              "[array([ 91022, 191017,  70630, ...,  94622,  10672, 108698]),\n",
              " array([417104, 266387, 231109, ..., 356897, 353748, 403616]),\n",
              " array([600119, 522196, 465440, ..., 459701, 595666, 489826]),\n",
              " array([765058, 825605, 724397, ..., 650180, 800119, 716235]),\n",
              " array([ 955676,  946701,  853853, ...,  923349, 1025448,  861136])]"
            ]
          },
          "metadata": {
            "tags": []
          },
          "execution_count": 8
        }
      ]
    },
    {
      "cell_type": "code",
      "metadata": {
        "id": "zl_FBblPcvGw",
        "colab_type": "code",
        "outputId": "3c5552fd-9766-4fdf-b354-6da693d114b9",
        "colab": {
          "base_uri": "https://localhost:8080/",
          "height": 357
        }
      },
      "source": [
        "# Check if the data are balanced\n",
        "for i in range (5):\n",
        "  print('New Set {}'.format(i+1))\n",
        "  print(original_d.iloc[new_sets[i],:]['results_Fully Paid'].value_counts())"
      ],
      "execution_count": 9,
      "outputs": [
        {
          "output_type": "stream",
          "text": [
            "New Set 1\n",
            "1    42025\n",
            "0    42025\n",
            "Name: results_Fully Paid, dtype: int64\n",
            "New Set 2\n",
            "1    42025\n",
            "0    42025\n",
            "Name: results_Fully Paid, dtype: int64\n",
            "New Set 3\n",
            "1    42025\n",
            "0    42024\n",
            "Name: results_Fully Paid, dtype: int64\n",
            "New Set 4\n",
            "1    42025\n",
            "0    42024\n",
            "Name: results_Fully Paid, dtype: int64\n",
            "New Set 5\n",
            "1    42025\n",
            "0    42024\n",
            "Name: results_Fully Paid, dtype: int64\n"
          ],
          "name": "stdout"
        }
      ]
    },
    {
      "cell_type": "markdown",
      "metadata": {
        "id": "0Iq1hIn7fvAq",
        "colab_type": "text"
      },
      "source": [
        "## 1.3 Construct Training and Validation Indexes for Cross Validation\n",
        "This same indexes are applied to both sets (new and old) as the indexes within both sets are different and the dimension of the sets are the same as well."
      ]
    },
    {
      "cell_type": "code",
      "metadata": {
        "id": "XueQ-Ffyc4_1",
        "colab_type": "code",
        "outputId": "4beedc4d-f99f-4423-ea08-ec37a6fbe0f5",
        "colab": {
          "base_uri": "https://localhost:8080/",
          "height": 102
        }
      },
      "source": [
        "# Generate training and validating indexes within each sets\n",
        "# It's ok to use the same index in new and old sets, as they are already randomized\n",
        "# Split into training and validate data folds\n",
        "# Set up the kfolds model in different sets\n",
        "# So in total, we have 25 folds validating results\n",
        "from sklearn.model_selection import StratifiedKFold\n",
        "\n",
        "fold_train_index=list()\n",
        "fold_validate_index=list()\n",
        "\n",
        "for i in range(5):\n",
        "  \n",
        "  # The split doesn't randomize the data\n",
        "  skf = StratifiedKFold(n_splits=5)\n",
        "  skf.get_n_splits(X_train.iloc[old_sets[i],:],y_train[old_sets[i]])\n",
        "  skf.split(X_train.iloc[old_sets[i],:],y_train[old_sets[i]])\n",
        "  skf.get_n_splits(X_train.iloc[old_sets[i],:],y_train[old_sets[i]])\n",
        "  print(skf)\n",
        "\n",
        "  # n=1\n",
        "  \n",
        "  # Extracting the index of training and validating in each fold\n",
        "  for train_index,validate_index in skf.split(X_train.iloc[old_sets[i],:],y_train[old_sets[i]]):\n",
        "    # print('{}/5 Fold in Set {}'.format(n,i+1)) # print the progress\n",
        "    fold_train_index.append(train_index)\n",
        "    fold_validate_index.append(validate_index)\n",
        "    # n+=1\n",
        "\n",
        "  # print('Set {} Ends'.format(i+1)) # print the progress"
      ],
      "execution_count": 10,
      "outputs": [
        {
          "output_type": "stream",
          "text": [
            "StratifiedKFold(n_splits=5, random_state=None, shuffle=False)\n",
            "StratifiedKFold(n_splits=5, random_state=None, shuffle=False)\n",
            "StratifiedKFold(n_splits=5, random_state=None, shuffle=False)\n",
            "StratifiedKFold(n_splits=5, random_state=None, shuffle=False)\n",
            "StratifiedKFold(n_splits=5, random_state=None, shuffle=False)\n"
          ],
          "name": "stdout"
        }
      ]
    },
    {
      "cell_type": "markdown",
      "metadata": {
        "id": "JOuE0TphmCs8",
        "colab_type": "text"
      },
      "source": [
        "#2. Model Construction and Prediction\n",
        "\n",
        "1. Process:\n",
        "This process will be seperately applied in the old data set and the new data set that prepared in 1.2 section.\n",
        "\n",
        "  >Step 1: Define the Classifier, Logistic Regression\n",
        "\n",
        "  >Step 2: Train the Model with Data in Train Folds\n",
        "\n",
        "  >Step 3: Derive Coefficients for Features\n",
        "\n",
        "  >Step 4: Predit Fully-Paid and Baseline Probability\n",
        "    - Fully-Paid Probability in Validation Folds\n",
        "    - Baseline Probability for the Model\n",
        "\n",
        "2. Outcome\n",
        "- Feature Coefficients in each model\n",
        "- Fully-Paid Probability for each validation folds"
      ]
    },
    {
      "cell_type": "code",
      "metadata": {
        "id": "-xGt9s_BkT-4",
        "colab_type": "code",
        "colab": {}
      },
      "source": [
        "from sklearn.linear_model import LogisticRegression"
      ],
      "execution_count": 0,
      "outputs": []
    },
    {
      "cell_type": "code",
      "metadata": {
        "id": "HP1cr3xurXEV",
        "colab_type": "code",
        "colab": {}
      },
      "source": [
        "# prepare two datasets for storing feature coefficients\n",
        "old_sets_coefficient=pd.DataFrame(index=range(25),columns=X_train.columns)\n",
        "new_sets_coefficient=pd.DataFrame(index=range(25),columns=X_train.columns)"
      ],
      "execution_count": 0,
      "outputs": []
    },
    {
      "cell_type": "code",
      "metadata": {
        "id": "hl1c1vC-I_k_",
        "colab_type": "code",
        "colab": {}
      },
      "source": [
        "# The baseline application represents every column has zero value\n",
        "baseline=pd.DataFrame(np.array([0]*17),index=X_train.columns).T"
      ],
      "execution_count": 0,
      "outputs": []
    },
    {
      "cell_type": "code",
      "metadata": {
        "id": "h9fnB19npEeS",
        "colab_type": "code",
        "colab": {}
      },
      "source": [
        "# For old data set\n",
        "old_fully_paid_prob=list()\n",
        "old_baseline_prob=list()\n",
        "\n",
        "for i in range (5):\n",
        "  for n in range(5):\n",
        "    m=i*5+n\n",
        "    # Step 1: Define the Classifier, Logistic Regression\n",
        "    classifier = LogisticRegression(random_state=0,max_iter=2000000)\n",
        "    \n",
        "    # Step 2: Train the Model with Data in Train Folds\n",
        "    classifier.fit(X_train.iloc[old_sets[i]].iloc[fold_train_index[m]],\n",
        "               y_train.iloc[old_sets[i]].iloc[fold_train_index[m]])\n",
        "    \n",
        "    # Step 3: Derive Coefficients for Features\n",
        "    old_sets_coefficient.iloc[m,:]=classifier.coef_\n",
        "\n",
        "    # Step 4: Predit Fully-Paid Probability in Validation Folds and the baseline probability\n",
        "    old_fully_paid_prob.append(classifier.predict_proba(X_train.iloc[old_sets[i]].iloc[fold_validate_index[m]])[:,1])\n",
        "    old_baseline_prob.append(classifier.predict_proba(baseline)[:,1])"
      ],
      "execution_count": 0,
      "outputs": []
    },
    {
      "cell_type": "code",
      "metadata": {
        "id": "Io_bheMFFU8O",
        "colab_type": "code",
        "colab": {}
      },
      "source": [
        "# For new data set\n",
        "new_fully_paid_prob=list()\n",
        "new_baseline_prob=list()\n",
        "\n",
        "for i in range (5):\n",
        "  for n in range(5):\n",
        "    m=i*5+n\n",
        "    # Step 1: Define the Classifier, Logistic Regression\n",
        "    classifier = LogisticRegression(random_state=0,max_iter=2000000)\n",
        "    \n",
        "    # Step 2: Train the Model with Data in Train Folds\n",
        "    classifier.fit(X_train.iloc[new_sets[i]].iloc[fold_train_index[m]],\n",
        "               y_train.iloc[new_sets[i]].iloc[fold_train_index[m]])\n",
        "    \n",
        "    # Step 3: Derive Coefficients for Features\n",
        "    new_sets_coefficient.iloc[m,:]=classifier.coef_\n",
        "\n",
        "    # Step 4: Predit Fully-Paid Probability in Validation Folds\n",
        "    new_fully_paid_prob.append(classifier.predict_proba(X_train.iloc[new_sets[i]].iloc[fold_validate_index[m]])[:,1])\n",
        "    new_baseline_prob.append(classifier.predict_proba(baseline)[:,1])"
      ],
      "execution_count": 0,
      "outputs": []
    },
    {
      "cell_type": "code",
      "metadata": {
        "id": "Y19p8XT3lOg1",
        "colab_type": "code",
        "colab": {}
      },
      "source": [
        "# Convert old_fully_paid_prob & new_fully_paid_prob to dataframe\n",
        "old_fully_paid_prob=pd.DataFrame(old_fully_paid_prob,index=range(1,26)).T\n",
        "new_fully_paid_prob=pd.DataFrame(new_fully_paid_prob,index=range(1,26)).T"
      ],
      "execution_count": 0,
      "outputs": []
    },
    {
      "cell_type": "markdown",
      "metadata": {
        "id": "YNrLc5lvz2Nd",
        "colab_type": "text"
      },
      "source": [
        "##1.3 Model Understanding\n",
        "- **Baseline Probability:** Models built based on both data sets have the same baseline probability, 78%. This baseline probability represents a scenario that:\n",
        "  > **Loan Information:** The loan is:\n",
        "  - term_60_mths: a 30-month term loan\n",
        "  - loan_amnt: 0 amount\n",
        "  - purpose_scredit_card & purpose_small_business: the purpose of the loan is neither for credit card nor samll business\n",
        "  \n",
        "  > **Borrower's Credit History:** At the time of the applicaiton, the borrower:\n",
        "   - dti_all: owns zero debt (weighted average between borrower and co-borrower)\n",
        "   - acc_open_past_24_mths: opened no account in past 24 months\n",
        "   - total_acc: no credit lines in borrower's current credit file\n",
        "   - bc_open_to_buy: zero available credit to use (zero open-to-buy)\n",
        "   - inq_last_6mths: no inquiry (exclude mortgage and auto) in past 6 months\n",
        "   - if_cur_il: no current installment account\n",
        "   - percent_bc_gt_75: no bank account's used credit greater than 75% of credit limit\n",
        "   - avg_cur_bal: zero average current balance amount\n",
        "   - if_delinq_2yrs: no delinquncy history in past 2 years\n",
        "   - mort_acc_all: no mortage account (All borrowers)\n",
        "\n",
        "   >**Borrower's Other Info:**\n",
        "   - home_ownership_RENT & home_ownership_OWN: the borrower doesn't own nor rent the home\n",
        "   - verification_status_all: borrower's income hasn't been verified (All borrowers)\n",
        "\n",
        "- **Feature Impacts:** As we can see in below plot (titled: Old vs. New Coefficients), based on both data sets, the coefficent for each feature is similar, so we can conclude that the impact of each feature on fully-paid probability can be broadly applied to all the loans. Below shows features positive or negative impact the fully-paid probability.\n",
        "\n",
        "  > **Positive Impact:** 'total_acc', 'bc_open_to_buy', 'avg_cur_bal', 'purpose_credit_card', 'mort_acc_all'\n",
        "\n",
        "  > **Negative Impact:** 'term_ 60 months', 'acc_open_past_24mths', 'dti_all', 'inq_last_6mths', 'home_ownership_RENT', 'loan_amnt', 'if_cur_il', 'percent_bc_gt_75', 'verification_status_all', 'if_delinq_2yrs', 'purpose_small_business', 'home_ownership_OWN'"
      ]
    },
    {
      "cell_type": "code",
      "metadata": {
        "id": "2fOfF9Hq2Ngq",
        "colab_type": "code",
        "colab": {
          "base_uri": "https://localhost:8080/",
          "height": 71
        },
        "outputId": "969dfb0c-04f6-46f9-d5cd-bc463619ab9d"
      },
      "source": [
        "import matplotlib.pyplot as plt\n",
        "import seaborn as sns\n",
        "sns.set()"
      ],
      "execution_count": 17,
      "outputs": [
        {
          "output_type": "stream",
          "text": [
            "/usr/local/lib/python3.6/dist-packages/statsmodels/tools/_testing.py:19: FutureWarning: pandas.util.testing is deprecated. Use the functions in the public API at pandas.testing instead.\n",
            "  import pandas.util.testing as tm\n"
          ],
          "name": "stderr"
        }
      ]
    },
    {
      "cell_type": "code",
      "metadata": {
        "id": "_EX-dxFQErvO",
        "colab_type": "code",
        "outputId": "ba391fe0-2358-4c31-beab-f3a4e5fd7997",
        "colab": {
          "base_uri": "https://localhost:8080/",
          "height": 476
        }
      },
      "source": [
        "plt.figure(figsize=(18,6))\n",
        "# Plot old sets coefficient\n",
        "plt.boxplot(old_sets_coefficient, labels=old_sets_coefficient)\n",
        "# Plot new sets coefficient\n",
        "plt.boxplot(new_sets_coefficient, labels=new_sets_coefficient)\n",
        "plt.title('Old vs. New Coefficients')\n",
        "plt.xticks(rotation = 30)\n",
        "plt.show"
      ],
      "execution_count": 18,
      "outputs": [
        {
          "output_type": "execute_result",
          "data": {
            "text/plain": [
              "<function matplotlib.pyplot.show>"
            ]
          },
          "metadata": {
            "tags": []
          },
          "execution_count": 18
        },
        {
          "output_type": "display_data",
          "data": {
            "image/png": "[encoded data removed]",
            "text/plain": [
              "<Figure size 1296x432 with 1 Axes>"
            ]
          },
          "metadata": {
            "tags": []
          }
        }
      ]
    },
    {
      "cell_type": "code",
      "metadata": {
        "id": "DhJlMr9S-SEt",
        "colab_type": "code",
        "outputId": "7f510646-1a85-42dd-d9fb-c104d4542752",
        "colab": {
          "base_uri": "https://localhost:8080/",
          "height": 187
        }
      },
      "source": [
        "print('Old Positive Impact Features: ')\n",
        "print(old_sets_coefficient.columns[old_sets_coefficient.mean()>0].values)\n",
        "print('\\n')\n",
        "print('Old Negative Impact Features: ')\n",
        "print(old_sets_coefficient.columns[old_sets_coefficient.mean()<0].values)"
      ],
      "execution_count": 19,
      "outputs": [
        {
          "output_type": "stream",
          "text": [
            "Old Positive Impact Features: \n",
            "['total_acc' 'bc_open_to_buy' 'avg_cur_bal' 'purpose_credit_card'\n",
            " 'mort_acc_all']\n",
            "\n",
            "\n",
            "Old Negative Impact Features: \n",
            "['term_ 60 months' 'acc_open_past_24mths' 'dti_all' 'inq_last_6mths'\n",
            " 'home_ownership_RENT' 'loan_amnt' 'if_cur_il' 'percent_bc_gt_75'\n",
            " 'verification_status_all' 'if_delinq_2yrs' 'purpose_small_business'\n",
            " 'home_ownership_OWN']\n"
          ],
          "name": "stdout"
        }
      ]
    },
    {
      "cell_type": "code",
      "metadata": {
        "id": "JHXb0WE_CNe3",
        "colab_type": "code",
        "outputId": "7a93b0ee-bdd2-48d9-a99c-416288f5cdbb",
        "colab": {
          "base_uri": "https://localhost:8080/",
          "height": 187
        }
      },
      "source": [
        "print('New Positive Impact Features: ')\n",
        "print(new_sets_coefficient.columns[new_sets_coefficient.mean()>0].values)\n",
        "print('\\n')\n",
        "print('New Negative Impact Features: ')\n",
        "print(new_sets_coefficient.columns[new_sets_coefficient.mean()<0].values)"
      ],
      "execution_count": 20,
      "outputs": [
        {
          "output_type": "stream",
          "text": [
            "New Positive Impact Features: \n",
            "['total_acc' 'bc_open_to_buy' 'avg_cur_bal' 'purpose_credit_card'\n",
            " 'mort_acc_all']\n",
            "\n",
            "\n",
            "New Negative Impact Features: \n",
            "['term_ 60 months' 'acc_open_past_24mths' 'dti_all' 'inq_last_6mths'\n",
            " 'home_ownership_RENT' 'loan_amnt' 'if_cur_il' 'percent_bc_gt_75'\n",
            " 'verification_status_all' 'if_delinq_2yrs' 'purpose_small_business'\n",
            " 'home_ownership_OWN']\n"
          ],
          "name": "stdout"
        }
      ]
    },
    {
      "cell_type": "code",
      "metadata": {
        "id": "y2P_ZRQRVWG3",
        "colab_type": "code",
        "outputId": "656a6a1e-d47d-49be-e8d0-ca961c69eb54",
        "colab": {
          "base_uri": "https://localhost:8080/",
          "height": 51
        }
      },
      "source": [
        "print( \"Old Baseline Probability: %0.2f (+/- %0.2f)\" % (pd.DataFrame(old_baseline_prob).mean(), \n",
        "                              pd.DataFrame(old_baseline_prob).std() * 2))\n",
        "print( \"New Baseline Probability: %0.2f (+/- %0.2f)\" % (pd.DataFrame(new_baseline_prob).mean(), \n",
        "                              pd.DataFrame(new_baseline_prob).std() * 2))"
      ],
      "execution_count": 21,
      "outputs": [
        {
          "output_type": "stream",
          "text": [
            "Old Baseline Probability: 0.78 (+/- 0.01)\n",
            "New Baseline Probability: 0.78 (+/- 0.01)\n"
          ],
          "name": "stdout"
        }
      ]
    },
    {
      "cell_type": "code",
      "metadata": {
        "id": "pGc-RfDERwnQ",
        "colab_type": "code",
        "outputId": "8a05e7e8-b63b-4688-b88c-b7d4536a6d4a",
        "colab": {
          "base_uri": "https://localhost:8080/",
          "height": 410
        }
      },
      "source": [
        "# Plot old sets Fully Paid Probability\n",
        "plt.figure(figsize=(18,6))\n",
        "plt.boxplot(old_fully_paid_prob,\n",
        "            labels=old_fully_paid_prob)\n",
        "plt.title('Old Sets Fully Paid Probability')\n",
        "plt.show"
      ],
      "execution_count": 22,
      "outputs": [
        {
          "output_type": "execute_result",
          "data": {
            "text/plain": [
              "<function matplotlib.pyplot.show>"
            ]
          },
          "metadata": {
            "tags": []
          },
          "execution_count": 22
        },
        {
          "output_type": "display_data",
          "data": {
            "image/png": "[encoded data removed]",
            "text/plain": [
              "<Figure size 1296x432 with 1 Axes>"
            ]
          },
          "metadata": {
            "tags": []
          }
        }
      ]
    },
    {
      "cell_type": "code",
      "metadata": {
        "id": "1iBLWlZVFXbK",
        "colab_type": "code",
        "outputId": "0c7f3c8d-f7df-4565-8633-52e4679ca4fe",
        "colab": {
          "base_uri": "https://localhost:8080/",
          "height": 410
        }
      },
      "source": [
        "# Plot new sets Fully Paid Probability\n",
        "plt.figure(figsize=(18,6))\n",
        "plt.boxplot(new_fully_paid_prob,\n",
        "            labels=new_fully_paid_prob)\n",
        "plt.title('New Sets Fully Paid Probability')\n",
        "plt.show"
      ],
      "execution_count": 23,
      "outputs": [
        {
          "output_type": "execute_result",
          "data": {
            "text/plain": [
              "<function matplotlib.pyplot.show>"
            ]
          },
          "metadata": {
            "tags": []
          },
          "execution_count": 23
        },
        {
          "output_type": "display_data",
          "data": {
            "image/png": "[encoded data removed]",
            "text/plain": [
              "<Figure size 1296x432 with 1 Axes>"
            ]
          },
          "metadata": {
            "tags": []
          }
        }
      ]
    },
    {
      "cell_type": "markdown",
      "metadata": {
        "id": "PnhG3xduvlgk",
        "colab_type": "text"
      },
      "source": [
        "##1.4 Business Impact Analysis\n",
        "1. Repayment Rate of the Loans\n",
        "  - Calculate and Check the Repayment Rates\n",
        "  - Convert Unreasonable Data to Reasonable Range\n",
        "\n",
        "2. Analyze Repayment Rates on Different Grades\n",
        "  - Classify Grades Based on the Fully-Paid Probability in both old dataset and new dataset\n",
        "  - Repayment Rates Comparison\n"
      ]
    },
    {
      "cell_type": "markdown",
      "metadata": {
        "id": "8SQkjXEq1L9B",
        "colab_type": "text"
      },
      "source": [
        "### 1.4.1 Repayment Rate of the Loans\n",
        ">1. Calculate and Check Repayment Rates\n",
        "Checking if the repayment rate is in the range of 0 to 1.\n",
        "- Check if the repayment rates are in the reasonable range.\n",
        "  - Negative Repayment Rate: 0\n",
        "  - Greater than 1: 104\n",
        "- Investigate the unreasonable loans.\n",
        "  - Total_rec_prnp are 1 cent greater than loan_amnt, likely an data entry error\n",
        "- Handle the repayment rate outside the reasonable range\n",
        "  - Converting all the repayment rate greater than 1 to 1\n",
        "\n",
        ">2. Convert unreasonable data to reasonal range\n",
        "After convertion, all the repayment rate are in the range"
      ]
    },
    {
      "cell_type": "code",
      "metadata": {
        "id": "7IgaLaS5zitw",
        "colab_type": "code",
        "colab": {}
      },
      "source": [
        "training=pd.read_csv('/content/drive/My Drive/Lending Club/Final Data/training.csv', low_memory=False)"
      ],
      "execution_count": 0,
      "outputs": []
    },
    {
      "cell_type": "code",
      "metadata": {
        "id": "4FkUDwfu1b8O",
        "colab_type": "code",
        "colab": {}
      },
      "source": [
        "repayment_rate=training.total_rec_prncp/training.loan_amnt"
      ],
      "execution_count": 0,
      "outputs": []
    },
    {
      "cell_type": "code",
      "metadata": {
        "id": "RKDfVXXO1eiQ",
        "colab_type": "code",
        "outputId": "bd157bcb-9faf-458b-e498-2435d317b8ca",
        "colab": {
          "base_uri": "https://localhost:8080/",
          "height": 51
        }
      },
      "source": [
        "# Checking if the repayment_rate is in the range of 0 and 1\n",
        "print(' Negative Repayment Rate: ',sum(repayment_rate<0),\n",
        "      '\\n','Repayment Rate Greater than 1: ', sum(repayment_rate>1))"
      ],
      "execution_count": 26,
      "outputs": [
        {
          "output_type": "stream",
          "text": [
            " Negative Repayment Rate:  0 \n",
            " Repayment Rate Greater than 1:  104\n"
          ],
          "name": "stdout"
        }
      ]
    },
    {
      "cell_type": "code",
      "metadata": {
        "id": "GLm43Rct1gaf",
        "colab_type": "code",
        "outputId": "2e7b8a9b-175d-49e8-f429-3ffcfccc909b",
        "colab": {
          "base_uri": "https://localhost:8080/",
          "height": 204
        }
      },
      "source": [
        "# Checking why the repayment rate is greater than 1 \n",
        "# by exploring the data in relevant columns\n",
        "training.loc[repayment_rate>1,['total_rec_prncp','loan_amnt','results','id']].head()"
      ],
      "execution_count": 27,
      "outputs": [
        {
          "output_type": "execute_result",
          "data": {
            "text/html": [
              "<div>\n",
              "<style scoped>\n",
              "    .dataframe tbody tr th:only-of-type {\n",
              "        vertical-align: middle;\n",
              "    }\n",
              "\n",
              "    .dataframe tbody tr th {\n",
              "        vertical-align: top;\n",
              "    }\n",
              "\n",
              "    .dataframe thead th {\n",
              "        text-align: right;\n",
              "    }\n",
              "</style>\n",
              "<table border=\"1\" class=\"dataframe\">\n",
              "  <thead>\n",
              "    <tr style=\"text-align: right;\">\n",
              "      <th></th>\n",
              "      <th>total_rec_prncp</th>\n",
              "      <th>loan_amnt</th>\n",
              "      <th>results</th>\n",
              "      <th>id</th>\n",
              "    </tr>\n",
              "  </thead>\n",
              "  <tbody>\n",
              "    <tr>\n",
              "      <th>7997</th>\n",
              "      <td>10000.01</td>\n",
              "      <td>10000</td>\n",
              "      <td>Fully Paid</td>\n",
              "      <td>2112923</td>\n",
              "    </tr>\n",
              "    <tr>\n",
              "      <th>8569</th>\n",
              "      <td>16000.01</td>\n",
              "      <td>16000</td>\n",
              "      <td>Fully Paid</td>\n",
              "      <td>2110668</td>\n",
              "    </tr>\n",
              "    <tr>\n",
              "      <th>10156</th>\n",
              "      <td>6250.01</td>\n",
              "      <td>6250</td>\n",
              "      <td>Fully Paid</td>\n",
              "      <td>2127375</td>\n",
              "    </tr>\n",
              "    <tr>\n",
              "      <th>10184</th>\n",
              "      <td>5000.01</td>\n",
              "      <td>5000</td>\n",
              "      <td>Fully Paid</td>\n",
              "      <td>2120599</td>\n",
              "    </tr>\n",
              "    <tr>\n",
              "      <th>12270</th>\n",
              "      <td>20000.01</td>\n",
              "      <td>20000</td>\n",
              "      <td>Fully Paid</td>\n",
              "      <td>2118567</td>\n",
              "    </tr>\n",
              "  </tbody>\n",
              "</table>\n",
              "</div>"
            ],
            "text/plain": [
              "       total_rec_prncp  loan_amnt     results       id\n",
              "7997          10000.01      10000  Fully Paid  2112923\n",
              "8569          16000.01      16000  Fully Paid  2110668\n",
              "10156          6250.01       6250  Fully Paid  2127375\n",
              "10184          5000.01       5000  Fully Paid  2120599\n",
              "12270         20000.01      20000  Fully Paid  2118567"
            ]
          },
          "metadata": {
            "tags": []
          },
          "execution_count": 27
        }
      ]
    },
    {
      "cell_type": "code",
      "metadata": {
        "id": "xkYD1Xgj1jV3",
        "colab_type": "code",
        "colab": {}
      },
      "source": [
        "# As all the unreasonable rates are beyond the upper bound\n",
        "# To convert all the unreasonable rates to 1 in original dataset\n",
        "repayment_rate[repayment_rate>1]=1"
      ],
      "execution_count": 0,
      "outputs": []
    },
    {
      "cell_type": "code",
      "metadata": {
        "id": "_vs-WAtv2U48",
        "colab_type": "code",
        "outputId": "fed27342-e2c8-496b-f033-0ce982ad9016",
        "colab": {
          "base_uri": "https://localhost:8080/",
          "height": 51
        }
      },
      "source": [
        "# Checking agian if the repayment_rate is in the range of 0 and 1\n",
        "print(' Negative Repayment Rate: ',sum(repayment_rate<0),\n",
        "      '\\n','Repayment Rate Greater than 1: ', sum(repayment_rate>1))"
      ],
      "execution_count": 29,
      "outputs": [
        {
          "output_type": "stream",
          "text": [
            " Negative Repayment Rate:  0 \n",
            " Repayment Rate Greater than 1:  0\n"
          ],
          "name": "stdout"
        }
      ]
    },
    {
      "cell_type": "code",
      "metadata": {
        "id": "tY1ho_jL3fRG",
        "colab_type": "code",
        "colab": {}
      },
      "source": [
        "training['repayment_rate']=repayment_rate"
      ],
      "execution_count": 0,
      "outputs": []
    },
    {
      "cell_type": "markdown",
      "metadata": {
        "id": "6ByLLmb20yUF",
        "colab_type": "text"
      },
      "source": [
        "Repayment per Grades:\n",
        "Grade   | Original   | New Sets | Old Sets\n",
        "---     |   ---      |    ---   |   ---\n",
        "**A**   | 0.963604   | 0.822118 | 0.822118\n",
        "**B**   | 0.910177   | 0.844263 | 0.844263\n",
        "**C**   | 0.838059   | 0.843298 | 0.843298\n",
        "**D**   | 0.762764   | 0.844646 | 0.844646\n",
        "**E**   | 0.690444   | 0.845629 | 0.845629\n",
        "**F**   | 0.621071   | 0.843385 | 0.843385\n",
        "**G**   | 0.577815   | 0.843655 | 0.843655\n",
        "**Decline** |            | 0.834440 | 0.834440\n"
      ]
    },
    {
      "cell_type": "markdown",
      "metadata": {
        "id": "r_T-vYwZiUqH",
        "colab_type": "text"
      },
      "source": [
        "###1.4.2 Analyze Repayment Rates on Different Grades\n",
        "  - Classify Grades Based on the Fully-Paid Probability in both old dataset and new dataset\n",
        "  - Repayment Rates Comparison\n",
        "    - Overall Grades Repayment Rates\n",
        "    - Old Datasets Grades Repayment Rates\n",
        "    - New Datasets Grades Repayment Rates\n",
        "\n",
        "The grades that we classified will be the same as the original grades used, and additional to the grades, we also include a declined category indicating the low fully paid probability. The grades and fully-paid probability are:\n",
        "  - A [87.5%, 100%]\n",
        "  - B [75%, 87.5%)\n",
        "  - C [62.5%, 75%)\n",
        "  - D [50%, 62.5%)\n",
        "  - E [37.5%, 50)\n",
        "  - F [25%, 37.5%)\n",
        "  - G [12.5%, 25%)\n",
        "  - Decline [0,12.5%)\n",
        "\n",
        "As the result shows in below, the new grading based on the probability of fully paid doesn't yield a better repayment rate in each reclassed grades. The new grading doesn't defferentiate the credit risks, and this may be caused by:\n",
        "\n",
        "1. The model need to be improved in terms of feature selection\n",
        "2. Information availability, the original data set doesn't have credit score as original grading was built based on credit score.\n",
        "3. Logistic regression is not the best way to make the classification, and other methods, such as random forest and SVM can be explored.\n",
        "\n",
        "Repayment per Grades:\n",
        "Grade   | Original   | New Sets | Old Sets\n",
        "---     |   ---      |    ---   |   ---\n",
        "**A**   | 0.963604   | 0.822118 | 0.822118\n",
        "**B**   | 0.910177   | 0.844263 | 0.844263\n",
        "**C**   | 0.838059   | 0.843298 | 0.843298\n",
        "**D**   | 0.762764   | 0.844646 | 0.844646\n",
        "**E**   | 0.690444   | 0.845629 | 0.845629\n",
        "**F**   | 0.621071   | 0.843385 | 0.843385\n",
        "**G**   | 0.577815   | 0.843655 | 0.843655\n",
        "**Decline** |            | 0.834440 | 0.834440\n"
      ]
    },
    {
      "cell_type": "code",
      "metadata": {
        "id": "Lnm_Dfr9jncG",
        "colab_type": "code",
        "outputId": "11cd8ea8-84b9-45e3-fef2-4cd5fc7e62fd",
        "colab": {
          "base_uri": "https://localhost:8080/",
          "height": 102
        }
      },
      "source": [
        "old_sets"
      ],
      "execution_count": 45,
      "outputs": [
        {
          "output_type": "execute_result",
          "data": {
            "text/plain": [
              "[array([ 91022, 191017,  70630, ..., 140822, 112110, 159035]),\n",
              " array([248018, 307905, 231109, ..., 356897, 353748, 403616]),\n",
              " array([592380, 522196, 440446, ..., 440262, 476290, 446821]),\n",
              " array([806043, 825605, 724397, ..., 813870, 800119, 760516]),\n",
              " array([1005551,  999835,  998141, ...,  923349, 1025448,  900250])]"
            ]
          },
          "metadata": {
            "tags": []
          },
          "execution_count": 45
        }
      ]
    },
    {
      "cell_type": "code",
      "metadata": {
        "id": "dqJ3NYd_jvT0",
        "colab_type": "code",
        "outputId": "1c7db429-9a0c-4c9b-9f4c-3191ff7b6315",
        "colab": {
          "base_uri": "https://localhost:8080/",
          "height": 102
        }
      },
      "source": [
        "new_sets"
      ],
      "execution_count": 32,
      "outputs": [
        {
          "output_type": "execute_result",
          "data": {
            "text/plain": [
              "[array([ 91022, 191017,  70630, ...,  94622,  10672, 108698]),\n",
              " array([417104, 266387, 231109, ..., 356897, 353748, 403616]),\n",
              " array([600119, 522196, 465440, ..., 459701, 595666, 489826]),\n",
              " array([765058, 825605, 724397, ..., 650180, 800119, 716235]),\n",
              " array([ 955676,  946701,  853853, ...,  923349, 1025448,  861136])]"
            ]
          },
          "metadata": {
            "tags": []
          },
          "execution_count": 32
        }
      ]
    },
    {
      "cell_type": "code",
      "metadata": {
        "id": "jENh4nIKjwHG",
        "colab_type": "code",
        "colab": {}
      },
      "source": [
        "# Old data sets\n",
        "A_old=list()\n",
        "B_old=list()\n",
        "C_old=list()\n",
        "D_old=list()\n",
        "E_old=list()\n",
        "F_old=list()\n",
        "G_old=list()\n",
        "Decline_old=list()\n",
        "for i in range(1,26):\n",
        "  A_old.append(np.where(old_fully_paid_prob.loc[:,i]>=0.875))\n",
        "  B_old.append(np.where((old_fully_paid_prob.loc[:,i]>=0.75) & (old_fully_paid_prob.loc[:,i]<0.875)))\n",
        "  C_old.append(np.where((old_fully_paid_prob.loc[:,i]>=0.625) & (old_fully_paid_prob.loc[:,i]<0.75)))\n",
        "  D_old.append(np.where((old_fully_paid_prob.loc[:,i]>=0.5) & (old_fully_paid_prob.loc[:,i]<0.625)))\n",
        "  E_old.append(np.where((old_fully_paid_prob.loc[:,i]>=0.375) & (old_fully_paid_prob.loc[:,i]<0.5)))\n",
        "  F_old.append(np.where((old_fully_paid_prob.loc[:,i]>=0.25) & (old_fully_paid_prob.loc[:,i]<0.375)))\n",
        "  G_old.append(np.where((old_fully_paid_prob.loc[:,i]>=0.125) & (old_fully_paid_prob.loc[:,i]<0.25)))\n",
        "  Decline_old.append(np.where(old_fully_paid_prob.loc[:,i]<0.125))\n",
        "\n",
        "new_grades_old=pd.DataFrame(index=old_fully_paid_prob.index,columns=old_fully_paid_prob.columns)\n",
        "for i in range(1,26):\n",
        "  new_grades_old.loc[:,i].iloc[A_old[i-1]]='A'\n",
        "  new_grades_old.loc[:,i].iloc[B_old[i-1]]='B'\n",
        "  new_grades_old.loc[:,i].iloc[C_old[i-1]]='C'\n",
        "  new_grades_old.loc[:,i].iloc[D_old[i-1]]='D'\n",
        "  new_grades_old.loc[:,i].iloc[E_old[i-1]]='E'\n",
        "  new_grades_old.loc[:,i].iloc[F_old[i-1]]='F'\n",
        "  new_grades_old.loc[:,i].iloc[G_old[i-1]]='G'\n",
        "  new_grades_old.loc[:,i].iloc[Decline_old[i-1]]='Decline'"
      ],
      "execution_count": 0,
      "outputs": []
    },
    {
      "cell_type": "code",
      "metadata": {
        "id": "IUSG_B-knfmc",
        "colab_type": "code",
        "colab": {}
      },
      "source": [
        "# New data sets\n",
        "A_new=list()\n",
        "B_new=list()\n",
        "C_new=list()\n",
        "D_new=list()\n",
        "E_new=list()\n",
        "F_new=list()\n",
        "G_new=list()\n",
        "Decline_new=list()\n",
        "for i in range(1,26):\n",
        "  A_new.append(np.where(new_fully_paid_prob.loc[:,i]>=0.875))\n",
        "  B_new.append(np.where((new_fully_paid_prob.loc[:,i]>=0.75) & (new_fully_paid_prob.loc[:,i]<0.875)))\n",
        "  C_new.append(np.where((new_fully_paid_prob.loc[:,i]>=0.625) & (new_fully_paid_prob.loc[:,i]<0.75)))\n",
        "  D_new.append(np.where((new_fully_paid_prob.loc[:,i]>=0.5) & (new_fully_paid_prob.loc[:,i]<0.625)))\n",
        "  E_new.append(np.where((new_fully_paid_prob.loc[:,i]>=0.375) & (new_fully_paid_prob.loc[:,i]<0.5)))\n",
        "  F_new.append(np.where((new_fully_paid_prob.loc[:,i]>=0.25) & (new_fully_paid_prob.loc[:,i]<0.375)))\n",
        "  G_new.append(np.where((new_fully_paid_prob.loc[:,i]>=0.125) & (new_fully_paid_prob.loc[:,i]<0.25)))\n",
        "  Decline_new.append(np.where(new_fully_paid_prob.loc[:,i]<0.125))\n",
        "\n",
        "new_grades_new=pd.DataFrame(index=new_fully_paid_prob.index,columns=new_fully_paid_prob.columns)\n",
        "for i in range(1,26):\n",
        "  new_grades_new.loc[:,i].iloc[A_new[i-1]]='A'\n",
        "  new_grades_new.loc[:,i].iloc[B_new[i-1]]='B'\n",
        "  new_grades_new.loc[:,i].iloc[C_new[i-1]]='C'\n",
        "  new_grades_new.loc[:,i].iloc[D_new[i-1]]='D'\n",
        "  new_grades_new.loc[:,i].iloc[E_new[i-1]]='E'\n",
        "  new_grades_new.loc[:,i].iloc[F_new[i-1]]='F'\n",
        "  new_grades_new.loc[:,i].iloc[G_new[i-1]]='G'\n",
        "  new_grades_new.loc[:,i].iloc[Decline_new[i-1]]='Decline'"
      ],
      "execution_count": 0,
      "outputs": []
    },
    {
      "cell_type": "code",
      "metadata": {
        "id": "XGxqVsDrmPTF",
        "colab_type": "code",
        "colab": {}
      },
      "source": [
        "repayment_rate_new_grade=pd.DataFrame()\n",
        "\n",
        "for i in range(5):\n",
        "  for n in range(5):\n",
        "    m=i*5+n\n",
        "    # Repayment Rate for Each Grade\n",
        "    \n",
        "    # Old total received principle\n",
        "    total_principle_repaid_old=training.iloc[old_sets[i]].iloc[fold_validate_index[m]].loc[:,['total_rec_prncp']]\n",
        "    total_principle_repaid_old.loc[:,'new_grades_old']=list(new_grades_old[m+1].dropna())\n",
        "    total_principle_repaid_old=total_principle_repaid_old.groupby(by='new_grades_old').sum().total_rec_prncp\n",
        "\n",
        "    # Old total loan amount\n",
        "    total_loan_amount_old=training.iloc[old_sets[i]].iloc[fold_validate_index[m]].loc[:,['loan_amnt']]\n",
        "    total_loan_amount_old.loc[:,'new_grade_old']=list(new_grades_old[m+1].dropna())\n",
        "    total_loan_amount_old=total_loan_amount_old.groupby(by='new_grade_old').sum().loan_amnt\n",
        "\n",
        "    set_repayment_rate=total_principle_repaid_old/total_loan_amount_old\n",
        "\n",
        "    repayment_rate_new_grade[m]=set_repayment_rate\n",
        "\n",
        "repayment_rate_new_grade=repayment_rate_new_grade.T"
      ],
      "execution_count": 0,
      "outputs": []
    },
    {
      "cell_type": "code",
      "metadata": {
        "id": "LtDtPE-H79d4",
        "colab_type": "code",
        "colab": {
          "base_uri": "https://localhost:8080/",
          "height": 348
        },
        "outputId": "865417da-bf13-4462-c33a-763169a3e615"
      },
      "source": [
        "repayment_rate_new_grade"
      ],
      "execution_count": 42,
      "outputs": [
        {
          "output_type": "execute_result",
          "data": {
            "text/html": [
              "<div>\n",
              "<style scoped>\n",
              "    .dataframe tbody tr th:only-of-type {\n",
              "        vertical-align: middle;\n",
              "    }\n",
              "\n",
              "    .dataframe tbody tr th {\n",
              "        vertical-align: top;\n",
              "    }\n",
              "\n",
              "    .dataframe thead th {\n",
              "        text-align: right;\n",
              "    }\n",
              "</style>\n",
              "<table border=\"1\" class=\"dataframe\">\n",
              "  <thead>\n",
              "    <tr style=\"text-align: right;\">\n",
              "      <th></th>\n",
              "      <th>0</th>\n",
              "      <th>1</th>\n",
              "      <th>2</th>\n",
              "      <th>3</th>\n",
              "      <th>4</th>\n",
              "      <th>5</th>\n",
              "      <th>6</th>\n",
              "      <th>7</th>\n",
              "      <th>8</th>\n",
              "      <th>9</th>\n",
              "      <th>10</th>\n",
              "      <th>11</th>\n",
              "      <th>12</th>\n",
              "      <th>13</th>\n",
              "      <th>14</th>\n",
              "      <th>15</th>\n",
              "      <th>16</th>\n",
              "      <th>17</th>\n",
              "      <th>18</th>\n",
              "      <th>19</th>\n",
              "      <th>20</th>\n",
              "      <th>21</th>\n",
              "      <th>22</th>\n",
              "      <th>23</th>\n",
              "      <th>24</th>\n",
              "    </tr>\n",
              "    <tr>\n",
              "      <th>new_grades_new</th>\n",
              "      <th></th>\n",
              "      <th></th>\n",
              "      <th></th>\n",
              "      <th></th>\n",
              "      <th></th>\n",
              "      <th></th>\n",
              "      <th></th>\n",
              "      <th></th>\n",
              "      <th></th>\n",
              "      <th></th>\n",
              "      <th></th>\n",
              "      <th></th>\n",
              "      <th></th>\n",
              "      <th></th>\n",
              "      <th></th>\n",
              "      <th></th>\n",
              "      <th></th>\n",
              "      <th></th>\n",
              "      <th></th>\n",
              "      <th></th>\n",
              "      <th></th>\n",
              "      <th></th>\n",
              "      <th></th>\n",
              "      <th></th>\n",
              "      <th></th>\n",
              "    </tr>\n",
              "  </thead>\n",
              "  <tbody>\n",
              "    <tr>\n",
              "      <th>A</th>\n",
              "      <td>0.807680</td>\n",
              "      <td>0.724329</td>\n",
              "      <td>0.814330</td>\n",
              "      <td>0.886121</td>\n",
              "      <td>0.783925</td>\n",
              "      <td>0.869057</td>\n",
              "      <td>0.836115</td>\n",
              "      <td>0.813517</td>\n",
              "      <td>0.836514</td>\n",
              "      <td>0.868902</td>\n",
              "      <td>0.860780</td>\n",
              "      <td>0.853970</td>\n",
              "      <td>0.845501</td>\n",
              "      <td>0.784273</td>\n",
              "      <td>0.787079</td>\n",
              "      <td>0.731874</td>\n",
              "      <td>0.885750</td>\n",
              "      <td>0.856656</td>\n",
              "      <td>0.859234</td>\n",
              "      <td>0.801237</td>\n",
              "      <td>0.785727</td>\n",
              "      <td>0.790511</td>\n",
              "      <td>0.833841</td>\n",
              "      <td>0.792697</td>\n",
              "      <td>0.843336</td>\n",
              "    </tr>\n",
              "    <tr>\n",
              "      <th>B</th>\n",
              "      <td>0.828205</td>\n",
              "      <td>0.834047</td>\n",
              "      <td>0.858159</td>\n",
              "      <td>0.832567</td>\n",
              "      <td>0.858926</td>\n",
              "      <td>0.840676</td>\n",
              "      <td>0.813272</td>\n",
              "      <td>0.848629</td>\n",
              "      <td>0.860171</td>\n",
              "      <td>0.848056</td>\n",
              "      <td>0.844979</td>\n",
              "      <td>0.857517</td>\n",
              "      <td>0.824960</td>\n",
              "      <td>0.836589</td>\n",
              "      <td>0.868324</td>\n",
              "      <td>0.860031</td>\n",
              "      <td>0.831646</td>\n",
              "      <td>0.839796</td>\n",
              "      <td>0.846275</td>\n",
              "      <td>0.852627</td>\n",
              "      <td>0.834626</td>\n",
              "      <td>0.822652</td>\n",
              "      <td>0.846234</td>\n",
              "      <td>0.852231</td>\n",
              "      <td>0.865372</td>\n",
              "    </tr>\n",
              "    <tr>\n",
              "      <th>C</th>\n",
              "      <td>0.844630</td>\n",
              "      <td>0.844302</td>\n",
              "      <td>0.832886</td>\n",
              "      <td>0.831166</td>\n",
              "      <td>0.838478</td>\n",
              "      <td>0.841215</td>\n",
              "      <td>0.844697</td>\n",
              "      <td>0.844078</td>\n",
              "      <td>0.848003</td>\n",
              "      <td>0.841904</td>\n",
              "      <td>0.837600</td>\n",
              "      <td>0.828473</td>\n",
              "      <td>0.848886</td>\n",
              "      <td>0.839313</td>\n",
              "      <td>0.844589</td>\n",
              "      <td>0.861725</td>\n",
              "      <td>0.846796</td>\n",
              "      <td>0.841552</td>\n",
              "      <td>0.841537</td>\n",
              "      <td>0.850875</td>\n",
              "      <td>0.828596</td>\n",
              "      <td>0.848806</td>\n",
              "      <td>0.840904</td>\n",
              "      <td>0.854063</td>\n",
              "      <td>0.857389</td>\n",
              "    </tr>\n",
              "    <tr>\n",
              "      <th>D</th>\n",
              "      <td>0.849350</td>\n",
              "      <td>0.845256</td>\n",
              "      <td>0.848048</td>\n",
              "      <td>0.844390</td>\n",
              "      <td>0.839208</td>\n",
              "      <td>0.846643</td>\n",
              "      <td>0.837979</td>\n",
              "      <td>0.842525</td>\n",
              "      <td>0.844003</td>\n",
              "      <td>0.847968</td>\n",
              "      <td>0.840137</td>\n",
              "      <td>0.852198</td>\n",
              "      <td>0.840666</td>\n",
              "      <td>0.838768</td>\n",
              "      <td>0.836894</td>\n",
              "      <td>0.836943</td>\n",
              "      <td>0.856877</td>\n",
              "      <td>0.841118</td>\n",
              "      <td>0.846409</td>\n",
              "      <td>0.840959</td>\n",
              "      <td>0.845608</td>\n",
              "      <td>0.851760</td>\n",
              "      <td>0.840760</td>\n",
              "      <td>0.848258</td>\n",
              "      <td>0.853434</td>\n",
              "    </tr>\n",
              "    <tr>\n",
              "      <th>Decline</th>\n",
              "      <td>0.749093</td>\n",
              "      <td>0.860046</td>\n",
              "      <td>0.803992</td>\n",
              "      <td>0.810784</td>\n",
              "      <td>0.915813</td>\n",
              "      <td>0.942246</td>\n",
              "      <td>0.778976</td>\n",
              "      <td>0.789643</td>\n",
              "      <td>0.779824</td>\n",
              "      <td>0.839926</td>\n",
              "      <td>0.870376</td>\n",
              "      <td>0.835114</td>\n",
              "      <td>0.847104</td>\n",
              "      <td>0.841098</td>\n",
              "      <td>0.798577</td>\n",
              "      <td>0.860298</td>\n",
              "      <td>0.818646</td>\n",
              "      <td>0.936889</td>\n",
              "      <td>0.751562</td>\n",
              "      <td>0.830226</td>\n",
              "      <td>0.835136</td>\n",
              "      <td>0.849703</td>\n",
              "      <td>0.795446</td>\n",
              "      <td>0.863463</td>\n",
              "      <td>0.857009</td>\n",
              "    </tr>\n",
              "    <tr>\n",
              "      <th>E</th>\n",
              "      <td>0.851049</td>\n",
              "      <td>0.843256</td>\n",
              "      <td>0.842765</td>\n",
              "      <td>0.840076</td>\n",
              "      <td>0.849151</td>\n",
              "      <td>0.854804</td>\n",
              "      <td>0.849734</td>\n",
              "      <td>0.842364</td>\n",
              "      <td>0.855253</td>\n",
              "      <td>0.847065</td>\n",
              "      <td>0.843571</td>\n",
              "      <td>0.840098</td>\n",
              "      <td>0.838233</td>\n",
              "      <td>0.849822</td>\n",
              "      <td>0.840164</td>\n",
              "      <td>0.842174</td>\n",
              "      <td>0.856029</td>\n",
              "      <td>0.844489</td>\n",
              "      <td>0.837903</td>\n",
              "      <td>0.847013</td>\n",
              "      <td>0.844448</td>\n",
              "      <td>0.837267</td>\n",
              "      <td>0.847736</td>\n",
              "      <td>0.844101</td>\n",
              "      <td>0.852149</td>\n",
              "    </tr>\n",
              "    <tr>\n",
              "      <th>F</th>\n",
              "      <td>0.843462</td>\n",
              "      <td>0.842369</td>\n",
              "      <td>0.836527</td>\n",
              "      <td>0.846064</td>\n",
              "      <td>0.847825</td>\n",
              "      <td>0.833571</td>\n",
              "      <td>0.850827</td>\n",
              "      <td>0.848008</td>\n",
              "      <td>0.840451</td>\n",
              "      <td>0.834033</td>\n",
              "      <td>0.855759</td>\n",
              "      <td>0.848604</td>\n",
              "      <td>0.842590</td>\n",
              "      <td>0.841329</td>\n",
              "      <td>0.849940</td>\n",
              "      <td>0.844802</td>\n",
              "      <td>0.852656</td>\n",
              "      <td>0.837979</td>\n",
              "      <td>0.839655</td>\n",
              "      <td>0.842349</td>\n",
              "      <td>0.834123</td>\n",
              "      <td>0.843296</td>\n",
              "      <td>0.836769</td>\n",
              "      <td>0.857065</td>\n",
              "      <td>0.834582</td>\n",
              "    </tr>\n",
              "    <tr>\n",
              "      <th>G</th>\n",
              "      <td>0.838342</td>\n",
              "      <td>0.833120</td>\n",
              "      <td>0.859329</td>\n",
              "      <td>0.845324</td>\n",
              "      <td>0.844186</td>\n",
              "      <td>0.843236</td>\n",
              "      <td>0.842485</td>\n",
              "      <td>0.834504</td>\n",
              "      <td>0.835502</td>\n",
              "      <td>0.861374</td>\n",
              "      <td>0.841940</td>\n",
              "      <td>0.830580</td>\n",
              "      <td>0.827552</td>\n",
              "      <td>0.829474</td>\n",
              "      <td>0.828879</td>\n",
              "      <td>0.849558</td>\n",
              "      <td>0.856251</td>\n",
              "      <td>0.851409</td>\n",
              "      <td>0.867348</td>\n",
              "      <td>0.833947</td>\n",
              "      <td>0.841063</td>\n",
              "      <td>0.830837</td>\n",
              "      <td>0.856500</td>\n",
              "      <td>0.848352</td>\n",
              "      <td>0.860289</td>\n",
              "    </tr>\n",
              "  </tbody>\n",
              "</table>\n",
              "</div>"
            ],
            "text/plain": [
              "                      0         1         2   ...        22        23        24\n",
              "new_grades_new                                ...                              \n",
              "A               0.807680  0.724329  0.814330  ...  0.833841  0.792697  0.843336\n",
              "B               0.828205  0.834047  0.858159  ...  0.846234  0.852231  0.865372\n",
              "C               0.844630  0.844302  0.832886  ...  0.840904  0.854063  0.857389\n",
              "D               0.849350  0.845256  0.848048  ...  0.840760  0.848258  0.853434\n",
              "Decline         0.749093  0.860046  0.803992  ...  0.795446  0.863463  0.857009\n",
              "E               0.851049  0.843256  0.842765  ...  0.847736  0.844101  0.852149\n",
              "F               0.843462  0.842369  0.836527  ...  0.836769  0.857065  0.834582\n",
              "G               0.838342  0.833120  0.859329  ...  0.856500  0.848352  0.860289\n",
              "\n",
              "[8 rows x 25 columns]"
            ]
          },
          "metadata": {
            "tags": []
          },
          "execution_count": 42
        }
      ]
    },
    {
      "cell_type": "code",
      "metadata": {
        "id": "DZegA9KKt-gC",
        "colab_type": "code",
        "outputId": "ebb099d5-467c-43d0-9902-4236c9bbe881",
        "colab": {
          "base_uri": "https://localhost:8080/",
          "height": 187
        }
      },
      "source": [
        "repayment_rate_new_grade.T.mean()"
      ],
      "execution_count": 44,
      "outputs": [
        {
          "output_type": "execute_result",
          "data": {
            "text/plain": [
              "new_grades_new\n",
              "A          0.822118\n",
              "B          0.844263\n",
              "C          0.843298\n",
              "D          0.844646\n",
              "Decline    0.834440\n",
              "E          0.845629\n",
              "F          0.843385\n",
              "G          0.843655\n",
              "dtype: float64"
            ]
          },
          "metadata": {
            "tags": []
          },
          "execution_count": 44
        }
      ]
    },
    {
      "cell_type": "code",
      "metadata": {
        "id": "AgTjVFoG1wY4",
        "colab_type": "code",
        "outputId": "6aa1e3e9-229c-48b4-9bdf-301f1a765fec",
        "colab": {
          "base_uri": "https://localhost:8080/",
          "height": 170
        }
      },
      "source": [
        "repayment_rate_original_grade=pd.DataFrame()\n",
        "\n",
        "for i in range(5):\n",
        "  for n in range(5):\n",
        "    m=i*5+n\n",
        "    # Repayment Rate for Each Grade\n",
        "    \n",
        "    # Old total received principle\n",
        "    total_principle_repaid=training.iloc[old_sets[i]].iloc[fold_validate_index[m]].loc[:,['total_rec_prncp','grade']]\n",
        "    # total_principle_repaid.loc[:,'new_grades_old']=list(new_grades_old[m+1].dropna())\n",
        "    total_principle_repaid=total_principle_repaid.groupby(by='grade').sum().total_rec_prncp\n",
        "\n",
        "    # Old total loan amount\n",
        "    total_loan_amount=training.iloc[old_sets[i]].iloc[fold_validate_index[m]].loc[:,['loan_amnt','grade']]\n",
        "    # total_loan_amount.loc[:,'new_grade_old']=list(new_grades_old[m+1].dropna())\n",
        "    total_loan_amount=total_loan_amount.groupby(by='grade').sum().loan_amnt\n",
        "\n",
        "    set_repayment_rate=total_principle_repaid/total_loan_amount\n",
        "\n",
        "    repayment_rate_original_grade[m]=set_repayment_rate\n",
        "\n",
        "repayment_rate_original_grade.T.mean()"
      ],
      "execution_count": 40,
      "outputs": [
        {
          "output_type": "execute_result",
          "data": {
            "text/plain": [
              "grade\n",
              "A    0.963604\n",
              "B    0.910177\n",
              "C    0.838059\n",
              "D    0.762764\n",
              "E    0.690444\n",
              "F    0.621071\n",
              "G    0.577815\n",
              "dtype: float64"
            ]
          },
          "metadata": {
            "tags": []
          },
          "execution_count": 40
        }
      ]
    },
    {
      "cell_type": "code",
      "metadata": {
        "id": "WAxmw2S12pZH",
        "colab_type": "code",
        "colab": {}
      },
      "source": [
        "repayment_rate_new_grade=pd.DataFrame()\n",
        "\n",
        "for i in range(5):\n",
        "  for n in range(5):\n",
        "    m=i*5+n\n",
        "    # Repayment Rate for Each Grade\n",
        "    \n",
        "    # New total received principle\n",
        "    total_principle_repaid=training.iloc[new_sets[i]].iloc[fold_validate_index[m]].loc[:,['total_rec_prncp']]\n",
        "    total_principle_repaid.loc[:,'new_grades_new']=list(new_grades_new[m+1].dropna())\n",
        "    total_principle_repaid=total_principle_repaid.groupby(by='new_grades_new').sum().total_rec_prncp\n",
        "\n",
        "    # Old total loan amount\n",
        "    total_loan_amount=training.iloc[new_sets[i]].iloc[fold_validate_index[m]].loc[:,['loan_amnt']]\n",
        "    total_loan_amount.loc[:,'new_grades_new']=list(new_grades_new[m+1].dropna())\n",
        "    total_loan_amount=total_loan_amount.groupby(by='new_grades_new').sum().loan_amnt\n",
        "\n",
        "    set_repayment_rate=total_principle_repaid/total_loan_amount\n",
        "\n",
        "    repayment_rate_new_grade[m]=set_repayment_rate\n",
        "\n",
        "repayment_rate_new_grade.T.mean()"
      ],
      "execution_count": 0,
      "outputs": []
    },
    {
      "cell_type": "code",
      "metadata": {
        "id": "vW8goaLZ0TFr",
        "colab_type": "code",
        "colab": {
          "base_uri": "https://localhost:8080/",
          "height": 187
        },
        "outputId": "cb6a5136-e040-400a-ec75-099c927bb1c7"
      },
      "source": [
        "repayment_rate_new_grade.T.mean()"
      ],
      "execution_count": 47,
      "outputs": [
        {
          "output_type": "execute_result",
          "data": {
            "text/plain": [
              "new_grades_new\n",
              "A          0.822118\n",
              "B          0.844263\n",
              "C          0.843298\n",
              "D          0.844646\n",
              "Decline    0.834440\n",
              "E          0.845629\n",
              "F          0.843385\n",
              "G          0.843655\n",
              "dtype: float64"
            ]
          },
          "metadata": {
            "tags": []
          },
          "execution_count": 47
        }
      ]
    }
  ]
}