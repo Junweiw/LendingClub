{
  "nbformat": 4,
  "nbformat_minor": 0,
  "metadata": {
    "colab": {
      "name": "2. Missing Value Analysis and Solutions.ipynb",
      "provenance": [],
      "collapsed_sections": [
        "070LIo-1Utv6",
        "AbBIX1-cbpn0",
        "Z-3E5pr7jUWY",
        "VTM6NToR3nlL",
        "ABnK2pRR7NMT"
      ]
    },
    "kernelspec": {
      "name": "python3",
      "display_name": "Python 3"
    }
  },
  "cells": [
    {
      "cell_type": "code",
      "metadata": {
        "id": "3roWHlynT98O",
        "colab_type": "code",
        "colab": {
          "base_uri": "https://localhost:8080/",
          "height": 122
        },
        "outputId": "8fe0b7b2-eaab-466c-9824-598c7a25e162"
      },
      "source": [
        "from google.colab import drive\n",
        "drive.mount('/content/drive')"
      ],
      "execution_count": 1,
      "outputs": [
        {
          "output_type": "stream",
          "text": [
            "Go to this URL in a browser: https://accounts.google.com/o/oauth2/auth?client_id=947318989803-6bn6qk8qdgf4n4g3pfee6491hc0brc4i.apps.googleusercontent.com&redirect_uri=urn%3aietf%3awg%3aoauth%3a2.0%3aoob&response_type=code&scope=email%20https%3a%2f%2fwww.googleapis.com%2fauth%2fdocs.test%20https%3a%2f%2fwww.googleapis.com%2fauth%2fdrive%20https%3a%2f%2fwww.googleapis.com%2fauth%2fdrive.photos.readonly%20https%3a%2f%2fwww.googleapis.com%2fauth%2fpeopleapi.readonly\n",
            "\n",
            "Enter your authorization code:\n",
            "··········\n",
            "Mounted at /content/drive\n"
          ],
          "name": "stdout"
        }
      ]
    },
    {
      "cell_type": "code",
      "metadata": {
        "id": "PMzP2yqHZ6mY",
        "colab_type": "code",
        "colab": {}
      },
      "source": [
        "import pandas as pd\n",
        "import numpy as np"
      ],
      "execution_count": 0,
      "outputs": []
    },
    {
      "cell_type": "code",
      "metadata": {
        "id": "36oLFEAOZsaE",
        "colab_type": "code",
        "colab": {}
      },
      "source": [
        "# training: original data\n",
        "# training_tofill: transformed data\n",
        "training=pd.read_csv('/content/drive/My Drive/Colab Notebooks/Lending Club Project_Joint/training.csv')\n",
        "training_tofill=pd.read_csv('/content/drive/My Drive/Colab Notebooks/Lending Club Project_Joint/training_transformed.csv')"
      ],
      "execution_count": 0,
      "outputs": []
    },
    {
      "cell_type": "code",
      "metadata": {
        "id": "8-u6W8-iZ-_g",
        "colab_type": "code",
        "outputId": "9ac776f1-2724-4909-99c6-8bf161b207c9",
        "colab": {
          "base_uri": "https://localhost:8080/",
          "height": 355
        }
      },
      "source": [
        "training.head()"
      ],
      "execution_count": 0,
      "outputs": [
        {
          "output_type": "execute_result",
          "data": {
            "text/html": [
              "<div>\n",
              "<style scoped>\n",
              "    .dataframe tbody tr th:only-of-type {\n",
              "        vertical-align: middle;\n",
              "    }\n",
              "\n",
              "    .dataframe tbody tr th {\n",
              "        vertical-align: top;\n",
              "    }\n",
              "\n",
              "    .dataframe thead th {\n",
              "        text-align: right;\n",
              "    }\n",
              "</style>\n",
              "<table border=\"1\" class=\"dataframe\">\n",
              "  <thead>\n",
              "    <tr style=\"text-align: right;\">\n",
              "      <th></th>\n",
              "      <th>id</th>\n",
              "      <th>loan_amnt</th>\n",
              "      <th>funded_amnt</th>\n",
              "      <th>funded_amnt_inv</th>\n",
              "      <th>term</th>\n",
              "      <th>int_rate</th>\n",
              "      <th>installment</th>\n",
              "      <th>grade</th>\n",
              "      <th>sub_grade</th>\n",
              "      <th>emp_title</th>\n",
              "      <th>emp_length</th>\n",
              "      <th>home_ownership</th>\n",
              "      <th>annual_inc</th>\n",
              "      <th>verification_status</th>\n",
              "      <th>issue_d</th>\n",
              "      <th>pymnt_plan</th>\n",
              "      <th>url</th>\n",
              "      <th>desc</th>\n",
              "      <th>purpose</th>\n",
              "      <th>title</th>\n",
              "      <th>zip_code</th>\n",
              "      <th>addr_state</th>\n",
              "      <th>dti</th>\n",
              "      <th>delinq_2yrs</th>\n",
              "      <th>earliest_cr_line</th>\n",
              "      <th>inq_last_6mths</th>\n",
              "      <th>mths_since_last_delinq</th>\n",
              "      <th>mths_since_last_record</th>\n",
              "      <th>open_acc</th>\n",
              "      <th>pub_rec</th>\n",
              "      <th>revol_bal</th>\n",
              "      <th>revol_util</th>\n",
              "      <th>total_acc</th>\n",
              "      <th>initial_list_status</th>\n",
              "      <th>out_prncp</th>\n",
              "      <th>out_prncp_inv</th>\n",
              "      <th>total_pymnt</th>\n",
              "      <th>total_pymnt_inv</th>\n",
              "      <th>total_rec_prncp</th>\n",
              "      <th>total_rec_int</th>\n",
              "      <th>...</th>\n",
              "      <th>total_bal_ex_mort</th>\n",
              "      <th>total_bc_limit</th>\n",
              "      <th>total_il_high_credit_limit</th>\n",
              "      <th>revol_bal_joint</th>\n",
              "      <th>sec_app_earliest_cr_line</th>\n",
              "      <th>sec_app_inq_last_6mths</th>\n",
              "      <th>sec_app_mort_acc</th>\n",
              "      <th>sec_app_open_acc</th>\n",
              "      <th>sec_app_revol_util</th>\n",
              "      <th>sec_app_open_act_il</th>\n",
              "      <th>sec_app_num_rev_accts</th>\n",
              "      <th>sec_app_chargeoff_within_12_mths</th>\n",
              "      <th>sec_app_collections_12_mths_ex_med</th>\n",
              "      <th>sec_app_mths_since_last_major_derog</th>\n",
              "      <th>hardship_flag</th>\n",
              "      <th>hardship_type</th>\n",
              "      <th>hardship_reason</th>\n",
              "      <th>hardship_status</th>\n",
              "      <th>deferral_term</th>\n",
              "      <th>hardship_amount</th>\n",
              "      <th>hardship_start_date</th>\n",
              "      <th>hardship_end_date</th>\n",
              "      <th>payment_plan_start_date</th>\n",
              "      <th>hardship_length</th>\n",
              "      <th>hardship_dpd</th>\n",
              "      <th>hardship_loan_status</th>\n",
              "      <th>orig_projected_additional_accrued_interest</th>\n",
              "      <th>hardship_payoff_balance_amount</th>\n",
              "      <th>hardship_last_payment_amount</th>\n",
              "      <th>disbursement_method</th>\n",
              "      <th>debt_settlement_flag</th>\n",
              "      <th>debt_settlement_flag_date</th>\n",
              "      <th>settlement_status</th>\n",
              "      <th>settlement_date</th>\n",
              "      <th>settlement_amount</th>\n",
              "      <th>settlement_percentage</th>\n",
              "      <th>settlement_term</th>\n",
              "      <th>results</th>\n",
              "      <th>issue_y</th>\n",
              "      <th>issue_m</th>\n",
              "    </tr>\n",
              "  </thead>\n",
              "  <tbody>\n",
              "    <tr>\n",
              "      <th>0</th>\n",
              "      <td>1294383</td>\n",
              "      <td>12000</td>\n",
              "      <td>12000</td>\n",
              "      <td>12000.0</td>\n",
              "      <td>36 months</td>\n",
              "      <td>7.89</td>\n",
              "      <td>375.43</td>\n",
              "      <td>A</td>\n",
              "      <td>A5</td>\n",
              "      <td>Nurse</td>\n",
              "      <td>2 years</td>\n",
              "      <td>RENT</td>\n",
              "      <td>75000.0</td>\n",
              "      <td>Source Verified</td>\n",
              "      <td>Feb-2015</td>\n",
              "      <td>n</td>\n",
              "      <td>NaN</td>\n",
              "      <td>NaN</td>\n",
              "      <td>debt_consolidation</td>\n",
              "      <td>Debt consolidation</td>\n",
              "      <td>902xx</td>\n",
              "      <td>CA</td>\n",
              "      <td>20.42</td>\n",
              "      <td>0.0</td>\n",
              "      <td>May-2009</td>\n",
              "      <td>0.0</td>\n",
              "      <td>NaN</td>\n",
              "      <td>NaN</td>\n",
              "      <td>6.0</td>\n",
              "      <td>0.0</td>\n",
              "      <td>685</td>\n",
              "      <td>9.5</td>\n",
              "      <td>16.0</td>\n",
              "      <td>w</td>\n",
              "      <td>0.0</td>\n",
              "      <td>0.0</td>\n",
              "      <td>12623.500000</td>\n",
              "      <td>12623.50</td>\n",
              "      <td>12000.00</td>\n",
              "      <td>623.50</td>\n",
              "      <td>...</td>\n",
              "      <td>48690.0</td>\n",
              "      <td>6000.0</td>\n",
              "      <td>56377.0</td>\n",
              "      <td>NaN</td>\n",
              "      <td>NaN</td>\n",
              "      <td>NaN</td>\n",
              "      <td>NaN</td>\n",
              "      <td>NaN</td>\n",
              "      <td>NaN</td>\n",
              "      <td>NaN</td>\n",
              "      <td>NaN</td>\n",
              "      <td>NaN</td>\n",
              "      <td>NaN</td>\n",
              "      <td>NaN</td>\n",
              "      <td>N</td>\n",
              "      <td>NaN</td>\n",
              "      <td>NaN</td>\n",
              "      <td>NaN</td>\n",
              "      <td>NaN</td>\n",
              "      <td>NaN</td>\n",
              "      <td>NaN</td>\n",
              "      <td>NaN</td>\n",
              "      <td>NaN</td>\n",
              "      <td>NaN</td>\n",
              "      <td>NaN</td>\n",
              "      <td>NaN</td>\n",
              "      <td>NaN</td>\n",
              "      <td>NaN</td>\n",
              "      <td>NaN</td>\n",
              "      <td>Cash</td>\n",
              "      <td>N</td>\n",
              "      <td>NaN</td>\n",
              "      <td>NaN</td>\n",
              "      <td>NaN</td>\n",
              "      <td>NaN</td>\n",
              "      <td>NaN</td>\n",
              "      <td>NaN</td>\n",
              "      <td>Fully Paid</td>\n",
              "      <td>2015</td>\n",
              "      <td>Feb</td>\n",
              "    </tr>\n",
              "    <tr>\n",
              "      <th>1</th>\n",
              "      <td>1876502</td>\n",
              "      <td>5000</td>\n",
              "      <td>5000</td>\n",
              "      <td>5000.0</td>\n",
              "      <td>36 months</td>\n",
              "      <td>6.99</td>\n",
              "      <td>154.37</td>\n",
              "      <td>A</td>\n",
              "      <td>A3</td>\n",
              "      <td>equipment operator</td>\n",
              "      <td>8 years</td>\n",
              "      <td>RENT</td>\n",
              "      <td>25000.0</td>\n",
              "      <td>Not Verified</td>\n",
              "      <td>Nov-2014</td>\n",
              "      <td>n</td>\n",
              "      <td>NaN</td>\n",
              "      <td>NaN</td>\n",
              "      <td>debt_consolidation</td>\n",
              "      <td>Debt consolidation</td>\n",
              "      <td>977xx</td>\n",
              "      <td>OR</td>\n",
              "      <td>7.97</td>\n",
              "      <td>0.0</td>\n",
              "      <td>Jul-2006</td>\n",
              "      <td>0.0</td>\n",
              "      <td>NaN</td>\n",
              "      <td>NaN</td>\n",
              "      <td>3.0</td>\n",
              "      <td>0.0</td>\n",
              "      <td>6162</td>\n",
              "      <td>63.5</td>\n",
              "      <td>6.0</td>\n",
              "      <td>f</td>\n",
              "      <td>0.0</td>\n",
              "      <td>0.0</td>\n",
              "      <td>5544.621617</td>\n",
              "      <td>5544.62</td>\n",
              "      <td>5000.00</td>\n",
              "      <td>544.62</td>\n",
              "      <td>...</td>\n",
              "      <td>6162.0</td>\n",
              "      <td>7700.0</td>\n",
              "      <td>0.0</td>\n",
              "      <td>NaN</td>\n",
              "      <td>NaN</td>\n",
              "      <td>NaN</td>\n",
              "      <td>NaN</td>\n",
              "      <td>NaN</td>\n",
              "      <td>NaN</td>\n",
              "      <td>NaN</td>\n",
              "      <td>NaN</td>\n",
              "      <td>NaN</td>\n",
              "      <td>NaN</td>\n",
              "      <td>NaN</td>\n",
              "      <td>N</td>\n",
              "      <td>NaN</td>\n",
              "      <td>NaN</td>\n",
              "      <td>NaN</td>\n",
              "      <td>NaN</td>\n",
              "      <td>NaN</td>\n",
              "      <td>NaN</td>\n",
              "      <td>NaN</td>\n",
              "      <td>NaN</td>\n",
              "      <td>NaN</td>\n",
              "      <td>NaN</td>\n",
              "      <td>NaN</td>\n",
              "      <td>NaN</td>\n",
              "      <td>NaN</td>\n",
              "      <td>NaN</td>\n",
              "      <td>Cash</td>\n",
              "      <td>N</td>\n",
              "      <td>NaN</td>\n",
              "      <td>NaN</td>\n",
              "      <td>NaN</td>\n",
              "      <td>NaN</td>\n",
              "      <td>NaN</td>\n",
              "      <td>NaN</td>\n",
              "      <td>Fully Paid</td>\n",
              "      <td>2014</td>\n",
              "      <td>Nov</td>\n",
              "    </tr>\n",
              "    <tr>\n",
              "      <th>2</th>\n",
              "      <td>954710</td>\n",
              "      <td>4000</td>\n",
              "      <td>4000</td>\n",
              "      <td>4000.0</td>\n",
              "      <td>36 months</td>\n",
              "      <td>9.17</td>\n",
              "      <td>127.52</td>\n",
              "      <td>B</td>\n",
              "      <td>B2</td>\n",
              "      <td>Collector / Biller</td>\n",
              "      <td>6 years</td>\n",
              "      <td>RENT</td>\n",
              "      <td>32000.0</td>\n",
              "      <td>Source Verified</td>\n",
              "      <td>Dec-2015</td>\n",
              "      <td>n</td>\n",
              "      <td>NaN</td>\n",
              "      <td>NaN</td>\n",
              "      <td>credit_card</td>\n",
              "      <td>Credit card refinancing</td>\n",
              "      <td>750xx</td>\n",
              "      <td>TX</td>\n",
              "      <td>11.52</td>\n",
              "      <td>0.0</td>\n",
              "      <td>Sep-2004</td>\n",
              "      <td>0.0</td>\n",
              "      <td>35.0</td>\n",
              "      <td>NaN</td>\n",
              "      <td>10.0</td>\n",
              "      <td>0.0</td>\n",
              "      <td>6312</td>\n",
              "      <td>69.4</td>\n",
              "      <td>18.0</td>\n",
              "      <td>f</td>\n",
              "      <td>0.0</td>\n",
              "      <td>0.0</td>\n",
              "      <td>4588.439074</td>\n",
              "      <td>4588.44</td>\n",
              "      <td>4000.00</td>\n",
              "      <td>588.44</td>\n",
              "      <td>...</td>\n",
              "      <td>6312.0</td>\n",
              "      <td>3700.0</td>\n",
              "      <td>0.0</td>\n",
              "      <td>NaN</td>\n",
              "      <td>NaN</td>\n",
              "      <td>NaN</td>\n",
              "      <td>NaN</td>\n",
              "      <td>NaN</td>\n",
              "      <td>NaN</td>\n",
              "      <td>NaN</td>\n",
              "      <td>NaN</td>\n",
              "      <td>NaN</td>\n",
              "      <td>NaN</td>\n",
              "      <td>NaN</td>\n",
              "      <td>N</td>\n",
              "      <td>NaN</td>\n",
              "      <td>NaN</td>\n",
              "      <td>NaN</td>\n",
              "      <td>NaN</td>\n",
              "      <td>NaN</td>\n",
              "      <td>NaN</td>\n",
              "      <td>NaN</td>\n",
              "      <td>NaN</td>\n",
              "      <td>NaN</td>\n",
              "      <td>NaN</td>\n",
              "      <td>NaN</td>\n",
              "      <td>NaN</td>\n",
              "      <td>NaN</td>\n",
              "      <td>NaN</td>\n",
              "      <td>Cash</td>\n",
              "      <td>N</td>\n",
              "      <td>NaN</td>\n",
              "      <td>NaN</td>\n",
              "      <td>NaN</td>\n",
              "      <td>NaN</td>\n",
              "      <td>NaN</td>\n",
              "      <td>NaN</td>\n",
              "      <td>Fully Paid</td>\n",
              "      <td>2015</td>\n",
              "      <td>Dec</td>\n",
              "    </tr>\n",
              "    <tr>\n",
              "      <th>3</th>\n",
              "      <td>809314</td>\n",
              "      <td>10000</td>\n",
              "      <td>10000</td>\n",
              "      <td>10000.0</td>\n",
              "      <td>36 months</td>\n",
              "      <td>6.99</td>\n",
              "      <td>308.73</td>\n",
              "      <td>A</td>\n",
              "      <td>A3</td>\n",
              "      <td>BUSINESS FINANCIAL MANAGER</td>\n",
              "      <td>10+ years</td>\n",
              "      <td>MORTGAGE</td>\n",
              "      <td>135000.0</td>\n",
              "      <td>Source Verified</td>\n",
              "      <td>Jan-2016</td>\n",
              "      <td>n</td>\n",
              "      <td>NaN</td>\n",
              "      <td>NaN</td>\n",
              "      <td>debt_consolidation</td>\n",
              "      <td>Debt consolidation</td>\n",
              "      <td>225xx</td>\n",
              "      <td>VA</td>\n",
              "      <td>23.66</td>\n",
              "      <td>0.0</td>\n",
              "      <td>May-1991</td>\n",
              "      <td>0.0</td>\n",
              "      <td>26.0</td>\n",
              "      <td>NaN</td>\n",
              "      <td>18.0</td>\n",
              "      <td>0.0</td>\n",
              "      <td>14802</td>\n",
              "      <td>58.0</td>\n",
              "      <td>35.0</td>\n",
              "      <td>w</td>\n",
              "      <td>0.0</td>\n",
              "      <td>0.0</td>\n",
              "      <td>9406.500000</td>\n",
              "      <td>9406.50</td>\n",
              "      <td>7107.03</td>\n",
              "      <td>1100.03</td>\n",
              "      <td>...</td>\n",
              "      <td>190254.0</td>\n",
              "      <td>3000.0</td>\n",
              "      <td>180574.0</td>\n",
              "      <td>NaN</td>\n",
              "      <td>NaN</td>\n",
              "      <td>NaN</td>\n",
              "      <td>NaN</td>\n",
              "      <td>NaN</td>\n",
              "      <td>NaN</td>\n",
              "      <td>NaN</td>\n",
              "      <td>NaN</td>\n",
              "      <td>NaN</td>\n",
              "      <td>NaN</td>\n",
              "      <td>NaN</td>\n",
              "      <td>N</td>\n",
              "      <td>NaN</td>\n",
              "      <td>NaN</td>\n",
              "      <td>NaN</td>\n",
              "      <td>NaN</td>\n",
              "      <td>NaN</td>\n",
              "      <td>NaN</td>\n",
              "      <td>NaN</td>\n",
              "      <td>NaN</td>\n",
              "      <td>NaN</td>\n",
              "      <td>NaN</td>\n",
              "      <td>NaN</td>\n",
              "      <td>NaN</td>\n",
              "      <td>NaN</td>\n",
              "      <td>NaN</td>\n",
              "      <td>Cash</td>\n",
              "      <td>Y</td>\n",
              "      <td>Jan-2019</td>\n",
              "      <td>COMPLETE</td>\n",
              "      <td>Jul-2018</td>\n",
              "      <td>1384.0</td>\n",
              "      <td>45.0</td>\n",
              "      <td>6.0</td>\n",
              "      <td>Charged Off</td>\n",
              "      <td>2016</td>\n",
              "      <td>Jan</td>\n",
              "    </tr>\n",
              "    <tr>\n",
              "      <th>4</th>\n",
              "      <td>1069627</td>\n",
              "      <td>14000</td>\n",
              "      <td>14000</td>\n",
              "      <td>14000.0</td>\n",
              "      <td>36 months</td>\n",
              "      <td>7.89</td>\n",
              "      <td>438.00</td>\n",
              "      <td>A</td>\n",
              "      <td>A5</td>\n",
              "      <td>Managing Member</td>\n",
              "      <td>7 years</td>\n",
              "      <td>RENT</td>\n",
              "      <td>35000.0</td>\n",
              "      <td>Verified</td>\n",
              "      <td>Oct-2015</td>\n",
              "      <td>n</td>\n",
              "      <td>NaN</td>\n",
              "      <td>NaN</td>\n",
              "      <td>credit_card</td>\n",
              "      <td>Credit card refinancing</td>\n",
              "      <td>602xx</td>\n",
              "      <td>IL</td>\n",
              "      <td>10.22</td>\n",
              "      <td>0.0</td>\n",
              "      <td>Aug-1978</td>\n",
              "      <td>0.0</td>\n",
              "      <td>70.0</td>\n",
              "      <td>NaN</td>\n",
              "      <td>3.0</td>\n",
              "      <td>0.0</td>\n",
              "      <td>13385</td>\n",
              "      <td>63.4</td>\n",
              "      <td>16.0</td>\n",
              "      <td>w</td>\n",
              "      <td>0.0</td>\n",
              "      <td>0.0</td>\n",
              "      <td>15798.640798</td>\n",
              "      <td>15798.64</td>\n",
              "      <td>14000.00</td>\n",
              "      <td>1798.64</td>\n",
              "      <td>...</td>\n",
              "      <td>14021.0</td>\n",
              "      <td>21100.0</td>\n",
              "      <td>0.0</td>\n",
              "      <td>NaN</td>\n",
              "      <td>NaN</td>\n",
              "      <td>NaN</td>\n",
              "      <td>NaN</td>\n",
              "      <td>NaN</td>\n",
              "      <td>NaN</td>\n",
              "      <td>NaN</td>\n",
              "      <td>NaN</td>\n",
              "      <td>NaN</td>\n",
              "      <td>NaN</td>\n",
              "      <td>NaN</td>\n",
              "      <td>N</td>\n",
              "      <td>NaN</td>\n",
              "      <td>NaN</td>\n",
              "      <td>NaN</td>\n",
              "      <td>NaN</td>\n",
              "      <td>NaN</td>\n",
              "      <td>NaN</td>\n",
              "      <td>NaN</td>\n",
              "      <td>NaN</td>\n",
              "      <td>NaN</td>\n",
              "      <td>NaN</td>\n",
              "      <td>NaN</td>\n",
              "      <td>NaN</td>\n",
              "      <td>NaN</td>\n",
              "      <td>NaN</td>\n",
              "      <td>Cash</td>\n",
              "      <td>N</td>\n",
              "      <td>NaN</td>\n",
              "      <td>NaN</td>\n",
              "      <td>NaN</td>\n",
              "      <td>NaN</td>\n",
              "      <td>NaN</td>\n",
              "      <td>NaN</td>\n",
              "      <td>Fully Paid</td>\n",
              "      <td>2015</td>\n",
              "      <td>Oct</td>\n",
              "    </tr>\n",
              "  </tbody>\n",
              "</table>\n",
              "<p>5 rows × 146 columns</p>\n",
              "</div>"
            ],
            "text/plain": [
              "        id  loan_amnt  funded_amnt  ...      results issue_y  issue_m\n",
              "0  1294383      12000        12000  ...   Fully Paid    2015      Feb\n",
              "1  1876502       5000         5000  ...   Fully Paid    2014      Nov\n",
              "2   954710       4000         4000  ...   Fully Paid    2015      Dec\n",
              "3   809314      10000        10000  ...  Charged Off    2016      Jan\n",
              "4  1069627      14000        14000  ...   Fully Paid    2015      Oct\n",
              "\n",
              "[5 rows x 146 columns]"
            ]
          },
          "metadata": {
            "tags": []
          },
          "execution_count": 46
        }
      ]
    },
    {
      "cell_type": "code",
      "metadata": {
        "id": "VR-4ugz2l8lk",
        "colab_type": "code",
        "outputId": "4bc27cbe-44c7-48d3-e4a3-b1fc9495ea2d",
        "colab": {
          "base_uri": "https://localhost:8080/",
          "height": 309
        }
      },
      "source": [
        "training_tofill.head()"
      ],
      "execution_count": 0,
      "outputs": [
        {
          "output_type": "execute_result",
          "data": {
            "text/html": [
              "<div>\n",
              "<style scoped>\n",
              "    .dataframe tbody tr th:only-of-type {\n",
              "        vertical-align: middle;\n",
              "    }\n",
              "\n",
              "    .dataframe tbody tr th {\n",
              "        vertical-align: top;\n",
              "    }\n",
              "\n",
              "    .dataframe thead th {\n",
              "        text-align: right;\n",
              "    }\n",
              "</style>\n",
              "<table border=\"1\" class=\"dataframe\">\n",
              "  <thead>\n",
              "    <tr style=\"text-align: right;\">\n",
              "      <th></th>\n",
              "      <th>id</th>\n",
              "      <th>acc_open_past_24mths</th>\n",
              "      <th>addr_state</th>\n",
              "      <th>application_type</th>\n",
              "      <th>avg_cur_bal</th>\n",
              "      <th>bc_open_to_buy</th>\n",
              "      <th>bc_util</th>\n",
              "      <th>desc</th>\n",
              "      <th>dti</th>\n",
              "      <th>dti_joint</th>\n",
              "      <th>home_ownership</th>\n",
              "      <th>inq_last_6mths</th>\n",
              "      <th>loan_amnt</th>\n",
              "      <th>num_bc_tl</th>\n",
              "      <th>mo_sin_old_il_acct</th>\n",
              "      <th>mo_sin_old_rev_tl_op</th>\n",
              "      <th>mo_sin_rcnt_rev_tl_op</th>\n",
              "      <th>mths_since_recent_bc</th>\n",
              "      <th>num_actv_bc_tl</th>\n",
              "      <th>num_actv_rev_tl</th>\n",
              "      <th>num_bc_sats</th>\n",
              "      <th>num_il_tl</th>\n",
              "      <th>num_op_rev_tl</th>\n",
              "      <th>num_rev_tl_bal_gt_0</th>\n",
              "      <th>num_sats</th>\n",
              "      <th>num_tl_op_past_12m</th>\n",
              "      <th>percent_bc_gt_75</th>\n",
              "      <th>purpose</th>\n",
              "      <th>revol_util</th>\n",
              "      <th>sec_app_revol_util</th>\n",
              "      <th>term</th>\n",
              "      <th>tot_coll_amt</th>\n",
              "      <th>tot_cur_bal</th>\n",
              "      <th>tot_hi_cred_lim</th>\n",
              "      <th>total_acc</th>\n",
              "      <th>total_bal_ex_mort</th>\n",
              "      <th>pct_tl_nvr_dlq</th>\n",
              "      <th>results</th>\n",
              "      <th>issue_d</th>\n",
              "      <th>issue_y</th>\n",
              "      <th>issue_m</th>\n",
              "      <th>earliest_cr_line1</th>\n",
              "      <th>sec_app_earliest_cr_line1</th>\n",
              "      <th>earliest_cr_line_min</th>\n",
              "      <th>verification_status_all</th>\n",
              "      <th>if_worse_rating</th>\n",
              "      <th>annual_inc_all</th>\n",
              "      <th>revol_bal_all</th>\n",
              "      <th>mort_acc_all</th>\n",
              "      <th>num_rev_accts_all</th>\n",
              "      <th>open_acc_all</th>\n",
              "      <th>if_revol_delinq</th>\n",
              "      <th>if_cur_il</th>\n",
              "      <th>if_delinq_2yrs</th>\n",
              "      <th>if_pub_rec</th>\n",
              "      <th>if_pub_rec_bankruptcies</th>\n",
              "      <th>if_chargeoff_12_mths</th>\n",
              "      <th>if_collections_12_mths</th>\n",
              "    </tr>\n",
              "  </thead>\n",
              "  <tbody>\n",
              "    <tr>\n",
              "      <th>0</th>\n",
              "      <td>1294383</td>\n",
              "      <td>5.0</td>\n",
              "      <td>CA</td>\n",
              "      <td>Individual</td>\n",
              "      <td>8115.0</td>\n",
              "      <td>5315.0</td>\n",
              "      <td>11.4</td>\n",
              "      <td>0</td>\n",
              "      <td>20.42</td>\n",
              "      <td>NaN</td>\n",
              "      <td>RENT</td>\n",
              "      <td>0.0</td>\n",
              "      <td>12000</td>\n",
              "      <td>1.0</td>\n",
              "      <td>58.0</td>\n",
              "      <td>69.0</td>\n",
              "      <td>22.0</td>\n",
              "      <td>69.0</td>\n",
              "      <td>1.0</td>\n",
              "      <td>1.0</td>\n",
              "      <td>1.0</td>\n",
              "      <td>12.0</td>\n",
              "      <td>2.0</td>\n",
              "      <td>1.0</td>\n",
              "      <td>6.0</td>\n",
              "      <td>2.0</td>\n",
              "      <td>0.0</td>\n",
              "      <td>debt_consolidation</td>\n",
              "      <td>9.5</td>\n",
              "      <td>NaN</td>\n",
              "      <td>36 months</td>\n",
              "      <td>0.0</td>\n",
              "      <td>48690.0</td>\n",
              "      <td>68842.0</td>\n",
              "      <td>16.0</td>\n",
              "      <td>48690.0</td>\n",
              "      <td>100.0</td>\n",
              "      <td>Fully Paid</td>\n",
              "      <td>Feb-2015</td>\n",
              "      <td>2015</td>\n",
              "      <td>Feb</td>\n",
              "      <td>2009.0</td>\n",
              "      <td>NaN</td>\n",
              "      <td>2009.0</td>\n",
              "      <td>1.0</td>\n",
              "      <td>0.0</td>\n",
              "      <td>75000.0</td>\n",
              "      <td>685.0</td>\n",
              "      <td>0.0</td>\n",
              "      <td>2.0</td>\n",
              "      <td>6.0</td>\n",
              "      <td>0.0</td>\n",
              "      <td>0.0</td>\n",
              "      <td>0.0</td>\n",
              "      <td>0.0</td>\n",
              "      <td>0.0</td>\n",
              "      <td>0.0</td>\n",
              "      <td>0.0</td>\n",
              "    </tr>\n",
              "    <tr>\n",
              "      <th>1</th>\n",
              "      <td>1876502</td>\n",
              "      <td>0.0</td>\n",
              "      <td>OR</td>\n",
              "      <td>Individual</td>\n",
              "      <td>2054.0</td>\n",
              "      <td>2069.0</td>\n",
              "      <td>73.1</td>\n",
              "      <td>0</td>\n",
              "      <td>7.97</td>\n",
              "      <td>NaN</td>\n",
              "      <td>RENT</td>\n",
              "      <td>0.0</td>\n",
              "      <td>5000</td>\n",
              "      <td>4.0</td>\n",
              "      <td>NaN</td>\n",
              "      <td>100.0</td>\n",
              "      <td>50.0</td>\n",
              "      <td>50.0</td>\n",
              "      <td>2.0</td>\n",
              "      <td>3.0</td>\n",
              "      <td>2.0</td>\n",
              "      <td>0.0</td>\n",
              "      <td>3.0</td>\n",
              "      <td>3.0</td>\n",
              "      <td>3.0</td>\n",
              "      <td>0.0</td>\n",
              "      <td>50.0</td>\n",
              "      <td>debt_consolidation</td>\n",
              "      <td>63.5</td>\n",
              "      <td>NaN</td>\n",
              "      <td>36 months</td>\n",
              "      <td>0.0</td>\n",
              "      <td>6162.0</td>\n",
              "      <td>9700.0</td>\n",
              "      <td>6.0</td>\n",
              "      <td>6162.0</td>\n",
              "      <td>100.0</td>\n",
              "      <td>Fully Paid</td>\n",
              "      <td>Nov-2014</td>\n",
              "      <td>2014</td>\n",
              "      <td>Nov</td>\n",
              "      <td>2006.0</td>\n",
              "      <td>NaN</td>\n",
              "      <td>2006.0</td>\n",
              "      <td>0.0</td>\n",
              "      <td>0.0</td>\n",
              "      <td>25000.0</td>\n",
              "      <td>6162.0</td>\n",
              "      <td>0.0</td>\n",
              "      <td>6.0</td>\n",
              "      <td>3.0</td>\n",
              "      <td>0.0</td>\n",
              "      <td>0.0</td>\n",
              "      <td>0.0</td>\n",
              "      <td>0.0</td>\n",
              "      <td>0.0</td>\n",
              "      <td>0.0</td>\n",
              "      <td>0.0</td>\n",
              "    </tr>\n",
              "    <tr>\n",
              "      <th>2</th>\n",
              "      <td>954710</td>\n",
              "      <td>0.0</td>\n",
              "      <td>TX</td>\n",
              "      <td>Individual</td>\n",
              "      <td>631.0</td>\n",
              "      <td>526.0</td>\n",
              "      <td>85.8</td>\n",
              "      <td>0</td>\n",
              "      <td>11.52</td>\n",
              "      <td>NaN</td>\n",
              "      <td>RENT</td>\n",
              "      <td>0.0</td>\n",
              "      <td>4000</td>\n",
              "      <td>10.0</td>\n",
              "      <td>135.0</td>\n",
              "      <td>129.0</td>\n",
              "      <td>41.0</td>\n",
              "      <td>96.0</td>\n",
              "      <td>6.0</td>\n",
              "      <td>9.0</td>\n",
              "      <td>6.0</td>\n",
              "      <td>3.0</td>\n",
              "      <td>10.0</td>\n",
              "      <td>9.0</td>\n",
              "      <td>10.0</td>\n",
              "      <td>0.0</td>\n",
              "      <td>83.3</td>\n",
              "      <td>credit_card</td>\n",
              "      <td>69.4</td>\n",
              "      <td>NaN</td>\n",
              "      <td>36 months</td>\n",
              "      <td>70.0</td>\n",
              "      <td>6312.0</td>\n",
              "      <td>9100.0</td>\n",
              "      <td>18.0</td>\n",
              "      <td>6312.0</td>\n",
              "      <td>88.9</td>\n",
              "      <td>Fully Paid</td>\n",
              "      <td>Dec-2015</td>\n",
              "      <td>2015</td>\n",
              "      <td>Dec</td>\n",
              "      <td>2004.0</td>\n",
              "      <td>NaN</td>\n",
              "      <td>2004.0</td>\n",
              "      <td>1.0</td>\n",
              "      <td>1.0</td>\n",
              "      <td>32000.0</td>\n",
              "      <td>6312.0</td>\n",
              "      <td>0.0</td>\n",
              "      <td>15.0</td>\n",
              "      <td>10.0</td>\n",
              "      <td>1.0</td>\n",
              "      <td>0.0</td>\n",
              "      <td>0.0</td>\n",
              "      <td>0.0</td>\n",
              "      <td>0.0</td>\n",
              "      <td>0.0</td>\n",
              "      <td>0.0</td>\n",
              "    </tr>\n",
              "    <tr>\n",
              "      <th>3</th>\n",
              "      <td>809314</td>\n",
              "      <td>7.0</td>\n",
              "      <td>VA</td>\n",
              "      <td>Individual</td>\n",
              "      <td>29161.0</td>\n",
              "      <td>3000.0</td>\n",
              "      <td>87.0</td>\n",
              "      <td>0</td>\n",
              "      <td>23.66</td>\n",
              "      <td>NaN</td>\n",
              "      <td>MORTGAGE</td>\n",
              "      <td>0.0</td>\n",
              "      <td>10000</td>\n",
              "      <td>5.0</td>\n",
              "      <td>124.0</td>\n",
              "      <td>296.0</td>\n",
              "      <td>7.0</td>\n",
              "      <td>12.0</td>\n",
              "      <td>1.0</td>\n",
              "      <td>12.0</td>\n",
              "      <td>5.0</td>\n",
              "      <td>11.0</td>\n",
              "      <td>12.0</td>\n",
              "      <td>10.0</td>\n",
              "      <td>18.0</td>\n",
              "      <td>4.0</td>\n",
              "      <td>100.0</td>\n",
              "      <td>debt_consolidation</td>\n",
              "      <td>58.0</td>\n",
              "      <td>NaN</td>\n",
              "      <td>36 months</td>\n",
              "      <td>0.0</td>\n",
              "      <td>524910.0</td>\n",
              "      <td>573138.0</td>\n",
              "      <td>35.0</td>\n",
              "      <td>190254.0</td>\n",
              "      <td>83.0</td>\n",
              "      <td>Charged Off</td>\n",
              "      <td>Jan-2016</td>\n",
              "      <td>2016</td>\n",
              "      <td>Jan</td>\n",
              "      <td>1991.0</td>\n",
              "      <td>NaN</td>\n",
              "      <td>1991.0</td>\n",
              "      <td>1.0</td>\n",
              "      <td>1.0</td>\n",
              "      <td>135000.0</td>\n",
              "      <td>14802.0</td>\n",
              "      <td>5.0</td>\n",
              "      <td>19.0</td>\n",
              "      <td>18.0</td>\n",
              "      <td>1.0</td>\n",
              "      <td>1.0</td>\n",
              "      <td>0.0</td>\n",
              "      <td>0.0</td>\n",
              "      <td>0.0</td>\n",
              "      <td>0.0</td>\n",
              "      <td>0.0</td>\n",
              "    </tr>\n",
              "    <tr>\n",
              "      <th>4</th>\n",
              "      <td>1069627</td>\n",
              "      <td>0.0</td>\n",
              "      <td>IL</td>\n",
              "      <td>Individual</td>\n",
              "      <td>4674.0</td>\n",
              "      <td>7715.0</td>\n",
              "      <td>63.4</td>\n",
              "      <td>0</td>\n",
              "      <td>10.22</td>\n",
              "      <td>NaN</td>\n",
              "      <td>RENT</td>\n",
              "      <td>0.0</td>\n",
              "      <td>14000</td>\n",
              "      <td>7.0</td>\n",
              "      <td>161.0</td>\n",
              "      <td>445.0</td>\n",
              "      <td>61.0</td>\n",
              "      <td>61.0</td>\n",
              "      <td>2.0</td>\n",
              "      <td>2.0</td>\n",
              "      <td>2.0</td>\n",
              "      <td>3.0</td>\n",
              "      <td>2.0</td>\n",
              "      <td>2.0</td>\n",
              "      <td>3.0</td>\n",
              "      <td>0.0</td>\n",
              "      <td>50.0</td>\n",
              "      <td>credit_card</td>\n",
              "      <td>63.4</td>\n",
              "      <td>NaN</td>\n",
              "      <td>36 months</td>\n",
              "      <td>0.0</td>\n",
              "      <td>14021.0</td>\n",
              "      <td>22628.0</td>\n",
              "      <td>16.0</td>\n",
              "      <td>14021.0</td>\n",
              "      <td>87.5</td>\n",
              "      <td>Fully Paid</td>\n",
              "      <td>Oct-2015</td>\n",
              "      <td>2015</td>\n",
              "      <td>Oct</td>\n",
              "      <td>1978.0</td>\n",
              "      <td>NaN</td>\n",
              "      <td>1978.0</td>\n",
              "      <td>1.0</td>\n",
              "      <td>1.0</td>\n",
              "      <td>35000.0</td>\n",
              "      <td>13385.0</td>\n",
              "      <td>3.0</td>\n",
              "      <td>9.0</td>\n",
              "      <td>3.0</td>\n",
              "      <td>1.0</td>\n",
              "      <td>0.0</td>\n",
              "      <td>0.0</td>\n",
              "      <td>0.0</td>\n",
              "      <td>0.0</td>\n",
              "      <td>0.0</td>\n",
              "      <td>0.0</td>\n",
              "    </tr>\n",
              "  </tbody>\n",
              "</table>\n",
              "</div>"
            ],
            "text/plain": [
              "        id  acc_open_past_24mths  ... if_chargeoff_12_mths if_collections_12_mths\n",
              "0  1294383                   5.0  ...                  0.0                    0.0\n",
              "1  1876502                   0.0  ...                  0.0                    0.0\n",
              "2   954710                   0.0  ...                  0.0                    0.0\n",
              "3   809314                   7.0  ...                  0.0                    0.0\n",
              "4  1069627                   0.0  ...                  0.0                    0.0\n",
              "\n",
              "[5 rows x 58 columns]"
            ]
          },
          "metadata": {
            "tags": []
          },
          "execution_count": 51
        }
      ]
    },
    {
      "cell_type": "code",
      "metadata": {
        "id": "uG72sG3LaA3L",
        "colab_type": "code",
        "outputId": "291cf463-4200-448e-d8b1-acc3c3ff6276",
        "colab": {
          "base_uri": "https://localhost:8080/",
          "height": 51
        }
      },
      "source": [
        "print('Original: ',training.shape)\n",
        "print('To Replace: ',training_tofill.shape)"
      ],
      "execution_count": 0,
      "outputs": [
        {
          "output_type": "stream",
          "text": [
            "Original:  (1045085, 146)\n",
            "To Replace:  (1045085, 58)\n"
          ],
          "name": "stdout"
        }
      ]
    },
    {
      "cell_type": "markdown",
      "metadata": {
        "id": "070LIo-1Utv6",
        "colab_type": "text"
      },
      "source": [
        "#1. Missing Value Analysis\n",
        "After we transformed the raw data from Lending Club, there are still 36 columns contain null values. This may be caused by documentation methods changed and such.\n",
        "\n",
        "The analysis is based on the original data, as it contains more complete information, whcih helps us understand the meaning of null values.\n",
        "\n",
        "This section tried to understand the meaning behind each null value, and next section will provide alternatives replacing null values."
      ]
    },
    {
      "cell_type": "code",
      "metadata": {
        "id": "n-lbjBL4UjmZ",
        "colab_type": "code",
        "outputId": "5f94c14c-6b6c-4f58-efc8-6e99fb7b575e",
        "colab": {
          "base_uri": "https://localhost:8080/",
          "height": 241
        }
      },
      "source": [
        "# Columns with missing value\n",
        "print(training_tofill.columns[training_tofill.isnull().any()],'\\n','Columns with Missing Value: ',len(training_tofill.columns[training_tofill.isnull().any()]))"
      ],
      "execution_count": 0,
      "outputs": [
        {
          "output_type": "stream",
          "text": [
            "Index(['acc_open_past_24mths', 'avg_cur_bal', 'bc_open_to_buy', 'bc_util',\n",
            "       'dti', 'dti_joint', 'inq_last_6mths', 'num_bc_tl', 'mo_sin_old_il_acct',\n",
            "       'mo_sin_old_rev_tl_op', 'mo_sin_rcnt_rev_tl_op', 'mths_since_recent_bc',\n",
            "       'num_actv_bc_tl', 'num_actv_rev_tl', 'num_bc_sats', 'num_il_tl',\n",
            "       'num_op_rev_tl', 'num_rev_tl_bal_gt_0', 'num_sats',\n",
            "       'num_tl_op_past_12m', 'percent_bc_gt_75', 'revol_util',\n",
            "       'sec_app_revol_util', 'tot_coll_amt', 'tot_cur_bal', 'tot_hi_cred_lim',\n",
            "       'total_acc', 'total_bal_ex_mort', 'pct_tl_nvr_dlq', 'earliest_cr_line1',\n",
            "       'sec_app_earliest_cr_line1', 'earliest_cr_line_min', 'annual_inc_all',\n",
            "       'mort_acc_all', 'num_rev_accts_all', 'open_acc_all'],\n",
            "      dtype='object') \n",
            " Columns with Missing Value:  36\n"
          ],
          "name": "stdout"
        }
      ]
    },
    {
      "cell_type": "markdown",
      "metadata": {
        "id": "ORtkQvlDbE2m",
        "colab_type": "text"
      },
      "source": [
        "##1.1 acc_open_past_24mths\n",
        "**Solution:** Set Nulls to 0\n",
        "\n",
        "For null value will be converted as 0 since before 2012 Mar, no account open in past 24 months was marked as null, but after 2012 Mar, this value was marked 0 in this column."
      ]
    },
    {
      "cell_type": "code",
      "metadata": {
        "id": "37Aj1OxWaeen",
        "colab_type": "code",
        "outputId": "de582e4d-9214-4b12-c6f1-259d4877e81f",
        "colab": {
          "base_uri": "https://localhost:8080/",
          "height": 421
        }
      },
      "source": [
        "pd.DataFrame(data=(training.loc[training.acc_open_past_24mths.isnull(),'issue_y'].value_counts(),\n",
        "                   training.loc[training.acc_open_past_24mths==0,'issue_y'].value_counts().sort_index()),index=['null_count','zero_count']).T"
      ],
      "execution_count": 0,
      "outputs": [
        {
          "output_type": "execute_result",
          "data": {
            "text/html": [
              "<div>\n",
              "<style scoped>\n",
              "    .dataframe tbody tr th:only-of-type {\n",
              "        vertical-align: middle;\n",
              "    }\n",
              "\n",
              "    .dataframe tbody tr th {\n",
              "        vertical-align: top;\n",
              "    }\n",
              "\n",
              "    .dataframe thead th {\n",
              "        text-align: right;\n",
              "    }\n",
              "</style>\n",
              "<table border=\"1\" class=\"dataframe\">\n",
              "  <thead>\n",
              "    <tr style=\"text-align: right;\">\n",
              "      <th></th>\n",
              "      <th>null_count</th>\n",
              "      <th>zero_count</th>\n",
              "    </tr>\n",
              "  </thead>\n",
              "  <tbody>\n",
              "    <tr>\n",
              "      <th>2007</th>\n",
              "      <td>479.0</td>\n",
              "      <td>NaN</td>\n",
              "    </tr>\n",
              "    <tr>\n",
              "      <th>2008</th>\n",
              "      <td>1906.0</td>\n",
              "      <td>NaN</td>\n",
              "    </tr>\n",
              "    <tr>\n",
              "      <th>2009</th>\n",
              "      <td>4226.0</td>\n",
              "      <td>NaN</td>\n",
              "    </tr>\n",
              "    <tr>\n",
              "      <th>2010</th>\n",
              "      <td>10071.0</td>\n",
              "      <td>NaN</td>\n",
              "    </tr>\n",
              "    <tr>\n",
              "      <th>2011</th>\n",
              "      <td>17379.0</td>\n",
              "      <td>NaN</td>\n",
              "    </tr>\n",
              "    <tr>\n",
              "      <th>2012</th>\n",
              "      <td>5989.0</td>\n",
              "      <td>1949.0</td>\n",
              "    </tr>\n",
              "    <tr>\n",
              "      <th>2013</th>\n",
              "      <td>NaN</td>\n",
              "      <td>5973.0</td>\n",
              "    </tr>\n",
              "    <tr>\n",
              "      <th>2014</th>\n",
              "      <td>NaN</td>\n",
              "      <td>7136.0</td>\n",
              "    </tr>\n",
              "    <tr>\n",
              "      <th>2015</th>\n",
              "      <td>NaN</td>\n",
              "      <td>12394.0</td>\n",
              "    </tr>\n",
              "    <tr>\n",
              "      <th>2016</th>\n",
              "      <td>NaN</td>\n",
              "      <td>6993.0</td>\n",
              "    </tr>\n",
              "    <tr>\n",
              "      <th>2017</th>\n",
              "      <td>NaN</td>\n",
              "      <td>3920.0</td>\n",
              "    </tr>\n",
              "    <tr>\n",
              "      <th>2018</th>\n",
              "      <td>NaN</td>\n",
              "      <td>1270.0</td>\n",
              "    </tr>\n",
              "  </tbody>\n",
              "</table>\n",
              "</div>"
            ],
            "text/plain": [
              "      null_count  zero_count\n",
              "2007       479.0         NaN\n",
              "2008      1906.0         NaN\n",
              "2009      4226.0         NaN\n",
              "2010     10071.0         NaN\n",
              "2011     17379.0         NaN\n",
              "2012      5989.0      1949.0\n",
              "2013         NaN      5973.0\n",
              "2014         NaN      7136.0\n",
              "2015         NaN     12394.0\n",
              "2016         NaN      6993.0\n",
              "2017         NaN      3920.0\n",
              "2018         NaN      1270.0"
            ]
          },
          "metadata": {
            "tags": []
          },
          "execution_count": 78
        }
      ]
    },
    {
      "cell_type": "markdown",
      "metadata": {
        "id": "AbBIX1-cbpn0",
        "colab_type": "text"
      },
      "source": [
        "##1.2 avg_cur_bal & tot_cur_bal\n",
        "**Solution:** Set Nulls to 0\n",
        "\n",
        "The null values in both avg_cur_bal and tot_cur_bal columns will be conveted to 0 since before 2012 Mar., thses two values were set to null in order to represent 0 balance. \n",
        "\n",
        "Additionally, there is some borrowers have no open account; thus, the avg_cur_bal were na since 0 can't be devided."
      ]
    },
    {
      "cell_type": "code",
      "metadata": {
        "id": "G1BW16OSbU3m",
        "colab_type": "code",
        "outputId": "088b9095-a041-40ab-d7ac-a0bd16935723",
        "colab": {
          "base_uri": "https://localhost:8080/",
          "height": 85
        }
      },
      "source": [
        "avg_cur_bal_na=training.loc[training.avg_cur_bal.isnull(),['id','issue_y','open_acc','avg_cur_bal','tot_cur_bal']]\n",
        "tot_cur_bal_na=training.loc[training.tot_cur_bal.isnull(),['id','issue_y','open_acc','avg_cur_bal','tot_cur_bal']]\n",
        "avg_cur_bal_zeros=training.loc[training.avg_cur_bal==0,['id','issue_y','open_acc','avg_cur_bal','tot_cur_bal']]\n",
        "tot_cur_bal_zeros=training.loc[training.avg_cur_bal==0,['id','issue_y','open_acc','avg_cur_bal','tot_cur_bal']]\n",
        "print('Count of Null value in avg_cur_bal: ',len(avg_cur_bal_na))\n",
        "print('Count of Null value in tot_cur_bal:',len(tot_cur_bal_na))\n",
        "print('Count of 0 in avg_cur_bal:',len(avg_cur_bal_zeros))\n",
        "print('Count of 0 value in tot_cur_bal:',len(tot_cur_bal_zeros))"
      ],
      "execution_count": 0,
      "outputs": [
        {
          "output_type": "stream",
          "text": [
            "Count of Null value in avg_cur_bal:  56219\n",
            "Count of Null value in tot_cur_bal: 56201\n",
            "Count of 0 in avg_cur_bal: 274\n",
            "Count of 0 value in tot_cur_bal: 274\n"
          ],
          "name": "stdout"
        }
      ]
    },
    {
      "cell_type": "code",
      "metadata": {
        "id": "U2YK-cRwdLlN",
        "colab_type": "code",
        "outputId": "73d6a358-a7c3-4c09-a060-a7c45a1a5ee9",
        "colab": {
          "base_uri": "https://localhost:8080/",
          "height": 128
        }
      },
      "source": [
        "print('Count of null value each year')\n",
        "pd.DataFrame(data=[avg_cur_bal_na.issue_y.value_counts().sort_index(),\n",
        "                   tot_cur_bal_na.issue_y.value_counts().sort_index()],index=['avg','tot'])"
      ],
      "execution_count": 0,
      "outputs": [
        {
          "output_type": "stream",
          "text": [
            "Count of null value each year\n"
          ],
          "name": "stdout"
        },
        {
          "output_type": "execute_result",
          "data": {
            "text/html": [
              "<div>\n",
              "<style scoped>\n",
              "    .dataframe tbody tr th:only-of-type {\n",
              "        vertical-align: middle;\n",
              "    }\n",
              "\n",
              "    .dataframe tbody tr th {\n",
              "        vertical-align: top;\n",
              "    }\n",
              "\n",
              "    .dataframe thead th {\n",
              "        text-align: right;\n",
              "    }\n",
              "</style>\n",
              "<table border=\"1\" class=\"dataframe\">\n",
              "  <thead>\n",
              "    <tr style=\"text-align: right;\">\n",
              "      <th></th>\n",
              "      <th>2007</th>\n",
              "      <th>2008</th>\n",
              "      <th>2009</th>\n",
              "      <th>2010</th>\n",
              "      <th>2011</th>\n",
              "      <th>2012</th>\n",
              "      <th>2013</th>\n",
              "      <th>2014</th>\n",
              "      <th>2017</th>\n",
              "      <th>2018</th>\n",
              "    </tr>\n",
              "  </thead>\n",
              "  <tbody>\n",
              "    <tr>\n",
              "      <th>avg</th>\n",
              "      <td>479.0</td>\n",
              "      <td>1906.0</td>\n",
              "      <td>4226.0</td>\n",
              "      <td>10071.0</td>\n",
              "      <td>17379.0</td>\n",
              "      <td>22140.0</td>\n",
              "      <td>5.0</td>\n",
              "      <td>4.0</td>\n",
              "      <td>5.0</td>\n",
              "      <td>4.0</td>\n",
              "    </tr>\n",
              "    <tr>\n",
              "      <th>tot</th>\n",
              "      <td>479.0</td>\n",
              "      <td>1906.0</td>\n",
              "      <td>4226.0</td>\n",
              "      <td>10071.0</td>\n",
              "      <td>17379.0</td>\n",
              "      <td>22140.0</td>\n",
              "      <td>NaN</td>\n",
              "      <td>NaN</td>\n",
              "      <td>NaN</td>\n",
              "      <td>NaN</td>\n",
              "    </tr>\n",
              "  </tbody>\n",
              "</table>\n",
              "</div>"
            ],
            "text/plain": [
              "      2007    2008    2009     2010     2011     2012  2013  2014  2017  2018\n",
              "avg  479.0  1906.0  4226.0  10071.0  17379.0  22140.0   5.0   4.0   5.0   4.0\n",
              "tot  479.0  1906.0  4226.0  10071.0  17379.0  22140.0   NaN   NaN   NaN   NaN"
            ]
          },
          "metadata": {
            "tags": []
          },
          "execution_count": 99
        }
      ]
    },
    {
      "cell_type": "code",
      "metadata": {
        "id": "2vF_UrApdDLA",
        "colab_type": "code",
        "outputId": "2d6deb0b-0adf-412f-c33a-aacc8a9189f0",
        "colab": {
          "base_uri": "https://localhost:8080/",
          "height": 128
        }
      },
      "source": [
        "print('Count of 0 value each year')\n",
        "pd.DataFrame(data=[avg_cur_bal_zeros.issue_y.value_counts().sort_index(),\n",
        "                   tot_cur_bal_zeros.issue_y.value_counts().sort_index()],index=['avg','tot'])"
      ],
      "execution_count": 0,
      "outputs": [
        {
          "output_type": "stream",
          "text": [
            "Count of 0 value each year\n"
          ],
          "name": "stdout"
        },
        {
          "output_type": "execute_result",
          "data": {
            "text/html": [
              "<div>\n",
              "<style scoped>\n",
              "    .dataframe tbody tr th:only-of-type {\n",
              "        vertical-align: middle;\n",
              "    }\n",
              "\n",
              "    .dataframe tbody tr th {\n",
              "        vertical-align: top;\n",
              "    }\n",
              "\n",
              "    .dataframe thead th {\n",
              "        text-align: right;\n",
              "    }\n",
              "</style>\n",
              "<table border=\"1\" class=\"dataframe\">\n",
              "  <thead>\n",
              "    <tr style=\"text-align: right;\">\n",
              "      <th></th>\n",
              "      <th>2012</th>\n",
              "      <th>2013</th>\n",
              "      <th>2014</th>\n",
              "      <th>2015</th>\n",
              "      <th>2016</th>\n",
              "      <th>2017</th>\n",
              "      <th>2018</th>\n",
              "    </tr>\n",
              "  </thead>\n",
              "  <tbody>\n",
              "    <tr>\n",
              "      <th>avg</th>\n",
              "      <td>7</td>\n",
              "      <td>14</td>\n",
              "      <td>32</td>\n",
              "      <td>34</td>\n",
              "      <td>33</td>\n",
              "      <td>59</td>\n",
              "      <td>95</td>\n",
              "    </tr>\n",
              "    <tr>\n",
              "      <th>tot</th>\n",
              "      <td>7</td>\n",
              "      <td>14</td>\n",
              "      <td>32</td>\n",
              "      <td>34</td>\n",
              "      <td>33</td>\n",
              "      <td>59</td>\n",
              "      <td>95</td>\n",
              "    </tr>\n",
              "  </tbody>\n",
              "</table>\n",
              "</div>"
            ],
            "text/plain": [
              "     2012  2013  2014  2015  2016  2017  2018\n",
              "avg     7    14    32    34    33    59    95\n",
              "tot     7    14    32    34    33    59    95"
            ]
          },
          "metadata": {
            "tags": []
          },
          "execution_count": 100
        }
      ]
    },
    {
      "cell_type": "code",
      "metadata": {
        "id": "N2n3Ffm3esnF",
        "colab_type": "code",
        "outputId": "9cef54e6-4af1-408a-b05e-610d9f73865b",
        "colab": {
          "base_uri": "https://localhost:8080/",
          "height": 102
        }
      },
      "source": [
        "# Null value in avg_cur_bal that caused by no open account \n",
        "avg_cur_bal_na.loc[avg_cur_bal_na.open_acc==0,'issue_y'].value_counts().sort_index()"
      ],
      "execution_count": 0,
      "outputs": [
        {
          "output_type": "execute_result",
          "data": {
            "text/plain": [
              "2013    3\n",
              "2014    3\n",
              "2017    3\n",
              "2018    3\n",
              "Name: issue_y, dtype: int64"
            ]
          },
          "metadata": {
            "tags": []
          },
          "execution_count": 103
        }
      ]
    },
    {
      "cell_type": "code",
      "metadata": {
        "id": "GbhVXwJ6sAAl",
        "colab_type": "code",
        "outputId": "8e8b19a5-f588-4b1a-da88-75c5caf24c78",
        "colab": {
          "base_uri": "https://localhost:8080/",
          "height": 607
        }
      },
      "source": [
        "avg_cur_bal_na.loc[avg_cur_bal_na.issue_y.isin(avg_cur_bal_na.loc[avg_cur_bal_na.open_acc==0,'issue_y'].value_counts().index)]"
      ],
      "execution_count": 0,
      "outputs": [
        {
          "output_type": "execute_result",
          "data": {
            "text/html": [
              "<div>\n",
              "<style scoped>\n",
              "    .dataframe tbody tr th:only-of-type {\n",
              "        vertical-align: middle;\n",
              "    }\n",
              "\n",
              "    .dataframe tbody tr th {\n",
              "        vertical-align: top;\n",
              "    }\n",
              "\n",
              "    .dataframe thead th {\n",
              "        text-align: right;\n",
              "    }\n",
              "</style>\n",
              "<table border=\"1\" class=\"dataframe\">\n",
              "  <thead>\n",
              "    <tr style=\"text-align: right;\">\n",
              "      <th></th>\n",
              "      <th>id</th>\n",
              "      <th>issue_y</th>\n",
              "      <th>open_acc</th>\n",
              "      <th>avg_cur_bal</th>\n",
              "      <th>tot_cur_bal</th>\n",
              "    </tr>\n",
              "  </thead>\n",
              "  <tbody>\n",
              "    <tr>\n",
              "      <th>216118</th>\n",
              "      <td>1781574</td>\n",
              "      <td>2013</td>\n",
              "      <td>0.0</td>\n",
              "      <td>NaN</td>\n",
              "      <td>0.0</td>\n",
              "    </tr>\n",
              "    <tr>\n",
              "      <th>225513</th>\n",
              "      <td>385152</td>\n",
              "      <td>2018</td>\n",
              "      <td>0.0</td>\n",
              "      <td>NaN</td>\n",
              "      <td>0.0</td>\n",
              "    </tr>\n",
              "    <tr>\n",
              "      <th>265537</th>\n",
              "      <td>2213988</td>\n",
              "      <td>2017</td>\n",
              "      <td>0.0</td>\n",
              "      <td>NaN</td>\n",
              "      <td>0.0</td>\n",
              "    </tr>\n",
              "    <tr>\n",
              "      <th>265566</th>\n",
              "      <td>2061754</td>\n",
              "      <td>2014</td>\n",
              "      <td>0.0</td>\n",
              "      <td>NaN</td>\n",
              "      <td>0.0</td>\n",
              "    </tr>\n",
              "    <tr>\n",
              "      <th>349583</th>\n",
              "      <td>1749083</td>\n",
              "      <td>2013</td>\n",
              "      <td>2.0</td>\n",
              "      <td>NaN</td>\n",
              "      <td>0.0</td>\n",
              "    </tr>\n",
              "    <tr>\n",
              "      <th>362107</th>\n",
              "      <td>1736683</td>\n",
              "      <td>2013</td>\n",
              "      <td>0.0</td>\n",
              "      <td>NaN</td>\n",
              "      <td>0.0</td>\n",
              "    </tr>\n",
              "    <tr>\n",
              "      <th>430750</th>\n",
              "      <td>2029154</td>\n",
              "      <td>2014</td>\n",
              "      <td>1.0</td>\n",
              "      <td>NaN</td>\n",
              "      <td>0.0</td>\n",
              "    </tr>\n",
              "    <tr>\n",
              "      <th>445069</th>\n",
              "      <td>1803189</td>\n",
              "      <td>2013</td>\n",
              "      <td>0.0</td>\n",
              "      <td>NaN</td>\n",
              "      <td>0.0</td>\n",
              "    </tr>\n",
              "    <tr>\n",
              "      <th>453099</th>\n",
              "      <td>2059431</td>\n",
              "      <td>2014</td>\n",
              "      <td>0.0</td>\n",
              "      <td>NaN</td>\n",
              "      <td>0.0</td>\n",
              "    </tr>\n",
              "    <tr>\n",
              "      <th>473306</th>\n",
              "      <td>2173926</td>\n",
              "      <td>2017</td>\n",
              "      <td>0.0</td>\n",
              "      <td>NaN</td>\n",
              "      <td>0.0</td>\n",
              "    </tr>\n",
              "    <tr>\n",
              "      <th>490715</th>\n",
              "      <td>1585024</td>\n",
              "      <td>2017</td>\n",
              "      <td>0.0</td>\n",
              "      <td>NaN</td>\n",
              "      <td>0.0</td>\n",
              "    </tr>\n",
              "    <tr>\n",
              "      <th>514186</th>\n",
              "      <td>426491</td>\n",
              "      <td>2018</td>\n",
              "      <td>0.0</td>\n",
              "      <td>NaN</td>\n",
              "      <td>0.0</td>\n",
              "    </tr>\n",
              "    <tr>\n",
              "      <th>567505</th>\n",
              "      <td>1793889</td>\n",
              "      <td>2013</td>\n",
              "      <td>2.0</td>\n",
              "      <td>NaN</td>\n",
              "      <td>0.0</td>\n",
              "    </tr>\n",
              "    <tr>\n",
              "      <th>676783</th>\n",
              "      <td>1594042</td>\n",
              "      <td>2017</td>\n",
              "      <td>8.0</td>\n",
              "      <td>NaN</td>\n",
              "      <td>0.0</td>\n",
              "    </tr>\n",
              "    <tr>\n",
              "      <th>734817</th>\n",
              "      <td>473805</td>\n",
              "      <td>2018</td>\n",
              "      <td>1.0</td>\n",
              "      <td>NaN</td>\n",
              "      <td>0.0</td>\n",
              "    </tr>\n",
              "    <tr>\n",
              "      <th>804447</th>\n",
              "      <td>2205352</td>\n",
              "      <td>2017</td>\n",
              "      <td>1.0</td>\n",
              "      <td>NaN</td>\n",
              "      <td>0.0</td>\n",
              "    </tr>\n",
              "    <tr>\n",
              "      <th>846274</th>\n",
              "      <td>2097976</td>\n",
              "      <td>2014</td>\n",
              "      <td>0.0</td>\n",
              "      <td>NaN</td>\n",
              "      <td>0.0</td>\n",
              "    </tr>\n",
              "    <tr>\n",
              "      <th>951253</th>\n",
              "      <td>93975</td>\n",
              "      <td>2018</td>\n",
              "      <td>0.0</td>\n",
              "      <td>NaN</td>\n",
              "      <td>0.0</td>\n",
              "    </tr>\n",
              "  </tbody>\n",
              "</table>\n",
              "</div>"
            ],
            "text/plain": [
              "             id  issue_y  open_acc  avg_cur_bal  tot_cur_bal\n",
              "216118  1781574     2013       0.0          NaN          0.0\n",
              "225513   385152     2018       0.0          NaN          0.0\n",
              "265537  2213988     2017       0.0          NaN          0.0\n",
              "265566  2061754     2014       0.0          NaN          0.0\n",
              "349583  1749083     2013       2.0          NaN          0.0\n",
              "362107  1736683     2013       0.0          NaN          0.0\n",
              "430750  2029154     2014       1.0          NaN          0.0\n",
              "445069  1803189     2013       0.0          NaN          0.0\n",
              "453099  2059431     2014       0.0          NaN          0.0\n",
              "473306  2173926     2017       0.0          NaN          0.0\n",
              "490715  1585024     2017       0.0          NaN          0.0\n",
              "514186   426491     2018       0.0          NaN          0.0\n",
              "567505  1793889     2013       2.0          NaN          0.0\n",
              "676783  1594042     2017       8.0          NaN          0.0\n",
              "734817   473805     2018       1.0          NaN          0.0\n",
              "804447  2205352     2017       1.0          NaN          0.0\n",
              "846274  2097976     2014       0.0          NaN          0.0\n",
              "951253    93975     2018       0.0          NaN          0.0"
            ]
          },
          "metadata": {
            "tags": []
          },
          "execution_count": 104
        }
      ]
    },
    {
      "cell_type": "markdown",
      "metadata": {
        "id": "Z-3E5pr7jUWY",
        "colab_type": "text"
      },
      "source": [
        "##1.3 dti & dti_join\n",
        "\n",
        "**Solution:**\n",
        "- dti: All null value in dti having a joint application, so in this case, use dti_joint instead.\n",
        "- dti_joint: All the null come from individual applicaiton, except case (ID: 992525), in this special case, use the dti instead.\n",
        "\n",
        "For other joint applications, use the weighted average of dti and dti_joint. The final dti can be calculated as annul_inc/(annual_inc + annual_inc_joint) * dti + annul_inc_joint/(annual_inc + annual_inc_joint) * dti_joint\n",
        "\n",
        "\n",
        "**Note:** Co-borrowers start on 2015, so before that any second borrower related columns having NA before 2015 should carefully handle case by case."
      ]
    },
    {
      "cell_type": "code",
      "metadata": {
        "id": "5Mdl-G0wiLNE",
        "colab_type": "code",
        "outputId": "5cc29b15-10c6-453f-835c-5a0bfd4a6d0c",
        "colab": {
          "base_uri": "https://localhost:8080/",
          "height": 34
        }
      },
      "source": [
        "dti_na=training.loc[training.dti.isnull(),['id','issue_y','emp_length','annual_inc','annual_inc_joint','application_type','dti_joint']]\n",
        "print('Count of null dti: ',len(dti_na))"
      ],
      "execution_count": 0,
      "outputs": [
        {
          "output_type": "stream",
          "text": [
            "Count of null dti:  239\n"
          ],
          "name": "stdout"
        }
      ]
    },
    {
      "cell_type": "code",
      "metadata": {
        "id": "U5FV1_HEzlog",
        "colab_type": "code",
        "outputId": "426009a8-6f3b-4571-9ff2-2b79a12e668b",
        "colab": {
          "base_uri": "https://localhost:8080/",
          "height": 193
        }
      },
      "source": [
        "# This show counts of null dti in each year\n",
        "# Most of the null dti applicants also don't have employment\n",
        "dti_na.groupby('issue_y').count()"
      ],
      "execution_count": 0,
      "outputs": [
        {
          "output_type": "execute_result",
          "data": {
            "text/html": [
              "<div>\n",
              "<style scoped>\n",
              "    .dataframe tbody tr th:only-of-type {\n",
              "        vertical-align: middle;\n",
              "    }\n",
              "\n",
              "    .dataframe tbody tr th {\n",
              "        vertical-align: top;\n",
              "    }\n",
              "\n",
              "    .dataframe thead th {\n",
              "        text-align: right;\n",
              "    }\n",
              "</style>\n",
              "<table border=\"1\" class=\"dataframe\">\n",
              "  <thead>\n",
              "    <tr style=\"text-align: right;\">\n",
              "      <th></th>\n",
              "      <th>id</th>\n",
              "      <th>emp_length</th>\n",
              "      <th>annual_inc</th>\n",
              "      <th>annual_inc_joint</th>\n",
              "      <th>application_type</th>\n",
              "      <th>dti_joint</th>\n",
              "    </tr>\n",
              "    <tr>\n",
              "      <th>issue_y</th>\n",
              "      <th></th>\n",
              "      <th></th>\n",
              "      <th></th>\n",
              "      <th></th>\n",
              "      <th></th>\n",
              "      <th></th>\n",
              "    </tr>\n",
              "  </thead>\n",
              "  <tbody>\n",
              "    <tr>\n",
              "      <th>2016</th>\n",
              "      <td>28</td>\n",
              "      <td>1</td>\n",
              "      <td>28</td>\n",
              "      <td>28</td>\n",
              "      <td>28</td>\n",
              "      <td>28</td>\n",
              "    </tr>\n",
              "    <tr>\n",
              "      <th>2017</th>\n",
              "      <td>129</td>\n",
              "      <td>9</td>\n",
              "      <td>129</td>\n",
              "      <td>129</td>\n",
              "      <td>129</td>\n",
              "      <td>129</td>\n",
              "    </tr>\n",
              "    <tr>\n",
              "      <th>2018</th>\n",
              "      <td>82</td>\n",
              "      <td>1</td>\n",
              "      <td>82</td>\n",
              "      <td>82</td>\n",
              "      <td>82</td>\n",
              "      <td>82</td>\n",
              "    </tr>\n",
              "  </tbody>\n",
              "</table>\n",
              "</div>"
            ],
            "text/plain": [
              "          id  emp_length  ...  application_type  dti_joint\n",
              "issue_y                   ...                             \n",
              "2016      28           1  ...                28         28\n",
              "2017     129           9  ...               129        129\n",
              "2018      82           1  ...                82         82\n",
              "\n",
              "[3 rows x 6 columns]"
            ]
          },
          "metadata": {
            "tags": []
          },
          "execution_count": 108
        }
      ]
    },
    {
      "cell_type": "code",
      "metadata": {
        "id": "Pix35dVPznNv",
        "colab_type": "code",
        "outputId": "f97b6067-8d2e-437d-fcd6-2f0265451555",
        "colab": {
          "base_uri": "https://localhost:8080/",
          "height": 85
        }
      },
      "source": [
        "# Most null value in dti also don't have income\n",
        "dti_na.annual_inc.value_counts()"
      ],
      "execution_count": 0,
      "outputs": [
        {
          "output_type": "execute_result",
          "data": {
            "text/plain": [
              "0.0    230\n",
              "1.0      8\n",
              "2.0      1\n",
              "Name: annual_inc, dtype: int64"
            ]
          },
          "metadata": {
            "tags": []
          },
          "execution_count": 110
        }
      ]
    },
    {
      "cell_type": "code",
      "metadata": {
        "id": "FYdQyWYDz7Se",
        "colab_type": "code",
        "outputId": "672a5357-77ef-4811-e770-2d2f19e5624d",
        "colab": {
          "base_uri": "https://localhost:8080/",
          "height": 34
        }
      },
      "source": [
        "# In the whole dataset, all no income cases don't have dti\n",
        "# as dti=debt/income, and income can't be zero in this case\n",
        "training.loc[training.annual_inc==0,'id'].count()"
      ],
      "execution_count": 0,
      "outputs": [
        {
          "output_type": "execute_result",
          "data": {
            "text/plain": [
              "230"
            ]
          },
          "metadata": {
            "tags": []
          },
          "execution_count": 111
        }
      ]
    },
    {
      "cell_type": "code",
      "metadata": {
        "id": "SdysuN7wz9pu",
        "colab_type": "code",
        "outputId": "84a73b08-749f-42fd-e908-9db7720e1371",
        "colab": {
          "base_uri": "https://localhost:8080/",
          "height": 68
        }
      },
      "source": [
        "# All null dti applicants have a co-borrower\n",
        "print('Application Type in Null dti loans: ',dti_na.application_type.value_counts())\n",
        "print('Number of Null dti in coborrower: ',training.dti_joint.isna().sum())"
      ],
      "execution_count": 0,
      "outputs": [
        {
          "output_type": "stream",
          "text": [
            "Application Type in Null dti loans:  Joint App    239\n",
            "Name: application_type, dtype: int64\n",
            "Number of Null dti in coborrower:  1026576\n"
          ],
          "name": "stdout"
        }
      ]
    },
    {
      "cell_type": "code",
      "metadata": {
        "id": "c_kYeuDK0Cp_",
        "colab_type": "code",
        "outputId": "426b213f-09b7-4f76-bc88-33eb8a701515",
        "colab": {
          "base_uri": "https://localhost:8080/",
          "height": 68
        }
      },
      "source": [
        "# Null dti_joint counts matches Individual applicants\n",
        "training.application_type.value_counts(dropna=False)"
      ],
      "execution_count": 0,
      "outputs": [
        {
          "output_type": "execute_result",
          "data": {
            "text/plain": [
              "Individual    1026576\n",
              "Joint App       18509\n",
              "Name: application_type, dtype: int64"
            ]
          },
          "metadata": {
            "tags": []
          },
          "execution_count": 117
        }
      ]
    },
    {
      "cell_type": "markdown",
      "metadata": {
        "id": "f-AOdruJ2TKK",
        "colab_type": "text"
      },
      "source": [
        "##1.4 bc_open_to_buy\n",
        "**Solution:** Set all nulls to 0\n",
        "\n",
        "Definition: The difference between the credit limit assigned to a cardholder account and the present balance on the account. (on revolving account)"
      ]
    },
    {
      "cell_type": "code",
      "metadata": {
        "id": "0pCAFQtG2emm",
        "colab_type": "code",
        "colab": {}
      },
      "source": [
        "bc_open_to_buyna=training.loc[training.bc_open_to_buy.isnull(),['id','issue_y','num_rev_accts','revol_bal','revol_util','num_actv_rev_tl']]\n",
        "bc_open_to_buyzeros=training.loc[training.bc_open_to_buy==0,['id','issue_y','num_rev_accts','revol_bal','revol_util','num_actv_rev_tl']]"
      ],
      "execution_count": 0,
      "outputs": []
    },
    {
      "cell_type": "code",
      "metadata": {
        "id": "cTg21Lqe2qhJ",
        "colab_type": "code",
        "outputId": "cb711290-349e-4fac-8532-81346cac3780",
        "colab": {
          "base_uri": "https://localhost:8080/",
          "height": 421
        }
      },
      "source": [
        "pd.DataFrame(data=(bc_open_to_buyna.issue_y.value_counts().sort_index(),bc_open_to_buyzeros.issue_y.value_counts().sort_index()),index=['Null_Count','Zero_Count']).T"
      ],
      "execution_count": 0,
      "outputs": [
        {
          "output_type": "execute_result",
          "data": {
            "text/html": [
              "<div>\n",
              "<style scoped>\n",
              "    .dataframe tbody tr th:only-of-type {\n",
              "        vertical-align: middle;\n",
              "    }\n",
              "\n",
              "    .dataframe tbody tr th {\n",
              "        vertical-align: top;\n",
              "    }\n",
              "\n",
              "    .dataframe thead th {\n",
              "        text-align: right;\n",
              "    }\n",
              "</style>\n",
              "<table border=\"1\" class=\"dataframe\">\n",
              "  <thead>\n",
              "    <tr style=\"text-align: right;\">\n",
              "      <th></th>\n",
              "      <th>Null_Count</th>\n",
              "      <th>Zero_Count</th>\n",
              "    </tr>\n",
              "  </thead>\n",
              "  <tbody>\n",
              "    <tr>\n",
              "      <th>2007</th>\n",
              "      <td>479.0</td>\n",
              "      <td>NaN</td>\n",
              "    </tr>\n",
              "    <tr>\n",
              "      <th>2008</th>\n",
              "      <td>1906.0</td>\n",
              "      <td>NaN</td>\n",
              "    </tr>\n",
              "    <tr>\n",
              "      <th>2009</th>\n",
              "      <td>4226.0</td>\n",
              "      <td>NaN</td>\n",
              "    </tr>\n",
              "    <tr>\n",
              "      <th>2010</th>\n",
              "      <td>10071.0</td>\n",
              "      <td>NaN</td>\n",
              "    </tr>\n",
              "    <tr>\n",
              "      <th>2011</th>\n",
              "      <td>17379.0</td>\n",
              "      <td>NaN</td>\n",
              "    </tr>\n",
              "    <tr>\n",
              "      <th>2012</th>\n",
              "      <td>6421.0</td>\n",
              "      <td>779.0</td>\n",
              "    </tr>\n",
              "    <tr>\n",
              "      <th>2013</th>\n",
              "      <td>798.0</td>\n",
              "      <td>2111.0</td>\n",
              "    </tr>\n",
              "    <tr>\n",
              "      <th>2014</th>\n",
              "      <td>1863.0</td>\n",
              "      <td>3573.0</td>\n",
              "    </tr>\n",
              "    <tr>\n",
              "      <th>2015</th>\n",
              "      <td>2898.0</td>\n",
              "      <td>5872.0</td>\n",
              "    </tr>\n",
              "    <tr>\n",
              "      <th>2016</th>\n",
              "      <td>2383.0</td>\n",
              "      <td>3016.0</td>\n",
              "    </tr>\n",
              "    <tr>\n",
              "      <th>2017</th>\n",
              "      <td>1676.0</td>\n",
              "      <td>1287.0</td>\n",
              "    </tr>\n",
              "    <tr>\n",
              "      <th>2018</th>\n",
              "      <td>630.0</td>\n",
              "      <td>243.0</td>\n",
              "    </tr>\n",
              "  </tbody>\n",
              "</table>\n",
              "</div>"
            ],
            "text/plain": [
              "      Null_Count  Zero_Count\n",
              "2007       479.0         NaN\n",
              "2008      1906.0         NaN\n",
              "2009      4226.0         NaN\n",
              "2010     10071.0         NaN\n",
              "2011     17379.0         NaN\n",
              "2012      6421.0       779.0\n",
              "2013       798.0      2111.0\n",
              "2014      1863.0      3573.0\n",
              "2015      2898.0      5872.0\n",
              "2016      2383.0      3016.0\n",
              "2017      1676.0      1287.0\n",
              "2018       630.0       243.0"
            ]
          },
          "metadata": {
            "tags": []
          },
          "execution_count": 123
        }
      ]
    },
    {
      "cell_type": "code",
      "metadata": {
        "id": "-3CrQKVs3AyR",
        "colab_type": "code",
        "outputId": "63b50fe8-1d77-4ca1-cdfe-2203ddc2fbff",
        "colab": {
          "base_uri": "https://localhost:8080/",
          "height": 221
        }
      },
      "source": [
        "bc_open_to_buyna.revol_bal.value_counts()"
      ],
      "execution_count": 0,
      "outputs": [
        {
          "output_type": "execute_result",
          "data": {
            "text/plain": [
              "0        2023\n",
              "298        14\n",
              "255        14\n",
              "1112       12\n",
              "10         12\n",
              "         ... \n",
              "9098        1\n",
              "15241       1\n",
              "19335       1\n",
              "23429       1\n",
              "30693       1\n",
              "Name: revol_bal, Length: 23754, dtype: int64"
            ]
          },
          "metadata": {
            "tags": []
          },
          "execution_count": 124
        }
      ]
    },
    {
      "cell_type": "code",
      "metadata": {
        "id": "wo1sxlxS3Pz5",
        "colab_type": "code",
        "outputId": "1ec014a6-55ad-4247-dbdc-302da31ffe08",
        "colab": {
          "base_uri": "https://localhost:8080/",
          "height": 221
        }
      },
      "source": [
        "bc_open_to_buyna.revol_util.value_counts()"
      ],
      "execution_count": 0,
      "outputs": [
        {
          "output_type": "execute_result",
          "data": {
            "text/plain": [
              "0.00     1550\n",
              "66.70      74\n",
              "54.10      73\n",
              "55.80      72\n",
              "63.00      72\n",
              "         ... \n",
              "10.61       1\n",
              "17.78       1\n",
              "7.28        1\n",
              "43.38       1\n",
              "58.19       1\n",
              "Name: revol_util, Length: 1154, dtype: int64"
            ]
          },
          "metadata": {
            "tags": []
          },
          "execution_count": 125
        }
      ]
    },
    {
      "cell_type": "markdown",
      "metadata": {
        "id": "VTM6NToR3nlL",
        "colab_type": "text"
      },
      "source": [
        "##1.5 mort_acc & sec_app_mort_acc\n",
        "**Solution:** Set all nulls to 0\n",
        "\n",
        "- mort_acc: null and 0 are interchangable, as before 2012, it's marked as null but after it's marked as 0\n",
        "\n",
        "- sec_app_mort_acc: null and 0 are interchangable, as before 2017, it's marked as null but after it's marked as 0\n",
        "\n",
        "Note: Co-borrower program started in 2015"
      ]
    },
    {
      "cell_type": "code",
      "metadata": {
        "id": "2SsisAU94qIB",
        "colab_type": "code",
        "outputId": "8563d380-3ea5-4a27-89d6-bc579fb9abf9",
        "colab": {
          "base_uri": "https://localhost:8080/",
          "height": 421
        }
      },
      "source": [
        "# mort_acc\n",
        "# Null value disappear in 2012, and zero value starts appear in 2012\n",
        "mort_acc_na=training.loc[training.mort_acc.isnull(),['id','issue_y','mort_acc']]\n",
        "mort_acc_zeros=training.loc[training.mort_acc==0,['id','issue_y','mort_acc']]\n",
        "pd.DataFrame(data=(mort_acc_na.issue_y.value_counts().sort_index(),mort_acc_zeros.issue_y.value_counts().sort_index()),index=['Null_Count','Zero_Count']).T"
      ],
      "execution_count": 0,
      "outputs": [
        {
          "output_type": "execute_result",
          "data": {
            "text/html": [
              "<div>\n",
              "<style scoped>\n",
              "    .dataframe tbody tr th:only-of-type {\n",
              "        vertical-align: middle;\n",
              "    }\n",
              "\n",
              "    .dataframe tbody tr th {\n",
              "        vertical-align: top;\n",
              "    }\n",
              "\n",
              "    .dataframe thead th {\n",
              "        text-align: right;\n",
              "    }\n",
              "</style>\n",
              "<table border=\"1\" class=\"dataframe\">\n",
              "  <thead>\n",
              "    <tr style=\"text-align: right;\">\n",
              "      <th></th>\n",
              "      <th>Null_Count</th>\n",
              "      <th>Zero_Count</th>\n",
              "    </tr>\n",
              "  </thead>\n",
              "  <tbody>\n",
              "    <tr>\n",
              "      <th>2007</th>\n",
              "      <td>479.0</td>\n",
              "      <td>NaN</td>\n",
              "    </tr>\n",
              "    <tr>\n",
              "      <th>2008</th>\n",
              "      <td>1906.0</td>\n",
              "      <td>NaN</td>\n",
              "    </tr>\n",
              "    <tr>\n",
              "      <th>2009</th>\n",
              "      <td>4226.0</td>\n",
              "      <td>NaN</td>\n",
              "    </tr>\n",
              "    <tr>\n",
              "      <th>2010</th>\n",
              "      <td>10071.0</td>\n",
              "      <td>NaN</td>\n",
              "    </tr>\n",
              "    <tr>\n",
              "      <th>2011</th>\n",
              "      <td>17379.0</td>\n",
              "      <td>NaN</td>\n",
              "    </tr>\n",
              "    <tr>\n",
              "      <th>2012</th>\n",
              "      <td>5989.0</td>\n",
              "      <td>17048.0</td>\n",
              "    </tr>\n",
              "    <tr>\n",
              "      <th>2013</th>\n",
              "      <td>NaN</td>\n",
              "      <td>41221.0</td>\n",
              "    </tr>\n",
              "    <tr>\n",
              "      <th>2014</th>\n",
              "      <td>NaN</td>\n",
              "      <td>68938.0</td>\n",
              "    </tr>\n",
              "    <tr>\n",
              "      <th>2015</th>\n",
              "      <td>NaN</td>\n",
              "      <td>121952.0</td>\n",
              "    </tr>\n",
              "    <tr>\n",
              "      <th>2016</th>\n",
              "      <td>NaN</td>\n",
              "      <td>88098.0</td>\n",
              "    </tr>\n",
              "    <tr>\n",
              "      <th>2017</th>\n",
              "      <td>NaN</td>\n",
              "      <td>52235.0</td>\n",
              "    </tr>\n",
              "    <tr>\n",
              "      <th>2018</th>\n",
              "      <td>NaN</td>\n",
              "      <td>15404.0</td>\n",
              "    </tr>\n",
              "  </tbody>\n",
              "</table>\n",
              "</div>"
            ],
            "text/plain": [
              "      Null_Count  Zero_Count\n",
              "2007       479.0         NaN\n",
              "2008      1906.0         NaN\n",
              "2009      4226.0         NaN\n",
              "2010     10071.0         NaN\n",
              "2011     17379.0         NaN\n",
              "2012      5989.0     17048.0\n",
              "2013         NaN     41221.0\n",
              "2014         NaN     68938.0\n",
              "2015         NaN    121952.0\n",
              "2016         NaN     88098.0\n",
              "2017         NaN     52235.0\n",
              "2018         NaN     15404.0"
            ]
          },
          "metadata": {
            "tags": []
          },
          "execution_count": 132
        }
      ]
    },
    {
      "cell_type": "code",
      "metadata": {
        "id": "6ZXmgrmq3Ryh",
        "colab_type": "code",
        "outputId": "a57680ab-6c31-446d-af8e-3ad285952420",
        "colab": {
          "base_uri": "https://localhost:8080/",
          "height": 173
        }
      },
      "source": [
        "# sec_app_mort_acc\n",
        "# Select Null value and zero value in joint application loans\n",
        "# Null value disappear in 2017, and zero value starts appear in 2017\n",
        "sec_app_mort_acc_na=training.loc[(training.application_type=='Joint App') & (training.sec_app_mort_acc.isnull()),['id','issue_y','mort_acc']]\n",
        "sec_app_mort_acc_zeros=training.loc[(training.application_type=='Joint App') & (training.sec_app_mort_acc==0),['id','issue_y','mort_acc']]\n",
        "pd.DataFrame(data=(sec_app_mort_acc_na.issue_y.value_counts().sort_index(),sec_app_mort_acc_zeros.issue_y.value_counts().sort_index()),index=['Null_Count','Zero_Count']).T"
      ],
      "execution_count": 0,
      "outputs": [
        {
          "output_type": "execute_result",
          "data": {
            "text/html": [
              "<div>\n",
              "<style scoped>\n",
              "    .dataframe tbody tr th:only-of-type {\n",
              "        vertical-align: middle;\n",
              "    }\n",
              "\n",
              "    .dataframe tbody tr th {\n",
              "        vertical-align: top;\n",
              "    }\n",
              "\n",
              "    .dataframe thead th {\n",
              "        text-align: right;\n",
              "    }\n",
              "</style>\n",
              "<table border=\"1\" class=\"dataframe\">\n",
              "  <thead>\n",
              "    <tr style=\"text-align: right;\">\n",
              "      <th></th>\n",
              "      <th>Null_Count</th>\n",
              "      <th>Zero_Count</th>\n",
              "    </tr>\n",
              "  </thead>\n",
              "  <tbody>\n",
              "    <tr>\n",
              "      <th>2015</th>\n",
              "      <td>306.0</td>\n",
              "      <td>NaN</td>\n",
              "    </tr>\n",
              "    <tr>\n",
              "      <th>2016</th>\n",
              "      <td>3917.0</td>\n",
              "      <td>NaN</td>\n",
              "    </tr>\n",
              "    <tr>\n",
              "      <th>2017</th>\n",
              "      <td>1117.0</td>\n",
              "      <td>3106.0</td>\n",
              "    </tr>\n",
              "    <tr>\n",
              "      <th>2018</th>\n",
              "      <td>NaN</td>\n",
              "      <td>1629.0</td>\n",
              "    </tr>\n",
              "  </tbody>\n",
              "</table>\n",
              "</div>"
            ],
            "text/plain": [
              "      Null_Count  Zero_Count\n",
              "2015       306.0         NaN\n",
              "2016      3917.0         NaN\n",
              "2017      1117.0      3106.0\n",
              "2018         NaN      1629.0"
            ]
          },
          "metadata": {
            "tags": []
          },
          "execution_count": 131
        }
      ]
    },
    {
      "cell_type": "markdown",
      "metadata": {
        "id": "ABnK2pRR7NMT",
        "colab_type": "text"
      },
      "source": [
        "##1.6 mths_since_recent_bc & num_bc_tl\n",
        "**Solution:**\n",
        "- mths_since_recent_bc: Set null to max(mths_since_recent_bc)+1=640\n",
        "- num_bc_tl: set null to 0\n",
        "\n",
        "**mths_since_recent_bc:** 0 means the most recent opened bank accounr after 2012. Before 2012, null means no bank account, but after 2012, the null has multiple interpretation, thus, we remain it as max(mths_since_recnet_bc)=639 for now.\n",
        "\n",
        "**num_bc_tl:** before 2012 was null means no bank account, after it was replaced with 0"
      ]
    },
    {
      "cell_type": "code",
      "metadata": {
        "id": "71S0Qkqd-mev",
        "colab_type": "code",
        "colab": {}
      },
      "source": [
        "mths_since_recent_bc_na=training.loc[training.mths_since_recent_bc.isnull(),['issue_y','id','num_bc_tl']]\n",
        "mths_since_recent_bc_zeros=training.loc[training.mths_since_recent_bc==0,['issue_y','id','num_bc_tl']]\n",
        "num_bc_tl_na=training.loc[training.num_bc_tl.isnull(),['issue_y']]\n",
        "num_bc_tl_zeros=training.loc[training.num_bc_tl==0,['issue_y']]"
      ],
      "execution_count": 0,
      "outputs": []
    },
    {
      "cell_type": "code",
      "metadata": {
        "id": "E983HIXR-zmI",
        "colab_type": "code",
        "outputId": "96e3dd1d-d01c-441e-af83-0335269d88ba",
        "colab": {
          "base_uri": "https://localhost:8080/",
          "height": 421
        }
      },
      "source": [
        "pd.DataFrame(data=(mths_since_recent_bc_na.issue_y.value_counts().sort_index(),\n",
        "                   mths_since_recent_bc_zeros.issue_y.value_counts().sort_index(),\n",
        "                   num_bc_tl_na.issue_y.value_counts().sort_index(),\n",
        "                   num_bc_tl_zeros.issue_y.value_counts().sort_index()),\n",
        "             index=['mths_na','mths_zeros','num_bc_na','num_bc_zeros']).T"
      ],
      "execution_count": 0,
      "outputs": [
        {
          "output_type": "execute_result",
          "data": {
            "text/html": [
              "<div>\n",
              "<style scoped>\n",
              "    .dataframe tbody tr th:only-of-type {\n",
              "        vertical-align: middle;\n",
              "    }\n",
              "\n",
              "    .dataframe tbody tr th {\n",
              "        vertical-align: top;\n",
              "    }\n",
              "\n",
              "    .dataframe thead th {\n",
              "        text-align: right;\n",
              "    }\n",
              "</style>\n",
              "<table border=\"1\" class=\"dataframe\">\n",
              "  <thead>\n",
              "    <tr style=\"text-align: right;\">\n",
              "      <th></th>\n",
              "      <th>mths_na</th>\n",
              "      <th>mths_zeros</th>\n",
              "      <th>num_bc_na</th>\n",
              "      <th>num_bc_zeros</th>\n",
              "    </tr>\n",
              "  </thead>\n",
              "  <tbody>\n",
              "    <tr>\n",
              "      <th>2007</th>\n",
              "      <td>479.0</td>\n",
              "      <td>NaN</td>\n",
              "      <td>479.0</td>\n",
              "      <td>NaN</td>\n",
              "    </tr>\n",
              "    <tr>\n",
              "      <th>2008</th>\n",
              "      <td>1906.0</td>\n",
              "      <td>NaN</td>\n",
              "      <td>1906.0</td>\n",
              "      <td>NaN</td>\n",
              "    </tr>\n",
              "    <tr>\n",
              "      <th>2009</th>\n",
              "      <td>4226.0</td>\n",
              "      <td>NaN</td>\n",
              "      <td>4226.0</td>\n",
              "      <td>NaN</td>\n",
              "    </tr>\n",
              "    <tr>\n",
              "      <th>2010</th>\n",
              "      <td>10071.0</td>\n",
              "      <td>NaN</td>\n",
              "      <td>10071.0</td>\n",
              "      <td>NaN</td>\n",
              "    </tr>\n",
              "    <tr>\n",
              "      <th>2011</th>\n",
              "      <td>17379.0</td>\n",
              "      <td>NaN</td>\n",
              "      <td>17379.0</td>\n",
              "      <td>NaN</td>\n",
              "    </tr>\n",
              "    <tr>\n",
              "      <th>2012</th>\n",
              "      <td>6367.0</td>\n",
              "      <td>248.0</td>\n",
              "      <td>22140.0</td>\n",
              "      <td>28.0</td>\n",
              "    </tr>\n",
              "    <tr>\n",
              "      <th>2013</th>\n",
              "      <td>699.0</td>\n",
              "      <td>754.0</td>\n",
              "      <td>NaN</td>\n",
              "      <td>83.0</td>\n",
              "    </tr>\n",
              "    <tr>\n",
              "      <th>2014</th>\n",
              "      <td>1718.0</td>\n",
              "      <td>1185.0</td>\n",
              "      <td>NaN</td>\n",
              "      <td>313.0</td>\n",
              "    </tr>\n",
              "    <tr>\n",
              "      <th>2015</th>\n",
              "      <td>2783.0</td>\n",
              "      <td>1614.0</td>\n",
              "      <td>NaN</td>\n",
              "      <td>637.0</td>\n",
              "    </tr>\n",
              "    <tr>\n",
              "      <th>2016</th>\n",
              "      <td>2231.0</td>\n",
              "      <td>1344.0</td>\n",
              "      <td>NaN</td>\n",
              "      <td>563.0</td>\n",
              "    </tr>\n",
              "    <tr>\n",
              "      <th>2017</th>\n",
              "      <td>1588.0</td>\n",
              "      <td>888.0</td>\n",
              "      <td>NaN</td>\n",
              "      <td>440.0</td>\n",
              "    </tr>\n",
              "    <tr>\n",
              "      <th>2018</th>\n",
              "      <td>583.0</td>\n",
              "      <td>291.0</td>\n",
              "      <td>NaN</td>\n",
              "      <td>155.0</td>\n",
              "    </tr>\n",
              "  </tbody>\n",
              "</table>\n",
              "</div>"
            ],
            "text/plain": [
              "      mths_na  mths_zeros  num_bc_na  num_bc_zeros\n",
              "2007    479.0         NaN      479.0           NaN\n",
              "2008   1906.0         NaN     1906.0           NaN\n",
              "2009   4226.0         NaN     4226.0           NaN\n",
              "2010  10071.0         NaN    10071.0           NaN\n",
              "2011  17379.0         NaN    17379.0           NaN\n",
              "2012   6367.0       248.0    22140.0          28.0\n",
              "2013    699.0       754.0        NaN          83.0\n",
              "2014   1718.0      1185.0        NaN         313.0\n",
              "2015   2783.0      1614.0        NaN         637.0\n",
              "2016   2231.0      1344.0        NaN         563.0\n",
              "2017   1588.0       888.0        NaN         440.0\n",
              "2018    583.0       291.0        NaN         155.0"
            ]
          },
          "metadata": {
            "tags": []
          },
          "execution_count": 143
        }
      ]
    },
    {
      "cell_type": "code",
      "metadata": {
        "id": "ljCwA0g5AHAW",
        "colab_type": "code",
        "outputId": "b8f849d4-b616-4446-8677-4ff6e1427e9a",
        "colab": {
          "base_uri": "https://localhost:8080/",
          "height": 34
        }
      },
      "source": [
        "training.mths_since_recent_bc.max()"
      ],
      "execution_count": 0,
      "outputs": [
        {
          "output_type": "execute_result",
          "data": {
            "text/plain": [
              "639.0"
            ]
          },
          "metadata": {
            "tags": []
          },
          "execution_count": 144
        }
      ]
    },
    {
      "cell_type": "markdown",
      "metadata": {
        "id": "B0fF4pxTDLAD",
        "colab_type": "text"
      },
      "source": [
        "## 1.7 num_actv_bc_tl & num_actv_rev_tl & num_bc_sats & num_il_tl & num_op_rev_tl & num_rev_accts & sec_app_num_rev_accts & num_sats & num_tl_op_past_12m & tot_coll_amt & tot_cur_bal & total_bal_ex_mort & bc_util & num_bc_tl & mo_sin_old_il_acct & mo_sin_old_rev_tl_op & mo_sin_rcnt_rev_tl_op\n",
        "\n",
        "**Solution:**\n",
        "1. Set null to 0\n",
        "2. Drop columns: bc_util & mo_sin_old_il_acct & mo_sin_old_rev_tl_op\n",
        "\n",
        "Kept columns have null and 0 interchangable"
      ]
    },
    {
      "cell_type": "code",
      "metadata": {
        "id": "oapu5BlkC6o3",
        "colab_type": "code",
        "outputId": "9adfdca7-5fe2-41eb-a37f-3a0ed9db4369",
        "colab": {
          "base_uri": "https://localhost:8080/",
          "height": 131
        }
      },
      "source": [
        "# num_actv_bc_tl\n",
        "num_actv_bc_na=training.loc[training.num_actv_bc_tl.isnull(),['issue_y','id']]\n",
        "num_actv_bc_zeros=training.loc[training.num_actv_bc_tl==0,['issue_y','id']]\n",
        "pd.DataFrame(data=(num_actv_bc_na.issue_y.value_counts(), num_actv_bc_zeros.issue_y.value_counts()),index=['num_actv_bc_tl_na','num_actv_bc_tl_zeros'])"
      ],
      "execution_count": 0,
      "outputs": [
        {
          "output_type": "execute_result",
          "data": {
            "text/html": [
              "<div>\n",
              "<style scoped>\n",
              "    .dataframe tbody tr th:only-of-type {\n",
              "        vertical-align: middle;\n",
              "    }\n",
              "\n",
              "    .dataframe tbody tr th {\n",
              "        vertical-align: top;\n",
              "    }\n",
              "\n",
              "    .dataframe thead th {\n",
              "        text-align: right;\n",
              "    }\n",
              "</style>\n",
              "<table border=\"1\" class=\"dataframe\">\n",
              "  <thead>\n",
              "    <tr style=\"text-align: right;\">\n",
              "      <th></th>\n",
              "      <th>2007</th>\n",
              "      <th>2008</th>\n",
              "      <th>2009</th>\n",
              "      <th>2010</th>\n",
              "      <th>2011</th>\n",
              "      <th>2012</th>\n",
              "      <th>2013</th>\n",
              "      <th>2014</th>\n",
              "      <th>2015</th>\n",
              "      <th>2016</th>\n",
              "      <th>2017</th>\n",
              "      <th>2018</th>\n",
              "    </tr>\n",
              "  </thead>\n",
              "  <tbody>\n",
              "    <tr>\n",
              "      <th>num_actv_bc_tl_na</th>\n",
              "      <td>479.0</td>\n",
              "      <td>1906.0</td>\n",
              "      <td>4226.0</td>\n",
              "      <td>10071.0</td>\n",
              "      <td>17379.0</td>\n",
              "      <td>22140.0</td>\n",
              "      <td>NaN</td>\n",
              "      <td>NaN</td>\n",
              "      <td>NaN</td>\n",
              "      <td>NaN</td>\n",
              "      <td>NaN</td>\n",
              "      <td>NaN</td>\n",
              "    </tr>\n",
              "    <tr>\n",
              "      <th>num_actv_bc_tl_zeros</th>\n",
              "      <td>NaN</td>\n",
              "      <td>NaN</td>\n",
              "      <td>NaN</td>\n",
              "      <td>NaN</td>\n",
              "      <td>NaN</td>\n",
              "      <td>385.0</td>\n",
              "      <td>1575.0</td>\n",
              "      <td>3230.0</td>\n",
              "      <td>5730.0</td>\n",
              "      <td>4816.0</td>\n",
              "      <td>3577.0</td>\n",
              "      <td>1738.0</td>\n",
              "    </tr>\n",
              "  </tbody>\n",
              "</table>\n",
              "</div>"
            ],
            "text/plain": [
              "                       2007    2008    2009  ...    2016    2017    2018\n",
              "num_actv_bc_tl_na     479.0  1906.0  4226.0  ...     NaN     NaN     NaN\n",
              "num_actv_bc_tl_zeros    NaN     NaN     NaN  ...  4816.0  3577.0  1738.0\n",
              "\n",
              "[2 rows x 12 columns]"
            ]
          },
          "metadata": {
            "tags": []
          },
          "execution_count": 147
        }
      ]
    },
    {
      "cell_type": "code",
      "metadata": {
        "id": "JQyUkMZxFT58",
        "colab_type": "code",
        "outputId": "e84778b9-6563-4210-8df2-e7ecdedb6dc6",
        "colab": {
          "base_uri": "https://localhost:8080/",
          "height": 131
        }
      },
      "source": [
        "# num_actv_rev_tl\n",
        "num_actv_rev_tl_na=training.loc[training.num_actv_bc_tl.isnull(),['issue_y','id']]\n",
        "num_actv_rev_tlc_zeros=training.loc[training.num_actv_bc_tl==0,['issue_y','id']]\n",
        "pd.DataFrame(data=(num_actv_rev_tl_na.issue_y.value_counts(), num_actv_rev_tlc_zeros.issue_y.value_counts()),index=['num_actv_rev_tl_na','num_actv_rev_tl_zeros'])"
      ],
      "execution_count": 0,
      "outputs": [
        {
          "output_type": "execute_result",
          "data": {
            "text/html": [
              "<div>\n",
              "<style scoped>\n",
              "    .dataframe tbody tr th:only-of-type {\n",
              "        vertical-align: middle;\n",
              "    }\n",
              "\n",
              "    .dataframe tbody tr th {\n",
              "        vertical-align: top;\n",
              "    }\n",
              "\n",
              "    .dataframe thead th {\n",
              "        text-align: right;\n",
              "    }\n",
              "</style>\n",
              "<table border=\"1\" class=\"dataframe\">\n",
              "  <thead>\n",
              "    <tr style=\"text-align: right;\">\n",
              "      <th></th>\n",
              "      <th>2007</th>\n",
              "      <th>2008</th>\n",
              "      <th>2009</th>\n",
              "      <th>2010</th>\n",
              "      <th>2011</th>\n",
              "      <th>2012</th>\n",
              "      <th>2013</th>\n",
              "      <th>2014</th>\n",
              "      <th>2015</th>\n",
              "      <th>2016</th>\n",
              "      <th>2017</th>\n",
              "      <th>2018</th>\n",
              "    </tr>\n",
              "  </thead>\n",
              "  <tbody>\n",
              "    <tr>\n",
              "      <th>num_actv_rev_tl_na</th>\n",
              "      <td>479.0</td>\n",
              "      <td>1906.0</td>\n",
              "      <td>4226.0</td>\n",
              "      <td>10071.0</td>\n",
              "      <td>17379.0</td>\n",
              "      <td>22140.0</td>\n",
              "      <td>NaN</td>\n",
              "      <td>NaN</td>\n",
              "      <td>NaN</td>\n",
              "      <td>NaN</td>\n",
              "      <td>NaN</td>\n",
              "      <td>NaN</td>\n",
              "    </tr>\n",
              "    <tr>\n",
              "      <th>num_actv_rev_tl_zeros</th>\n",
              "      <td>NaN</td>\n",
              "      <td>NaN</td>\n",
              "      <td>NaN</td>\n",
              "      <td>NaN</td>\n",
              "      <td>NaN</td>\n",
              "      <td>385.0</td>\n",
              "      <td>1575.0</td>\n",
              "      <td>3230.0</td>\n",
              "      <td>5730.0</td>\n",
              "      <td>4816.0</td>\n",
              "      <td>3577.0</td>\n",
              "      <td>1738.0</td>\n",
              "    </tr>\n",
              "  </tbody>\n",
              "</table>\n",
              "</div>"
            ],
            "text/plain": [
              "                        2007    2008    2009  ...    2016    2017    2018\n",
              "num_actv_rev_tl_na     479.0  1906.0  4226.0  ...     NaN     NaN     NaN\n",
              "num_actv_rev_tl_zeros    NaN     NaN     NaN  ...  4816.0  3577.0  1738.0\n",
              "\n",
              "[2 rows x 12 columns]"
            ]
          },
          "metadata": {
            "tags": []
          },
          "execution_count": 148
        }
      ]
    },
    {
      "cell_type": "code",
      "metadata": {
        "id": "o0uDzm7qFwpu",
        "colab_type": "code",
        "outputId": "93927660-81f5-47f9-e0f6-385e6aa8133c",
        "colab": {
          "base_uri": "https://localhost:8080/",
          "height": 131
        }
      },
      "source": [
        "# num_bc_sats\n",
        "num_bc_sats_na=training.loc[training.num_bc_sats.isnull(),['issue_y','id']]\n",
        "num_bc_sats_zeros=training.loc[training.num_bc_sats==0,['issue_y','id']]\n",
        "pd.DataFrame(data=(num_bc_sats_na.issue_y.value_counts(), num_bc_sats_zeros.issue_y.value_counts()),index=['num_bc_sats_na','num_bc_sats_zeros'])"
      ],
      "execution_count": 0,
      "outputs": [
        {
          "output_type": "execute_result",
          "data": {
            "text/html": [
              "<div>\n",
              "<style scoped>\n",
              "    .dataframe tbody tr th:only-of-type {\n",
              "        vertical-align: middle;\n",
              "    }\n",
              "\n",
              "    .dataframe tbody tr th {\n",
              "        vertical-align: top;\n",
              "    }\n",
              "\n",
              "    .dataframe thead th {\n",
              "        text-align: right;\n",
              "    }\n",
              "</style>\n",
              "<table border=\"1\" class=\"dataframe\">\n",
              "  <thead>\n",
              "    <tr style=\"text-align: right;\">\n",
              "      <th></th>\n",
              "      <th>2007</th>\n",
              "      <th>2008</th>\n",
              "      <th>2009</th>\n",
              "      <th>2010</th>\n",
              "      <th>2011</th>\n",
              "      <th>2012</th>\n",
              "      <th>2013</th>\n",
              "      <th>2014</th>\n",
              "      <th>2015</th>\n",
              "      <th>2016</th>\n",
              "      <th>2017</th>\n",
              "      <th>2018</th>\n",
              "    </tr>\n",
              "  </thead>\n",
              "  <tbody>\n",
              "    <tr>\n",
              "      <th>num_bc_sats_na</th>\n",
              "      <td>479.0</td>\n",
              "      <td>1906.0</td>\n",
              "      <td>4226.0</td>\n",
              "      <td>10071.0</td>\n",
              "      <td>17379.0</td>\n",
              "      <td>12805.0</td>\n",
              "      <td>NaN</td>\n",
              "      <td>NaN</td>\n",
              "      <td>NaN</td>\n",
              "      <td>NaN</td>\n",
              "      <td>NaN</td>\n",
              "      <td>NaN</td>\n",
              "    </tr>\n",
              "    <tr>\n",
              "      <th>num_bc_sats_zeros</th>\n",
              "      <td>NaN</td>\n",
              "      <td>NaN</td>\n",
              "      <td>NaN</td>\n",
              "      <td>NaN</td>\n",
              "      <td>NaN</td>\n",
              "      <td>295.0</td>\n",
              "      <td>709.0</td>\n",
              "      <td>1760.0</td>\n",
              "      <td>2848.0</td>\n",
              "      <td>2259.0</td>\n",
              "      <td>1608.0</td>\n",
              "      <td>589.0</td>\n",
              "    </tr>\n",
              "  </tbody>\n",
              "</table>\n",
              "</div>"
            ],
            "text/plain": [
              "                    2007    2008    2009  ...    2016    2017   2018\n",
              "num_bc_sats_na     479.0  1906.0  4226.0  ...     NaN     NaN    NaN\n",
              "num_bc_sats_zeros    NaN     NaN     NaN  ...  2259.0  1608.0  589.0\n",
              "\n",
              "[2 rows x 12 columns]"
            ]
          },
          "metadata": {
            "tags": []
          },
          "execution_count": 149
        }
      ]
    },
    {
      "cell_type": "code",
      "metadata": {
        "id": "gt0jPn0_GVpp",
        "colab_type": "code",
        "outputId": "a548a0ff-2572-44f8-8de5-3d127359f7cb",
        "colab": {
          "base_uri": "https://localhost:8080/",
          "height": 131
        }
      },
      "source": [
        "# num_il_tl \n",
        "num_il_tl_na=training.loc[training.num_il_tl.isnull(),['issue_y','id']]\n",
        "num_il_tl_zeros=training.loc[training.num_il_tl==0,['issue_y','id']]\n",
        "pd.DataFrame(data=(num_il_tl_na.issue_y.value_counts(), num_il_tl_zeros.issue_y.value_counts()),index=['num_il_tl_na','num_il_tl_zeros'])"
      ],
      "execution_count": 0,
      "outputs": [
        {
          "output_type": "execute_result",
          "data": {
            "text/html": [
              "<div>\n",
              "<style scoped>\n",
              "    .dataframe tbody tr th:only-of-type {\n",
              "        vertical-align: middle;\n",
              "    }\n",
              "\n",
              "    .dataframe tbody tr th {\n",
              "        vertical-align: top;\n",
              "    }\n",
              "\n",
              "    .dataframe thead th {\n",
              "        text-align: right;\n",
              "    }\n",
              "</style>\n",
              "<table border=\"1\" class=\"dataframe\">\n",
              "  <thead>\n",
              "    <tr style=\"text-align: right;\">\n",
              "      <th></th>\n",
              "      <th>2007</th>\n",
              "      <th>2008</th>\n",
              "      <th>2009</th>\n",
              "      <th>2010</th>\n",
              "      <th>2011</th>\n",
              "      <th>2012</th>\n",
              "      <th>2013</th>\n",
              "      <th>2014</th>\n",
              "      <th>2015</th>\n",
              "      <th>2016</th>\n",
              "      <th>2017</th>\n",
              "      <th>2018</th>\n",
              "    </tr>\n",
              "  </thead>\n",
              "  <tbody>\n",
              "    <tr>\n",
              "      <th>num_il_tl_na</th>\n",
              "      <td>479.0</td>\n",
              "      <td>1906.0</td>\n",
              "      <td>4226.0</td>\n",
              "      <td>10071.0</td>\n",
              "      <td>17379.0</td>\n",
              "      <td>22140.0</td>\n",
              "      <td>NaN</td>\n",
              "      <td>NaN</td>\n",
              "      <td>NaN</td>\n",
              "      <td>NaN</td>\n",
              "      <td>NaN</td>\n",
              "      <td>NaN</td>\n",
              "    </tr>\n",
              "    <tr>\n",
              "      <th>num_il_tl_zeros</th>\n",
              "      <td>NaN</td>\n",
              "      <td>NaN</td>\n",
              "      <td>NaN</td>\n",
              "      <td>NaN</td>\n",
              "      <td>NaN</td>\n",
              "      <td>941.0</td>\n",
              "      <td>3976.0</td>\n",
              "      <td>5503.0</td>\n",
              "      <td>9023.0</td>\n",
              "      <td>5487.0</td>\n",
              "      <td>3283.0</td>\n",
              "      <td>1239.0</td>\n",
              "    </tr>\n",
              "  </tbody>\n",
              "</table>\n",
              "</div>"
            ],
            "text/plain": [
              "                  2007    2008    2009     2010  ...    2015    2016    2017    2018\n",
              "num_il_tl_na     479.0  1906.0  4226.0  10071.0  ...     NaN     NaN     NaN     NaN\n",
              "num_il_tl_zeros    NaN     NaN     NaN      NaN  ...  9023.0  5487.0  3283.0  1239.0\n",
              "\n",
              "[2 rows x 12 columns]"
            ]
          },
          "metadata": {
            "tags": []
          },
          "execution_count": 150
        }
      ]
    },
    {
      "cell_type": "code",
      "metadata": {
        "id": "zwE_ILK3Gr1f",
        "colab_type": "code",
        "outputId": "1bb58494-559d-41e2-fb97-96d71a9421a9",
        "colab": {
          "base_uri": "https://localhost:8080/",
          "height": 131
        }
      },
      "source": [
        "# num_op_rev_tl\n",
        "num_op_rev_tl_na=training.loc[training.num_op_rev_tl.isnull(),['issue_y','id']]\n",
        "num_op_rev_tl_zeros=training.loc[training.num_op_rev_tl==0,['issue_y','id']]\n",
        "pd.DataFrame(data=(num_op_rev_tl_na.issue_y.value_counts(), num_op_rev_tl_zeros.issue_y.value_counts()),index=['num_op_rev_tl_na','num_op_rev_tl_zeros'])"
      ],
      "execution_count": 0,
      "outputs": [
        {
          "output_type": "execute_result",
          "data": {
            "text/html": [
              "<div>\n",
              "<style scoped>\n",
              "    .dataframe tbody tr th:only-of-type {\n",
              "        vertical-align: middle;\n",
              "    }\n",
              "\n",
              "    .dataframe tbody tr th {\n",
              "        vertical-align: top;\n",
              "    }\n",
              "\n",
              "    .dataframe thead th {\n",
              "        text-align: right;\n",
              "    }\n",
              "</style>\n",
              "<table border=\"1\" class=\"dataframe\">\n",
              "  <thead>\n",
              "    <tr style=\"text-align: right;\">\n",
              "      <th></th>\n",
              "      <th>2007</th>\n",
              "      <th>2008</th>\n",
              "      <th>2009</th>\n",
              "      <th>2010</th>\n",
              "      <th>2011</th>\n",
              "      <th>2012</th>\n",
              "      <th>2013</th>\n",
              "      <th>2014</th>\n",
              "      <th>2015</th>\n",
              "      <th>2016</th>\n",
              "      <th>2017</th>\n",
              "      <th>2018</th>\n",
              "    </tr>\n",
              "  </thead>\n",
              "  <tbody>\n",
              "    <tr>\n",
              "      <th>num_op_rev_tl_na</th>\n",
              "      <td>479.0</td>\n",
              "      <td>1906.0</td>\n",
              "      <td>4226.0</td>\n",
              "      <td>10071.0</td>\n",
              "      <td>17379.0</td>\n",
              "      <td>22140.0</td>\n",
              "      <td>NaN</td>\n",
              "      <td>NaN</td>\n",
              "      <td>NaN</td>\n",
              "      <td>NaN</td>\n",
              "      <td>NaN</td>\n",
              "      <td>NaN</td>\n",
              "    </tr>\n",
              "    <tr>\n",
              "      <th>num_op_rev_tl_zeros</th>\n",
              "      <td>NaN</td>\n",
              "      <td>NaN</td>\n",
              "      <td>NaN</td>\n",
              "      <td>NaN</td>\n",
              "      <td>NaN</td>\n",
              "      <td>5.0</td>\n",
              "      <td>34.0</td>\n",
              "      <td>49.0</td>\n",
              "      <td>73.0</td>\n",
              "      <td>92.0</td>\n",
              "      <td>78.0</td>\n",
              "      <td>34.0</td>\n",
              "    </tr>\n",
              "  </tbody>\n",
              "</table>\n",
              "</div>"
            ],
            "text/plain": [
              "                      2007    2008    2009     2010  ...  2015  2016  2017  2018\n",
              "num_op_rev_tl_na     479.0  1906.0  4226.0  10071.0  ...   NaN   NaN   NaN   NaN\n",
              "num_op_rev_tl_zeros    NaN     NaN     NaN      NaN  ...  73.0  92.0  78.0  34.0\n",
              "\n",
              "[2 rows x 12 columns]"
            ]
          },
          "metadata": {
            "tags": []
          },
          "execution_count": 151
        }
      ]
    },
    {
      "cell_type": "code",
      "metadata": {
        "id": "MHEQ2_vgG-x7",
        "colab_type": "code",
        "outputId": "e941ffc6-29da-41e4-b664-2d836ce15a84",
        "colab": {
          "base_uri": "https://localhost:8080/",
          "height": 128
        }
      },
      "source": [
        "# num_rev_accts\n",
        "# Since it's highly correlated to num_op_rev_tl, so will drop this column\n",
        "print('Correlation: ',training.num_rev_accts.corr(training.num_op_rev_tl))\n",
        "num_rev_accts_na=training.loc[training.num_rev_accts.isnull(),['issue_y','id']]\n",
        "num_rev_accts_zeros=training.loc[training.num_rev_accts==0,['issue_y','id']]\n",
        "pd.DataFrame(data=(num_rev_accts_na.issue_y.value_counts().sort_index(), num_rev_accts_zeros.issue_y.value_counts()),index=['num_rev_accts_na','num_rev_accts_zeros'])"
      ],
      "execution_count": 0,
      "outputs": [
        {
          "output_type": "stream",
          "text": [
            "Correlation:  0.7744382737753008\n"
          ],
          "name": "stdout"
        },
        {
          "output_type": "execute_result",
          "data": {
            "text/html": [
              "<div>\n",
              "<style scoped>\n",
              "    .dataframe tbody tr th:only-of-type {\n",
              "        vertical-align: middle;\n",
              "    }\n",
              "\n",
              "    .dataframe tbody tr th {\n",
              "        vertical-align: top;\n",
              "    }\n",
              "\n",
              "    .dataframe thead th {\n",
              "        text-align: right;\n",
              "    }\n",
              "</style>\n",
              "<table border=\"1\" class=\"dataframe\">\n",
              "  <thead>\n",
              "    <tr style=\"text-align: right;\">\n",
              "      <th></th>\n",
              "      <th>2007</th>\n",
              "      <th>2008</th>\n",
              "      <th>2009</th>\n",
              "      <th>2010</th>\n",
              "      <th>2011</th>\n",
              "      <th>2012</th>\n",
              "      <th>2015</th>\n",
              "    </tr>\n",
              "  </thead>\n",
              "  <tbody>\n",
              "    <tr>\n",
              "      <th>num_rev_accts_na</th>\n",
              "      <td>479.0</td>\n",
              "      <td>1906.0</td>\n",
              "      <td>4226.0</td>\n",
              "      <td>10071.0</td>\n",
              "      <td>17379.0</td>\n",
              "      <td>22140.0</td>\n",
              "      <td>1.0</td>\n",
              "    </tr>\n",
              "    <tr>\n",
              "      <th>num_rev_accts_zeros</th>\n",
              "      <td>NaN</td>\n",
              "      <td>NaN</td>\n",
              "      <td>NaN</td>\n",
              "      <td>NaN</td>\n",
              "      <td>NaN</td>\n",
              "      <td>NaN</td>\n",
              "      <td>NaN</td>\n",
              "    </tr>\n",
              "  </tbody>\n",
              "</table>\n",
              "</div>"
            ],
            "text/plain": [
              "                      2007    2008    2009     2010     2011     2012  2015\n",
              "num_rev_accts_na     479.0  1906.0  4226.0  10071.0  17379.0  22140.0   1.0\n",
              "num_rev_accts_zeros    NaN     NaN     NaN      NaN      NaN      NaN   NaN"
            ]
          },
          "metadata": {
            "tags": []
          },
          "execution_count": 156
        }
      ]
    },
    {
      "cell_type": "code",
      "metadata": {
        "id": "JL2LgobrHlpX",
        "colab_type": "code",
        "outputId": "d22dfd70-0ff2-4c13-f5d1-01da69fcef21",
        "colab": {
          "base_uri": "https://localhost:8080/",
          "height": 111
        }
      },
      "source": [
        "# sec_app_num_rev_accts\n",
        "sec_app_num_rev_accts_na=training.loc[(training.application_type=='Joint App') & (training.sec_app_num_rev_accts.isnull()),['issue_y','id']]\n",
        "sec_app_num_rev_accts_zeros=training.loc[(training.application_type=='Joint App') & (training.sec_app_num_rev_accts==0),['issue_y','id']]\n",
        "pd.DataFrame(data=(sec_app_num_rev_accts_na.issue_y.value_counts().sort_index(), sec_app_num_rev_accts_zeros.issue_y.value_counts()),index=['sec_app_num_rev_accts_na','sec_app_num_rev_accts_zeros'])"
      ],
      "execution_count": 0,
      "outputs": [
        {
          "output_type": "execute_result",
          "data": {
            "text/html": [
              "<div>\n",
              "<style scoped>\n",
              "    .dataframe tbody tr th:only-of-type {\n",
              "        vertical-align: middle;\n",
              "    }\n",
              "\n",
              "    .dataframe tbody tr th {\n",
              "        vertical-align: top;\n",
              "    }\n",
              "\n",
              "    .dataframe thead th {\n",
              "        text-align: right;\n",
              "    }\n",
              "</style>\n",
              "<table border=\"1\" class=\"dataframe\">\n",
              "  <thead>\n",
              "    <tr style=\"text-align: right;\">\n",
              "      <th></th>\n",
              "      <th>2015</th>\n",
              "      <th>2016</th>\n",
              "      <th>2017</th>\n",
              "      <th>2018</th>\n",
              "    </tr>\n",
              "  </thead>\n",
              "  <tbody>\n",
              "    <tr>\n",
              "      <th>sec_app_num_rev_accts_na</th>\n",
              "      <td>306.0</td>\n",
              "      <td>3917.0</td>\n",
              "      <td>1117.0</td>\n",
              "      <td>NaN</td>\n",
              "    </tr>\n",
              "    <tr>\n",
              "      <th>sec_app_num_rev_accts_zeros</th>\n",
              "      <td>NaN</td>\n",
              "      <td>NaN</td>\n",
              "      <td>38.0</td>\n",
              "      <td>28.0</td>\n",
              "    </tr>\n",
              "  </tbody>\n",
              "</table>\n",
              "</div>"
            ],
            "text/plain": [
              "                              2015    2016    2017  2018\n",
              "sec_app_num_rev_accts_na     306.0  3917.0  1117.0   NaN\n",
              "sec_app_num_rev_accts_zeros    NaN     NaN    38.0  28.0"
            ]
          },
          "metadata": {
            "tags": []
          },
          "execution_count": 161
        }
      ]
    },
    {
      "cell_type": "code",
      "metadata": {
        "id": "5e6JTyOGIIoM",
        "colab_type": "code",
        "outputId": "2820176b-8c26-4b46-e4ec-e390fd19cc6b",
        "colab": {
          "base_uri": "https://localhost:8080/",
          "height": 131
        }
      },
      "source": [
        "# num_sats\n",
        "num_sats_na=training.loc[training.num_sats.isnull(),['issue_y','id']]\n",
        "num_sats_zeros=training.loc[training.num_sats==0,['issue_y','id']]\n",
        "pd.DataFrame(data=(num_sats_na.issue_y.value_counts().sort_index(), num_sats_zeros.issue_y.value_counts()),index=['num_sats_na','num_sats_zeros'])"
      ],
      "execution_count": 0,
      "outputs": [
        {
          "output_type": "execute_result",
          "data": {
            "text/html": [
              "<div>\n",
              "<style scoped>\n",
              "    .dataframe tbody tr th:only-of-type {\n",
              "        vertical-align: middle;\n",
              "    }\n",
              "\n",
              "    .dataframe tbody tr th {\n",
              "        vertical-align: top;\n",
              "    }\n",
              "\n",
              "    .dataframe thead th {\n",
              "        text-align: right;\n",
              "    }\n",
              "</style>\n",
              "<table border=\"1\" class=\"dataframe\">\n",
              "  <thead>\n",
              "    <tr style=\"text-align: right;\">\n",
              "      <th></th>\n",
              "      <th>2007</th>\n",
              "      <th>2008</th>\n",
              "      <th>2009</th>\n",
              "      <th>2010</th>\n",
              "      <th>2011</th>\n",
              "      <th>2012</th>\n",
              "      <th>2013</th>\n",
              "      <th>2014</th>\n",
              "      <th>2015</th>\n",
              "      <th>2016</th>\n",
              "      <th>2017</th>\n",
              "      <th>2018</th>\n",
              "    </tr>\n",
              "  </thead>\n",
              "  <tbody>\n",
              "    <tr>\n",
              "      <th>num_sats_na</th>\n",
              "      <td>479.0</td>\n",
              "      <td>1906.0</td>\n",
              "      <td>4226.0</td>\n",
              "      <td>10071.0</td>\n",
              "      <td>17379.0</td>\n",
              "      <td>12805.0</td>\n",
              "      <td>NaN</td>\n",
              "      <td>NaN</td>\n",
              "      <td>NaN</td>\n",
              "      <td>NaN</td>\n",
              "      <td>NaN</td>\n",
              "      <td>NaN</td>\n",
              "    </tr>\n",
              "    <tr>\n",
              "      <th>num_sats_zeros</th>\n",
              "      <td>NaN</td>\n",
              "      <td>NaN</td>\n",
              "      <td>NaN</td>\n",
              "      <td>NaN</td>\n",
              "      <td>NaN</td>\n",
              "      <td>NaN</td>\n",
              "      <td>4.0</td>\n",
              "      <td>3.0</td>\n",
              "      <td>1.0</td>\n",
              "      <td>1.0</td>\n",
              "      <td>3.0</td>\n",
              "      <td>3.0</td>\n",
              "    </tr>\n",
              "  </tbody>\n",
              "</table>\n",
              "</div>"
            ],
            "text/plain": [
              "                 2007    2008    2009     2010  ...  2015  2016  2017  2018\n",
              "num_sats_na     479.0  1906.0  4226.0  10071.0  ...   NaN   NaN   NaN   NaN\n",
              "num_sats_zeros    NaN     NaN     NaN      NaN  ...   1.0   1.0   3.0   3.0\n",
              "\n",
              "[2 rows x 12 columns]"
            ]
          },
          "metadata": {
            "tags": []
          },
          "execution_count": 162
        }
      ]
    },
    {
      "cell_type": "code",
      "metadata": {
        "id": "Kv7YJzp1JOuo",
        "colab_type": "code",
        "outputId": "a52a5db2-ba5e-4571-d011-445c34f28d56",
        "colab": {
          "base_uri": "https://localhost:8080/",
          "height": 131
        }
      },
      "source": [
        "# num_tl_op_past_12m \n",
        "num_tl_op_past_12m_na=training.loc[training.num_tl_op_past_12m.isnull(),['issue_y','id']]\n",
        "num_tl_op_past_12m_zeros=training.loc[training.num_tl_op_past_12m==0,['issue_y','id']]\n",
        "pd.DataFrame(data=(num_tl_op_past_12m_na.issue_y.value_counts().sort_index(), num_tl_op_past_12m_zeros.issue_y.value_counts()),index=['num_tl_op_past_12m_na','num_tl_op_past_12m_zeros'])"
      ],
      "execution_count": 0,
      "outputs": [
        {
          "output_type": "execute_result",
          "data": {
            "text/html": [
              "<div>\n",
              "<style scoped>\n",
              "    .dataframe tbody tr th:only-of-type {\n",
              "        vertical-align: middle;\n",
              "    }\n",
              "\n",
              "    .dataframe tbody tr th {\n",
              "        vertical-align: top;\n",
              "    }\n",
              "\n",
              "    .dataframe thead th {\n",
              "        text-align: right;\n",
              "    }\n",
              "</style>\n",
              "<table border=\"1\" class=\"dataframe\">\n",
              "  <thead>\n",
              "    <tr style=\"text-align: right;\">\n",
              "      <th></th>\n",
              "      <th>2007</th>\n",
              "      <th>2008</th>\n",
              "      <th>2009</th>\n",
              "      <th>2010</th>\n",
              "      <th>2011</th>\n",
              "      <th>2012</th>\n",
              "      <th>2013</th>\n",
              "      <th>2014</th>\n",
              "      <th>2015</th>\n",
              "      <th>2016</th>\n",
              "      <th>2017</th>\n",
              "      <th>2018</th>\n",
              "    </tr>\n",
              "  </thead>\n",
              "  <tbody>\n",
              "    <tr>\n",
              "      <th>num_tl_op_past_12m_na</th>\n",
              "      <td>479.0</td>\n",
              "      <td>1906.0</td>\n",
              "      <td>4226.0</td>\n",
              "      <td>10071.0</td>\n",
              "      <td>17379.0</td>\n",
              "      <td>22140.0</td>\n",
              "      <td>NaN</td>\n",
              "      <td>NaN</td>\n",
              "      <td>NaN</td>\n",
              "      <td>NaN</td>\n",
              "      <td>NaN</td>\n",
              "      <td>NaN</td>\n",
              "    </tr>\n",
              "    <tr>\n",
              "      <th>num_tl_op_past_12m_zeros</th>\n",
              "      <td>NaN</td>\n",
              "      <td>NaN</td>\n",
              "      <td>NaN</td>\n",
              "      <td>NaN</td>\n",
              "      <td>NaN</td>\n",
              "      <td>4046.0</td>\n",
              "      <td>22423.0</td>\n",
              "      <td>29758.0</td>\n",
              "      <td>49704.0</td>\n",
              "      <td>33443.0</td>\n",
              "      <td>20451.0</td>\n",
              "      <td>6038.0</td>\n",
              "    </tr>\n",
              "  </tbody>\n",
              "</table>\n",
              "</div>"
            ],
            "text/plain": [
              "                           2007    2008    2009  ...     2016     2017    2018\n",
              "num_tl_op_past_12m_na     479.0  1906.0  4226.0  ...      NaN      NaN     NaN\n",
              "num_tl_op_past_12m_zeros    NaN     NaN     NaN  ...  33443.0  20451.0  6038.0\n",
              "\n",
              "[2 rows x 12 columns]"
            ]
          },
          "metadata": {
            "tags": []
          },
          "execution_count": 163
        }
      ]
    },
    {
      "cell_type": "code",
      "metadata": {
        "id": "X1WQoJscKSAU",
        "colab_type": "code",
        "outputId": "d242e0db-7040-4966-fb09-f6524f681539",
        "colab": {
          "base_uri": "https://localhost:8080/",
          "height": 131
        }
      },
      "source": [
        "#tot_coll_amt\n",
        "tot_coll_amt_na=training.loc[training.tot_coll_amt.isnull(),['issue_y','id']]\n",
        "tot_coll_amt_zeros=training.loc[training.tot_coll_amt==0,['issue_y','id']]\n",
        "pd.DataFrame(data=(tot_coll_amt_na.issue_y.value_counts().sort_index(), tot_coll_amt_zeros.issue_y.value_counts()),index=['tot_coll_amt_na','tot_coll_amt_zeros'])"
      ],
      "execution_count": 0,
      "outputs": [
        {
          "output_type": "execute_result",
          "data": {
            "text/html": [
              "<div>\n",
              "<style scoped>\n",
              "    .dataframe tbody tr th:only-of-type {\n",
              "        vertical-align: middle;\n",
              "    }\n",
              "\n",
              "    .dataframe tbody tr th {\n",
              "        vertical-align: top;\n",
              "    }\n",
              "\n",
              "    .dataframe thead th {\n",
              "        text-align: right;\n",
              "    }\n",
              "</style>\n",
              "<table border=\"1\" class=\"dataframe\">\n",
              "  <thead>\n",
              "    <tr style=\"text-align: right;\">\n",
              "      <th></th>\n",
              "      <th>2007</th>\n",
              "      <th>2008</th>\n",
              "      <th>2009</th>\n",
              "      <th>2010</th>\n",
              "      <th>2011</th>\n",
              "      <th>2012</th>\n",
              "      <th>2013</th>\n",
              "      <th>2014</th>\n",
              "      <th>2015</th>\n",
              "      <th>2016</th>\n",
              "      <th>2017</th>\n",
              "      <th>2018</th>\n",
              "    </tr>\n",
              "  </thead>\n",
              "  <tbody>\n",
              "    <tr>\n",
              "      <th>tot_coll_amt_na</th>\n",
              "      <td>479.0</td>\n",
              "      <td>1906.0</td>\n",
              "      <td>4226.0</td>\n",
              "      <td>10071.0</td>\n",
              "      <td>17379.0</td>\n",
              "      <td>22140.0</td>\n",
              "      <td>NaN</td>\n",
              "      <td>NaN</td>\n",
              "      <td>NaN</td>\n",
              "      <td>NaN</td>\n",
              "      <td>NaN</td>\n",
              "      <td>NaN</td>\n",
              "    </tr>\n",
              "    <tr>\n",
              "      <th>tot_coll_amt_zeros</th>\n",
              "      <td>NaN</td>\n",
              "      <td>NaN</td>\n",
              "      <td>NaN</td>\n",
              "      <td>NaN</td>\n",
              "      <td>NaN</td>\n",
              "      <td>19098.0</td>\n",
              "      <td>97821.0</td>\n",
              "      <td>150448.0</td>\n",
              "      <td>250925.0</td>\n",
              "      <td>180993.0</td>\n",
              "      <td>105870.0</td>\n",
              "      <td>32518.0</td>\n",
              "    </tr>\n",
              "  </tbody>\n",
              "</table>\n",
              "</div>"
            ],
            "text/plain": [
              "                     2007    2008    2009  ...      2016      2017     2018\n",
              "tot_coll_amt_na     479.0  1906.0  4226.0  ...       NaN       NaN      NaN\n",
              "tot_coll_amt_zeros    NaN     NaN     NaN  ...  180993.0  105870.0  32518.0\n",
              "\n",
              "[2 rows x 12 columns]"
            ]
          },
          "metadata": {
            "tags": []
          },
          "execution_count": 164
        }
      ]
    },
    {
      "cell_type": "code",
      "metadata": {
        "id": "xqP35tK7KidQ",
        "colab_type": "code",
        "outputId": "ef4bdbe6-20c8-4c00-f145-52d15c8ad730",
        "colab": {
          "base_uri": "https://localhost:8080/",
          "height": 131
        }
      },
      "source": [
        "# tot_cur_bal\n",
        "tot_cur_bal_na=training.loc[training.tot_cur_bal.isnull(),['issue_y','id']]\n",
        "tot_cur_bal_zeros=training.loc[training.tot_cur_bal==0,['issue_y','id']]\n",
        "pd.DataFrame(data=(tot_cur_bal_na.issue_y.value_counts().sort_index(), tot_cur_bal_zeros.issue_y.value_counts()),index=['tot_cur_bal_na','tot_cur_bal_zeros'])"
      ],
      "execution_count": 0,
      "outputs": [
        {
          "output_type": "execute_result",
          "data": {
            "text/html": [
              "<div>\n",
              "<style scoped>\n",
              "    .dataframe tbody tr th:only-of-type {\n",
              "        vertical-align: middle;\n",
              "    }\n",
              "\n",
              "    .dataframe tbody tr th {\n",
              "        vertical-align: top;\n",
              "    }\n",
              "\n",
              "    .dataframe thead th {\n",
              "        text-align: right;\n",
              "    }\n",
              "</style>\n",
              "<table border=\"1\" class=\"dataframe\">\n",
              "  <thead>\n",
              "    <tr style=\"text-align: right;\">\n",
              "      <th></th>\n",
              "      <th>2007</th>\n",
              "      <th>2008</th>\n",
              "      <th>2009</th>\n",
              "      <th>2010</th>\n",
              "      <th>2011</th>\n",
              "      <th>2012</th>\n",
              "      <th>2013</th>\n",
              "      <th>2014</th>\n",
              "      <th>2015</th>\n",
              "      <th>2016</th>\n",
              "      <th>2017</th>\n",
              "      <th>2018</th>\n",
              "    </tr>\n",
              "  </thead>\n",
              "  <tbody>\n",
              "    <tr>\n",
              "      <th>tot_cur_bal_na</th>\n",
              "      <td>479.0</td>\n",
              "      <td>1906.0</td>\n",
              "      <td>4226.0</td>\n",
              "      <td>10071.0</td>\n",
              "      <td>17379.0</td>\n",
              "      <td>22140.0</td>\n",
              "      <td>NaN</td>\n",
              "      <td>NaN</td>\n",
              "      <td>NaN</td>\n",
              "      <td>NaN</td>\n",
              "      <td>NaN</td>\n",
              "      <td>NaN</td>\n",
              "    </tr>\n",
              "    <tr>\n",
              "      <th>tot_cur_bal_zeros</th>\n",
              "      <td>NaN</td>\n",
              "      <td>NaN</td>\n",
              "      <td>NaN</td>\n",
              "      <td>NaN</td>\n",
              "      <td>NaN</td>\n",
              "      <td>7.0</td>\n",
              "      <td>19.0</td>\n",
              "      <td>36.0</td>\n",
              "      <td>33.0</td>\n",
              "      <td>30.0</td>\n",
              "      <td>60.0</td>\n",
              "      <td>98.0</td>\n",
              "    </tr>\n",
              "  </tbody>\n",
              "</table>\n",
              "</div>"
            ],
            "text/plain": [
              "                    2007    2008    2009     2010  ...  2015  2016  2017  2018\n",
              "tot_cur_bal_na     479.0  1906.0  4226.0  10071.0  ...   NaN   NaN   NaN   NaN\n",
              "tot_cur_bal_zeros    NaN     NaN     NaN      NaN  ...  33.0  30.0  60.0  98.0\n",
              "\n",
              "[2 rows x 12 columns]"
            ]
          },
          "metadata": {
            "tags": []
          },
          "execution_count": 165
        }
      ]
    },
    {
      "cell_type": "code",
      "metadata": {
        "id": "KVUJNO3rKuuK",
        "colab_type": "code",
        "outputId": "7b5da301-2379-4ecb-8340-1b875bfe4814",
        "colab": {
          "base_uri": "https://localhost:8080/",
          "height": 131
        }
      },
      "source": [
        "# total_bal_ex_mort\n",
        "total_bal_ex_mort_na=training.loc[training.total_bal_ex_mort.isnull(),['issue_y','id']]\n",
        "total_bal_ex_mort_zeros=training.loc[training.total_bal_ex_mort==0,['issue_y','id']]\n",
        "pd.DataFrame(data=(total_bal_ex_mort_na.issue_y.value_counts().sort_index(), total_bal_ex_mort_zeros.issue_y.value_counts()),index=['total_bal_ex_mort_na','total_bal_ex_mort_zeros'])"
      ],
      "execution_count": 0,
      "outputs": [
        {
          "output_type": "execute_result",
          "data": {
            "text/html": [
              "<div>\n",
              "<style scoped>\n",
              "    .dataframe tbody tr th:only-of-type {\n",
              "        vertical-align: middle;\n",
              "    }\n",
              "\n",
              "    .dataframe tbody tr th {\n",
              "        vertical-align: top;\n",
              "    }\n",
              "\n",
              "    .dataframe thead th {\n",
              "        text-align: right;\n",
              "    }\n",
              "</style>\n",
              "<table border=\"1\" class=\"dataframe\">\n",
              "  <thead>\n",
              "    <tr style=\"text-align: right;\">\n",
              "      <th></th>\n",
              "      <th>2007</th>\n",
              "      <th>2008</th>\n",
              "      <th>2009</th>\n",
              "      <th>2010</th>\n",
              "      <th>2011</th>\n",
              "      <th>2012</th>\n",
              "      <th>2013</th>\n",
              "      <th>2014</th>\n",
              "      <th>2015</th>\n",
              "      <th>2016</th>\n",
              "      <th>2017</th>\n",
              "      <th>2018</th>\n",
              "    </tr>\n",
              "  </thead>\n",
              "  <tbody>\n",
              "    <tr>\n",
              "      <th>total_bal_ex_mort_na</th>\n",
              "      <td>479.0</td>\n",
              "      <td>1906.0</td>\n",
              "      <td>4226.0</td>\n",
              "      <td>10071.0</td>\n",
              "      <td>17379.0</td>\n",
              "      <td>5989.0</td>\n",
              "      <td>NaN</td>\n",
              "      <td>NaN</td>\n",
              "      <td>NaN</td>\n",
              "      <td>NaN</td>\n",
              "      <td>NaN</td>\n",
              "      <td>NaN</td>\n",
              "    </tr>\n",
              "    <tr>\n",
              "      <th>total_bal_ex_mort_zeros</th>\n",
              "      <td>NaN</td>\n",
              "      <td>NaN</td>\n",
              "      <td>NaN</td>\n",
              "      <td>NaN</td>\n",
              "      <td>NaN</td>\n",
              "      <td>21.0</td>\n",
              "      <td>43.0</td>\n",
              "      <td>67.0</td>\n",
              "      <td>66.0</td>\n",
              "      <td>87.0</td>\n",
              "      <td>103.0</td>\n",
              "      <td>131.0</td>\n",
              "    </tr>\n",
              "  </tbody>\n",
              "</table>\n",
              "</div>"
            ],
            "text/plain": [
              "                          2007    2008    2009  ...  2016   2017   2018\n",
              "total_bal_ex_mort_na     479.0  1906.0  4226.0  ...   NaN    NaN    NaN\n",
              "total_bal_ex_mort_zeros    NaN     NaN     NaN  ...  87.0  103.0  131.0\n",
              "\n",
              "[2 rows x 12 columns]"
            ]
          },
          "metadata": {
            "tags": []
          },
          "execution_count": 166
        }
      ]
    },
    {
      "cell_type": "code",
      "metadata": {
        "id": "jf3kBinBK7lT",
        "colab_type": "code",
        "outputId": "8398656f-cd0b-48d2-ea84-2ea8066e9158",
        "colab": {
          "base_uri": "https://localhost:8080/",
          "height": 131
        }
      },
      "source": [
        "# bc_util (drop)\n",
        "# Can't explain why the nulls after 2012\n",
        "bc_util_na=training.loc[training.bc_util.isnull(),['issue_y','id']]\n",
        "bc_util_zeros=training.loc[training.bc_util==0,['issue_y','id']]\n",
        "pd.DataFrame(data=(bc_util_na.issue_y.value_counts().sort_index(), bc_util_zeros.issue_y.value_counts()),index=['bc_util_na','bc_util_zeros'])"
      ],
      "execution_count": 0,
      "outputs": [
        {
          "output_type": "execute_result",
          "data": {
            "text/html": [
              "<div>\n",
              "<style scoped>\n",
              "    .dataframe tbody tr th:only-of-type {\n",
              "        vertical-align: middle;\n",
              "    }\n",
              "\n",
              "    .dataframe tbody tr th {\n",
              "        vertical-align: top;\n",
              "    }\n",
              "\n",
              "    .dataframe thead th {\n",
              "        text-align: right;\n",
              "    }\n",
              "</style>\n",
              "<table border=\"1\" class=\"dataframe\">\n",
              "  <thead>\n",
              "    <tr style=\"text-align: right;\">\n",
              "      <th></th>\n",
              "      <th>2007</th>\n",
              "      <th>2008</th>\n",
              "      <th>2009</th>\n",
              "      <th>2010</th>\n",
              "      <th>2011</th>\n",
              "      <th>2012</th>\n",
              "      <th>2013</th>\n",
              "      <th>2014</th>\n",
              "      <th>2015</th>\n",
              "      <th>2016</th>\n",
              "      <th>2017</th>\n",
              "      <th>2018</th>\n",
              "    </tr>\n",
              "  </thead>\n",
              "  <tbody>\n",
              "    <tr>\n",
              "      <th>bc_util_na</th>\n",
              "      <td>479.0</td>\n",
              "      <td>1906.0</td>\n",
              "      <td>4226.0</td>\n",
              "      <td>10071.0</td>\n",
              "      <td>17379.0</td>\n",
              "      <td>6444.0</td>\n",
              "      <td>845.0</td>\n",
              "      <td>1990.0</td>\n",
              "      <td>3096.0</td>\n",
              "      <td>2500.0</td>\n",
              "      <td>1748.0</td>\n",
              "      <td>661.0</td>\n",
              "    </tr>\n",
              "    <tr>\n",
              "      <th>bc_util_zeros</th>\n",
              "      <td>NaN</td>\n",
              "      <td>NaN</td>\n",
              "      <td>NaN</td>\n",
              "      <td>NaN</td>\n",
              "      <td>NaN</td>\n",
              "      <td>376.0</td>\n",
              "      <td>822.0</td>\n",
              "      <td>1507.0</td>\n",
              "      <td>3073.0</td>\n",
              "      <td>2685.0</td>\n",
              "      <td>2089.0</td>\n",
              "      <td>1216.0</td>\n",
              "    </tr>\n",
              "  </tbody>\n",
              "</table>\n",
              "</div>"
            ],
            "text/plain": [
              "                2007    2008    2009     2010  ...    2015    2016    2017    2018\n",
              "bc_util_na     479.0  1906.0  4226.0  10071.0  ...  3096.0  2500.0  1748.0   661.0\n",
              "bc_util_zeros    NaN     NaN     NaN      NaN  ...  3073.0  2685.0  2089.0  1216.0\n",
              "\n",
              "[2 rows x 12 columns]"
            ]
          },
          "metadata": {
            "tags": []
          },
          "execution_count": 167
        }
      ]
    },
    {
      "cell_type": "code",
      "metadata": {
        "id": "dN_lQ97ELNBl",
        "colab_type": "code",
        "outputId": "41bd06ea-55e2-4369-cdef-2a5ed8de4331",
        "colab": {
          "base_uri": "https://localhost:8080/",
          "height": 131
        }
      },
      "source": [
        "# num_bc_tl\n",
        "num_bc_tl_na=training.loc[training.num_bc_tl.isnull(),['issue_y','id']]\n",
        "num_bc_tl_zeros=training.loc[training.num_bc_tl==0,['issue_y','id']]\n",
        "pd.DataFrame(data=(num_bc_tl_na.issue_y.value_counts().sort_index(), num_bc_tl_zeros.issue_y.value_counts()),index=['num_bc_tl_na','num_bc_tl_zeros'])"
      ],
      "execution_count": 0,
      "outputs": [
        {
          "output_type": "execute_result",
          "data": {
            "text/html": [
              "<div>\n",
              "<style scoped>\n",
              "    .dataframe tbody tr th:only-of-type {\n",
              "        vertical-align: middle;\n",
              "    }\n",
              "\n",
              "    .dataframe tbody tr th {\n",
              "        vertical-align: top;\n",
              "    }\n",
              "\n",
              "    .dataframe thead th {\n",
              "        text-align: right;\n",
              "    }\n",
              "</style>\n",
              "<table border=\"1\" class=\"dataframe\">\n",
              "  <thead>\n",
              "    <tr style=\"text-align: right;\">\n",
              "      <th></th>\n",
              "      <th>2007</th>\n",
              "      <th>2008</th>\n",
              "      <th>2009</th>\n",
              "      <th>2010</th>\n",
              "      <th>2011</th>\n",
              "      <th>2012</th>\n",
              "      <th>2013</th>\n",
              "      <th>2014</th>\n",
              "      <th>2015</th>\n",
              "      <th>2016</th>\n",
              "      <th>2017</th>\n",
              "      <th>2018</th>\n",
              "    </tr>\n",
              "  </thead>\n",
              "  <tbody>\n",
              "    <tr>\n",
              "      <th>num_bc_tl_na</th>\n",
              "      <td>479.0</td>\n",
              "      <td>1906.0</td>\n",
              "      <td>4226.0</td>\n",
              "      <td>10071.0</td>\n",
              "      <td>17379.0</td>\n",
              "      <td>22140.0</td>\n",
              "      <td>NaN</td>\n",
              "      <td>NaN</td>\n",
              "      <td>NaN</td>\n",
              "      <td>NaN</td>\n",
              "      <td>NaN</td>\n",
              "      <td>NaN</td>\n",
              "    </tr>\n",
              "    <tr>\n",
              "      <th>num_bc_tl_zeros</th>\n",
              "      <td>NaN</td>\n",
              "      <td>NaN</td>\n",
              "      <td>NaN</td>\n",
              "      <td>NaN</td>\n",
              "      <td>NaN</td>\n",
              "      <td>28.0</td>\n",
              "      <td>83.0</td>\n",
              "      <td>313.0</td>\n",
              "      <td>637.0</td>\n",
              "      <td>563.0</td>\n",
              "      <td>440.0</td>\n",
              "      <td>155.0</td>\n",
              "    </tr>\n",
              "  </tbody>\n",
              "</table>\n",
              "</div>"
            ],
            "text/plain": [
              "                  2007    2008    2009     2010  ...   2015   2016   2017   2018\n",
              "num_bc_tl_na     479.0  1906.0  4226.0  10071.0  ...    NaN    NaN    NaN    NaN\n",
              "num_bc_tl_zeros    NaN     NaN     NaN      NaN  ...  637.0  563.0  440.0  155.0\n",
              "\n",
              "[2 rows x 12 columns]"
            ]
          },
          "metadata": {
            "tags": []
          },
          "execution_count": 168
        }
      ]
    },
    {
      "cell_type": "code",
      "metadata": {
        "id": "S50zR8bBMnNm",
        "colab_type": "code",
        "outputId": "e5d692fc-d0a5-4abe-e0cc-9e272a7eb742",
        "colab": {
          "base_uri": "https://localhost:8080/",
          "height": 131
        }
      },
      "source": [
        "# mo_sin_old_il_acct (drop)\n",
        "# Can't explain why the nulls after 2012\n",
        "mo_sin_old_il_acct_na=training.loc[training.mo_sin_old_il_acct.isnull(),['issue_y','id']]\n",
        "mo_sin_old_il_acct_zeros=training.loc[training.mo_sin_old_il_acct==0,['issue_y','id']]\n",
        "pd.DataFrame(data=(mo_sin_old_il_acct_na.issue_y.value_counts().sort_index(), mo_sin_old_il_acct_zeros.issue_y.value_counts()),index=['mo_sin_old_il_acct_na','mo_sin_old_il_acct_zeros'])"
      ],
      "execution_count": 0,
      "outputs": [
        {
          "output_type": "execute_result",
          "data": {
            "text/html": [
              "<div>\n",
              "<style scoped>\n",
              "    .dataframe tbody tr th:only-of-type {\n",
              "        vertical-align: middle;\n",
              "    }\n",
              "\n",
              "    .dataframe tbody tr th {\n",
              "        vertical-align: top;\n",
              "    }\n",
              "\n",
              "    .dataframe thead th {\n",
              "        text-align: right;\n",
              "    }\n",
              "</style>\n",
              "<table border=\"1\" class=\"dataframe\">\n",
              "  <thead>\n",
              "    <tr style=\"text-align: right;\">\n",
              "      <th></th>\n",
              "      <th>2007</th>\n",
              "      <th>2008</th>\n",
              "      <th>2009</th>\n",
              "      <th>2010</th>\n",
              "      <th>2011</th>\n",
              "      <th>2012</th>\n",
              "      <th>2013</th>\n",
              "      <th>2014</th>\n",
              "      <th>2015</th>\n",
              "      <th>2016</th>\n",
              "      <th>2017</th>\n",
              "      <th>2018</th>\n",
              "    </tr>\n",
              "  </thead>\n",
              "  <tbody>\n",
              "    <tr>\n",
              "      <th>mo_sin_old_il_acct_na</th>\n",
              "      <td>479.0</td>\n",
              "      <td>1906.0</td>\n",
              "      <td>4226.0</td>\n",
              "      <td>10071.0</td>\n",
              "      <td>17379.0</td>\n",
              "      <td>23084.0</td>\n",
              "      <td>3956.0</td>\n",
              "      <td>5492.0</td>\n",
              "      <td>9006.0</td>\n",
              "      <td>5477.0</td>\n",
              "      <td>3274.0</td>\n",
              "      <td>1237.0</td>\n",
              "    </tr>\n",
              "    <tr>\n",
              "      <th>mo_sin_old_il_acct_zeros</th>\n",
              "      <td>NaN</td>\n",
              "      <td>NaN</td>\n",
              "      <td>NaN</td>\n",
              "      <td>NaN</td>\n",
              "      <td>NaN</td>\n",
              "      <td>NaN</td>\n",
              "      <td>2.0</td>\n",
              "      <td>2.0</td>\n",
              "      <td>5.0</td>\n",
              "      <td>NaN</td>\n",
              "      <td>1.0</td>\n",
              "      <td>NaN</td>\n",
              "    </tr>\n",
              "  </tbody>\n",
              "</table>\n",
              "</div>"
            ],
            "text/plain": [
              "                           2007    2008    2009  ...    2016    2017    2018\n",
              "mo_sin_old_il_acct_na     479.0  1906.0  4226.0  ...  5477.0  3274.0  1237.0\n",
              "mo_sin_old_il_acct_zeros    NaN     NaN     NaN  ...     NaN     1.0     NaN\n",
              "\n",
              "[2 rows x 12 columns]"
            ]
          },
          "metadata": {
            "tags": []
          },
          "execution_count": 169
        }
      ]
    },
    {
      "cell_type": "code",
      "metadata": {
        "id": "0S9qeDghM0rB",
        "colab_type": "code",
        "outputId": "1e4b2003-d49b-4995-ac6b-557fcea72032",
        "colab": {
          "base_uri": "https://localhost:8080/",
          "height": 111
        }
      },
      "source": [
        "# mo_sin_old_rev_tl_op (Drop)\n",
        "# Can't explain the null values\n",
        "mo_sin_old_rev_tl_op_na=training.loc[training.mo_sin_old_rev_tl_op.isnull(),['issue_y','id']]\n",
        "mo_sin_old_rev_tl_op_zeros=training.loc[training.mo_sin_old_rev_tl_op==0,['issue_y','id']]\n",
        "pd.DataFrame(data=(mo_sin_old_rev_tl_op_na.issue_y.value_counts().sort_index(), mo_sin_old_rev_tl_op_zeros.issue_y.value_counts()),index=['mo_sin_old_rev_tl_op_na','mo_sin_old_rev_tl_op_zeros'])"
      ],
      "execution_count": 0,
      "outputs": [
        {
          "output_type": "execute_result",
          "data": {
            "text/html": [
              "<div>\n",
              "<style scoped>\n",
              "    .dataframe tbody tr th:only-of-type {\n",
              "        vertical-align: middle;\n",
              "    }\n",
              "\n",
              "    .dataframe tbody tr th {\n",
              "        vertical-align: top;\n",
              "    }\n",
              "\n",
              "    .dataframe thead th {\n",
              "        text-align: right;\n",
              "    }\n",
              "</style>\n",
              "<table border=\"1\" class=\"dataframe\">\n",
              "  <thead>\n",
              "    <tr style=\"text-align: right;\">\n",
              "      <th></th>\n",
              "      <th>2007</th>\n",
              "      <th>2008</th>\n",
              "      <th>2009</th>\n",
              "      <th>2010</th>\n",
              "      <th>2011</th>\n",
              "      <th>2012</th>\n",
              "    </tr>\n",
              "  </thead>\n",
              "  <tbody>\n",
              "    <tr>\n",
              "      <th>mo_sin_old_rev_tl_op_na</th>\n",
              "      <td>479.0</td>\n",
              "      <td>1906.0</td>\n",
              "      <td>4226.0</td>\n",
              "      <td>10071.0</td>\n",
              "      <td>17379.0</td>\n",
              "      <td>22140.0</td>\n",
              "    </tr>\n",
              "    <tr>\n",
              "      <th>mo_sin_old_rev_tl_op_zeros</th>\n",
              "      <td>NaN</td>\n",
              "      <td>NaN</td>\n",
              "      <td>NaN</td>\n",
              "      <td>NaN</td>\n",
              "      <td>NaN</td>\n",
              "      <td>NaN</td>\n",
              "    </tr>\n",
              "  </tbody>\n",
              "</table>\n",
              "</div>"
            ],
            "text/plain": [
              "                             2007    2008    2009     2010     2011     2012\n",
              "mo_sin_old_rev_tl_op_na     479.0  1906.0  4226.0  10071.0  17379.0  22140.0\n",
              "mo_sin_old_rev_tl_op_zeros    NaN     NaN     NaN      NaN      NaN      NaN"
            ]
          },
          "metadata": {
            "tags": []
          },
          "execution_count": 170
        }
      ]
    },
    {
      "cell_type": "code",
      "metadata": {
        "id": "UluJGx2yNYfh",
        "colab_type": "code",
        "outputId": "8cece8a0-6d3c-44d4-b9c7-4e52a780de38",
        "colab": {
          "base_uri": "https://localhost:8080/",
          "height": 131
        }
      },
      "source": [
        "# mo_sin_rcnt_rev_tl_op\n",
        "mo_sin_rcnt_rev_tl_op_na=training.loc[training.mo_sin_rcnt_rev_tl_op.isnull(),['issue_y','id']]\n",
        "mo_sin_rcnt_rev_tl_op_zeros=training.loc[training.mo_sin_rcnt_rev_tl_op==0,['issue_y','id']]\n",
        "pd.DataFrame(data=(mo_sin_rcnt_rev_tl_op_na.issue_y.value_counts().sort_index(), mo_sin_rcnt_rev_tl_op_zeros.issue_y.value_counts()),index=['mo_sin_rcnt_rev_tl_op_na','mo_sin_rcnt_rev_tl_op_zeros'])"
      ],
      "execution_count": 0,
      "outputs": [
        {
          "output_type": "execute_result",
          "data": {
            "text/html": [
              "<div>\n",
              "<style scoped>\n",
              "    .dataframe tbody tr th:only-of-type {\n",
              "        vertical-align: middle;\n",
              "    }\n",
              "\n",
              "    .dataframe tbody tr th {\n",
              "        vertical-align: top;\n",
              "    }\n",
              "\n",
              "    .dataframe thead th {\n",
              "        text-align: right;\n",
              "    }\n",
              "</style>\n",
              "<table border=\"1\" class=\"dataframe\">\n",
              "  <thead>\n",
              "    <tr style=\"text-align: right;\">\n",
              "      <th></th>\n",
              "      <th>2007</th>\n",
              "      <th>2008</th>\n",
              "      <th>2009</th>\n",
              "      <th>2010</th>\n",
              "      <th>2011</th>\n",
              "      <th>2012</th>\n",
              "      <th>2013</th>\n",
              "      <th>2014</th>\n",
              "      <th>2015</th>\n",
              "      <th>2016</th>\n",
              "      <th>2017</th>\n",
              "      <th>2018</th>\n",
              "    </tr>\n",
              "  </thead>\n",
              "  <tbody>\n",
              "    <tr>\n",
              "      <th>mo_sin_rcnt_rev_tl_op_na</th>\n",
              "      <td>479.0</td>\n",
              "      <td>1906.0</td>\n",
              "      <td>4226.0</td>\n",
              "      <td>10071.0</td>\n",
              "      <td>17379.0</td>\n",
              "      <td>22140.0</td>\n",
              "      <td>NaN</td>\n",
              "      <td>NaN</td>\n",
              "      <td>NaN</td>\n",
              "      <td>NaN</td>\n",
              "      <td>NaN</td>\n",
              "      <td>NaN</td>\n",
              "    </tr>\n",
              "    <tr>\n",
              "      <th>mo_sin_rcnt_rev_tl_op_zeros</th>\n",
              "      <td>NaN</td>\n",
              "      <td>NaN</td>\n",
              "      <td>NaN</td>\n",
              "      <td>NaN</td>\n",
              "      <td>NaN</td>\n",
              "      <td>319.0</td>\n",
              "      <td>1577.0</td>\n",
              "      <td>2874.0</td>\n",
              "      <td>4671.0</td>\n",
              "      <td>3517.0</td>\n",
              "      <td>2196.0</td>\n",
              "      <td>620.0</td>\n",
              "    </tr>\n",
              "  </tbody>\n",
              "</table>\n",
              "</div>"
            ],
            "text/plain": [
              "                              2007    2008    2009  ...    2016    2017   2018\n",
              "mo_sin_rcnt_rev_tl_op_na     479.0  1906.0  4226.0  ...     NaN     NaN    NaN\n",
              "mo_sin_rcnt_rev_tl_op_zeros    NaN     NaN     NaN  ...  3517.0  2196.0  620.0\n",
              "\n",
              "[2 rows x 12 columns]"
            ]
          },
          "metadata": {
            "tags": []
          },
          "execution_count": 171
        }
      ]
    },
    {
      "cell_type": "markdown",
      "metadata": {
        "id": "GgdK73UISfmr",
        "colab_type": "text"
      },
      "source": [
        "## 1.8 percent_bc_gt_75\n",
        "**Solution:** Set all null to 0\n",
        "\n",
        "Definition: Percentage of all bankcard accounts > 75% of limit"
      ]
    },
    {
      "cell_type": "code",
      "metadata": {
        "id": "ht_ZUA3iNska",
        "colab_type": "code",
        "colab": {}
      },
      "source": [
        "percent_bc_gt_75_na=training.loc[training.percent_bc_gt_75.isnull(),['issue_y','id','num_bc_tl','tot_hi_cred_lim']]\n",
        "percent_bc_gt_75_zeros=training.loc[training.percent_bc_gt_75==0,['issue_y','id','num_bc_tl','tot_hi_cred_lim']]\n",
        "num_bc_tl_na=training.loc[training.num_bc_tl.isnull(),['issue_y','id','percent_bc_gt_75']]\n",
        "num_bc_tl_zeros=training.loc[training.num_bc_tl==0,['issue_y','id','percent_bc_gt_75']]"
      ],
      "execution_count": 0,
      "outputs": []
    },
    {
      "cell_type": "code",
      "metadata": {
        "id": "Tuo-YV-ISypd",
        "colab_type": "code",
        "outputId": "167d8311-7164-4698-834d-2a36860dd295",
        "colab": {
          "base_uri": "https://localhost:8080/",
          "height": 193
        }
      },
      "source": [
        "pd.DataFrame(data=(percent_bc_gt_75_na.issue_y.value_counts().sort_index(), percent_bc_gt_75_zeros.issue_y.value_counts(),num_bc_tl_na.issue_y.value_counts(),num_bc_tl_zeros.issue_y.value_counts()),index=['percent_bc_gt_75_na','percent_bc_gt_75_zeros','num_bc_tl_na','num_bc_tl_zeros'])"
      ],
      "execution_count": 0,
      "outputs": [
        {
          "output_type": "execute_result",
          "data": {
            "text/html": [
              "<div>\n",
              "<style scoped>\n",
              "    .dataframe tbody tr th:only-of-type {\n",
              "        vertical-align: middle;\n",
              "    }\n",
              "\n",
              "    .dataframe tbody tr th {\n",
              "        vertical-align: top;\n",
              "    }\n",
              "\n",
              "    .dataframe thead th {\n",
              "        text-align: right;\n",
              "    }\n",
              "</style>\n",
              "<table border=\"1\" class=\"dataframe\">\n",
              "  <thead>\n",
              "    <tr style=\"text-align: right;\">\n",
              "      <th></th>\n",
              "      <th>2007</th>\n",
              "      <th>2008</th>\n",
              "      <th>2009</th>\n",
              "      <th>2010</th>\n",
              "      <th>2011</th>\n",
              "      <th>2012</th>\n",
              "      <th>2013</th>\n",
              "      <th>2014</th>\n",
              "      <th>2015</th>\n",
              "      <th>2016</th>\n",
              "      <th>2017</th>\n",
              "      <th>2018</th>\n",
              "    </tr>\n",
              "  </thead>\n",
              "  <tbody>\n",
              "    <tr>\n",
              "      <th>percent_bc_gt_75_na</th>\n",
              "      <td>479.0</td>\n",
              "      <td>1906.0</td>\n",
              "      <td>4226.0</td>\n",
              "      <td>10071.0</td>\n",
              "      <td>17379.0</td>\n",
              "      <td>6421.0</td>\n",
              "      <td>800.0</td>\n",
              "      <td>1946.0</td>\n",
              "      <td>3108.0</td>\n",
              "      <td>2400.0</td>\n",
              "      <td>1680.0</td>\n",
              "      <td>630.0</td>\n",
              "    </tr>\n",
              "    <tr>\n",
              "      <th>percent_bc_gt_75_zeros</th>\n",
              "      <td>NaN</td>\n",
              "      <td>NaN</td>\n",
              "      <td>NaN</td>\n",
              "      <td>NaN</td>\n",
              "      <td>NaN</td>\n",
              "      <td>6004.0</td>\n",
              "      <td>15299.0</td>\n",
              "      <td>30977.0</td>\n",
              "      <td>66709.0</td>\n",
              "      <td>60299.0</td>\n",
              "      <td>41935.0</td>\n",
              "      <td>16480.0</td>\n",
              "    </tr>\n",
              "    <tr>\n",
              "      <th>num_bc_tl_na</th>\n",
              "      <td>479.0</td>\n",
              "      <td>1906.0</td>\n",
              "      <td>4226.0</td>\n",
              "      <td>10071.0</td>\n",
              "      <td>17379.0</td>\n",
              "      <td>22140.0</td>\n",
              "      <td>NaN</td>\n",
              "      <td>NaN</td>\n",
              "      <td>NaN</td>\n",
              "      <td>NaN</td>\n",
              "      <td>NaN</td>\n",
              "      <td>NaN</td>\n",
              "    </tr>\n",
              "    <tr>\n",
              "      <th>num_bc_tl_zeros</th>\n",
              "      <td>NaN</td>\n",
              "      <td>NaN</td>\n",
              "      <td>NaN</td>\n",
              "      <td>NaN</td>\n",
              "      <td>NaN</td>\n",
              "      <td>28.0</td>\n",
              "      <td>83.0</td>\n",
              "      <td>313.0</td>\n",
              "      <td>637.0</td>\n",
              "      <td>563.0</td>\n",
              "      <td>440.0</td>\n",
              "      <td>155.0</td>\n",
              "    </tr>\n",
              "  </tbody>\n",
              "</table>\n",
              "</div>"
            ],
            "text/plain": [
              "                         2007    2008    2009  ...     2016     2017     2018\n",
              "percent_bc_gt_75_na     479.0  1906.0  4226.0  ...   2400.0   1680.0    630.0\n",
              "percent_bc_gt_75_zeros    NaN     NaN     NaN  ...  60299.0  41935.0  16480.0\n",
              "num_bc_tl_na            479.0  1906.0  4226.0  ...      NaN      NaN      NaN\n",
              "num_bc_tl_zeros           NaN     NaN     NaN  ...    563.0    440.0    155.0\n",
              "\n",
              "[4 rows x 12 columns]"
            ]
          },
          "metadata": {
            "tags": []
          },
          "execution_count": 183
        }
      ]
    },
    {
      "cell_type": "code",
      "metadata": {
        "id": "FURQLTEVTwdJ",
        "colab_type": "code",
        "outputId": "04d425ea-28ca-46eb-d928-44842f500319",
        "colab": {
          "base_uri": "https://localhost:8080/",
          "height": 51
        }
      },
      "source": [
        "num_bc_tl_na.loc[num_bc_tl_na.percent_bc_gt_75==0,['issue_y']].issue_y.value_counts()"
      ],
      "execution_count": 0,
      "outputs": [
        {
          "output_type": "execute_result",
          "data": {
            "text/plain": [
              "2012    3010\n",
              "Name: issue_y, dtype: int64"
            ]
          },
          "metadata": {
            "tags": []
          },
          "execution_count": 178
        }
      ]
    },
    {
      "cell_type": "markdown",
      "metadata": {
        "id": "Z-QT7KGYVmSm",
        "colab_type": "text"
      },
      "source": [
        "## 1.9 pct_tl_nvr_dlq\n",
        "**Solution:** Set all nulls to 100 percent\n",
        "\n",
        "All the 100 happens after 2012, and most Null happens after 2012; thus we can make an educated guess that Null and 100 percent are the same."
      ]
    },
    {
      "cell_type": "code",
      "metadata": {
        "id": "6Kd_8l3OTzxQ",
        "colab_type": "code",
        "outputId": "24f09d6b-7f29-4200-b1d2-37dc52aee02b",
        "colab": {
          "base_uri": "https://localhost:8080/",
          "height": 131
        }
      },
      "source": [
        "# pct_tl_nvr_dlq\n",
        "pct_tl_nvr_dlq_na=training.loc[training.pct_tl_nvr_dlq.isnull(),['issue_y','id']]\n",
        "pct_tl_nvr_dlq_ones=training.loc[training.pct_tl_nvr_dlq==100,['issue_y','id']]\n",
        "pd.DataFrame(data=(pct_tl_nvr_dlq_na.issue_y.value_counts().sort_index(), pct_tl_nvr_dlq_ones.issue_y.value_counts()),index=['pct_tl_nvr_dlq_na','pct_tl_nvr_dlq_ones'])"
      ],
      "execution_count": 0,
      "outputs": [
        {
          "output_type": "execute_result",
          "data": {
            "text/html": [
              "<div>\n",
              "<style scoped>\n",
              "    .dataframe tbody tr th:only-of-type {\n",
              "        vertical-align: middle;\n",
              "    }\n",
              "\n",
              "    .dataframe tbody tr th {\n",
              "        vertical-align: top;\n",
              "    }\n",
              "\n",
              "    .dataframe thead th {\n",
              "        text-align: right;\n",
              "    }\n",
              "</style>\n",
              "<table border=\"1\" class=\"dataframe\">\n",
              "  <thead>\n",
              "    <tr style=\"text-align: right;\">\n",
              "      <th></th>\n",
              "      <th>2007</th>\n",
              "      <th>2008</th>\n",
              "      <th>2009</th>\n",
              "      <th>2010</th>\n",
              "      <th>2011</th>\n",
              "      <th>2012</th>\n",
              "      <th>2013</th>\n",
              "      <th>2014</th>\n",
              "      <th>2015</th>\n",
              "      <th>2016</th>\n",
              "      <th>2017</th>\n",
              "      <th>2018</th>\n",
              "    </tr>\n",
              "  </thead>\n",
              "  <tbody>\n",
              "    <tr>\n",
              "      <th>pct_tl_nvr_dlq_na</th>\n",
              "      <td>479.0</td>\n",
              "      <td>1906.0</td>\n",
              "      <td>4226.0</td>\n",
              "      <td>10071.0</td>\n",
              "      <td>17379.0</td>\n",
              "      <td>22140.0</td>\n",
              "      <td>125.0</td>\n",
              "      <td>NaN</td>\n",
              "      <td>NaN</td>\n",
              "      <td>NaN</td>\n",
              "      <td>NaN</td>\n",
              "      <td>1.0</td>\n",
              "    </tr>\n",
              "    <tr>\n",
              "      <th>pct_tl_nvr_dlq_ones</th>\n",
              "      <td>NaN</td>\n",
              "      <td>NaN</td>\n",
              "      <td>NaN</td>\n",
              "      <td>NaN</td>\n",
              "      <td>NaN</td>\n",
              "      <td>10472.0</td>\n",
              "      <td>60683.0</td>\n",
              "      <td>85856.0</td>\n",
              "      <td>142100.0</td>\n",
              "      <td>104111.0</td>\n",
              "      <td>63036.0</td>\n",
              "      <td>20983.0</td>\n",
              "    </tr>\n",
              "  </tbody>\n",
              "</table>\n",
              "</div>"
            ],
            "text/plain": [
              "                      2007    2008    2009  ...      2016     2017     2018\n",
              "pct_tl_nvr_dlq_na    479.0  1906.0  4226.0  ...       NaN      NaN      1.0\n",
              "pct_tl_nvr_dlq_ones    NaN     NaN     NaN  ...  104111.0  63036.0  20983.0\n",
              "\n",
              "[2 rows x 12 columns]"
            ]
          },
          "metadata": {
            "tags": []
          },
          "execution_count": 186
        }
      ]
    },
    {
      "cell_type": "markdown",
      "metadata": {
        "id": "lLXBsPhoWP4Z",
        "colab_type": "text"
      },
      "source": [
        "## 1.10 annual_inc\n",
        "**Solution:** Set Null in annual_inc_all to 0\n",
        "\n",
        "There are two loans that individual applications with Null annual income, and in this case, we can assume those applicants don't have income then.\n",
        "\n",
        "In joint applications, there are 230 primary applicants don't have income, but the secondary applicants have. Therefore set null annual_inc to 0 and the aggregated column, annual_inc_all to 0 too."
      ]
    },
    {
      "cell_type": "code",
      "metadata": {
        "id": "Pgt13flLWDn6",
        "colab_type": "code",
        "outputId": "640b1b1b-9f5d-4432-996d-d350b62f3a5f",
        "colab": {
          "base_uri": "https://localhost:8080/",
          "height": 51
        }
      },
      "source": [
        "training.loc[training.annual_inc.isnull(),:].application_type.value_counts()"
      ],
      "execution_count": 0,
      "outputs": [
        {
          "output_type": "execute_result",
          "data": {
            "text/plain": [
              "Individual    2\n",
              "Name: application_type, dtype: int64"
            ]
          },
          "metadata": {
            "tags": []
          },
          "execution_count": 187
        }
      ]
    },
    {
      "cell_type": "code",
      "metadata": {
        "id": "PwwDm4n0Wd-X",
        "colab_type": "code",
        "outputId": "ae3d724e-3769-4970-8d45-8c9addfe5c6f",
        "colab": {
          "base_uri": "https://localhost:8080/",
          "height": 51
        }
      },
      "source": [
        "training.loc[training.annual_inc==0,:].application_type.value_counts()"
      ],
      "execution_count": 0,
      "outputs": [
        {
          "output_type": "execute_result",
          "data": {
            "text/plain": [
              "Joint App    230\n",
              "Name: application_type, dtype: int64"
            ]
          },
          "metadata": {
            "tags": []
          },
          "execution_count": 188
        }
      ]
    },
    {
      "cell_type": "code",
      "metadata": {
        "id": "6bb3ouqrW2xa",
        "colab_type": "code",
        "outputId": "9c5e4b4a-077c-4b72-d5f5-bb82c43c260f",
        "colab": {
          "base_uri": "https://localhost:8080/",
          "height": 34
        }
      },
      "source": [
        "training.loc[(training.annual_inc==0) & (training.annual_inc_joint==0),:].application_type.value_counts()"
      ],
      "execution_count": 0,
      "outputs": [
        {
          "output_type": "execute_result",
          "data": {
            "text/plain": [
              "Series([], Name: application_type, dtype: int64)"
            ]
          },
          "metadata": {
            "tags": []
          },
          "execution_count": 189
        }
      ]
    },
    {
      "cell_type": "markdown",
      "metadata": {
        "id": "BPiQqjzKXq_-",
        "colab_type": "text"
      },
      "source": [
        "## 1.11 inq_last_6mths\n",
        "\n",
        "**Solution:** Set Null inq_last_6mths to 0\n",
        "\n",
        "Given the small volumn of the null values, we can assume null is interchangerable to 0."
      ]
    },
    {
      "cell_type": "code",
      "metadata": {
        "id": "tQdw2eWJX4-7",
        "colab_type": "code",
        "outputId": "46ea94e3-eb0b-4d46-ab40-67f673da71ca",
        "colab": {
          "base_uri": "https://localhost:8080/",
          "height": 68
        }
      },
      "source": [
        "training.loc[training.inq_last_6mths.isnull(),:].issue_y.value_counts()"
      ],
      "execution_count": 0,
      "outputs": [
        {
          "output_type": "execute_result",
          "data": {
            "text/plain": [
              "2007    23\n",
              "2016     1\n",
              "Name: issue_y, dtype: int64"
            ]
          },
          "metadata": {
            "tags": []
          },
          "execution_count": 190
        }
      ]
    },
    {
      "cell_type": "code",
      "metadata": {
        "id": "CGmigQ33X5Sm",
        "colab_type": "code",
        "outputId": "ce493132-a357-450d-b40d-7fa741d73b75",
        "colab": {
          "base_uri": "https://localhost:8080/",
          "height": 238
        }
      },
      "source": [
        "training.loc[training.inq_last_6mths==0,:].issue_y.value_counts().sort_index()"
      ],
      "execution_count": 0,
      "outputs": [
        {
          "output_type": "execute_result",
          "data": {
            "text/plain": [
              "2007       140\n",
              "2008       651\n",
              "2009      1663\n",
              "2010      4564\n",
              "2011      8711\n",
              "2012     21011\n",
              "2013     55679\n",
              "2014     94215\n",
              "2015    180051\n",
              "2016    130726\n",
              "2017     75923\n",
              "2018     22697\n",
              "Name: issue_y, dtype: int64"
            ]
          },
          "metadata": {
            "tags": []
          },
          "execution_count": 194
        }
      ]
    },
    {
      "cell_type": "markdown",
      "metadata": {
        "id": "ncqLvJ-nYdgq",
        "colab_type": "text"
      },
      "source": [
        "##1.12 total_acc\n",
        "**Solution:** Set null to median of total_acc, which is 23"
      ]
    },
    {
      "cell_type": "code",
      "metadata": {
        "id": "ZJKMhowSYg9u",
        "colab_type": "code",
        "outputId": "76d3ab0d-2b3c-4acc-c9e1-825c0c7a213e",
        "colab": {
          "base_uri": "https://localhost:8080/",
          "height": 100
        }
      },
      "source": [
        "training.loc[training.total_acc.isnull(),['id']].isin(training.loc[training.inq_last_6mths.isnull(),['id']].id).T"
      ],
      "execution_count": 0,
      "outputs": [
        {
          "output_type": "execute_result",
          "data": {
            "text/html": [
              "<div>\n",
              "<style scoped>\n",
              "    .dataframe tbody tr th:only-of-type {\n",
              "        vertical-align: middle;\n",
              "    }\n",
              "\n",
              "    .dataframe tbody tr th {\n",
              "        vertical-align: top;\n",
              "    }\n",
              "\n",
              "    .dataframe thead th {\n",
              "        text-align: right;\n",
              "    }\n",
              "</style>\n",
              "<table border=\"1\" class=\"dataframe\">\n",
              "  <thead>\n",
              "    <tr style=\"text-align: right;\">\n",
              "      <th></th>\n",
              "      <th>34589</th>\n",
              "      <th>38454</th>\n",
              "      <th>96530</th>\n",
              "      <th>130885</th>\n",
              "      <th>132814</th>\n",
              "      <th>216760</th>\n",
              "      <th>270152</th>\n",
              "      <th>348344</th>\n",
              "      <th>376881</th>\n",
              "      <th>418784</th>\n",
              "      <th>423963</th>\n",
              "      <th>430890</th>\n",
              "      <th>569837</th>\n",
              "      <th>570716</th>\n",
              "      <th>665139</th>\n",
              "      <th>671022</th>\n",
              "      <th>680082</th>\n",
              "      <th>813180</th>\n",
              "      <th>890443</th>\n",
              "      <th>922551</th>\n",
              "      <th>959491</th>\n",
              "      <th>1003119</th>\n",
              "      <th>1003933</th>\n",
              "    </tr>\n",
              "  </thead>\n",
              "  <tbody>\n",
              "    <tr>\n",
              "      <th>id</th>\n",
              "      <td>True</td>\n",
              "      <td>True</td>\n",
              "      <td>True</td>\n",
              "      <td>True</td>\n",
              "      <td>True</td>\n",
              "      <td>True</td>\n",
              "      <td>True</td>\n",
              "      <td>True</td>\n",
              "      <td>True</td>\n",
              "      <td>True</td>\n",
              "      <td>True</td>\n",
              "      <td>True</td>\n",
              "      <td>True</td>\n",
              "      <td>True</td>\n",
              "      <td>True</td>\n",
              "      <td>True</td>\n",
              "      <td>True</td>\n",
              "      <td>True</td>\n",
              "      <td>True</td>\n",
              "      <td>True</td>\n",
              "      <td>True</td>\n",
              "      <td>True</td>\n",
              "      <td>True</td>\n",
              "    </tr>\n",
              "  </tbody>\n",
              "</table>\n",
              "</div>"
            ],
            "text/plain": [
              "    34589    38454    96530    130885   ...  922551   959491   1003119  1003933\n",
              "id     True     True     True     True  ...     True     True     True     True\n",
              "\n",
              "[1 rows x 23 columns]"
            ]
          },
          "metadata": {
            "tags": []
          },
          "execution_count": 223
        }
      ]
    },
    {
      "cell_type": "code",
      "metadata": {
        "id": "BIdqSkyuboMH",
        "colab_type": "code",
        "outputId": "26b132fa-2ef7-4a66-9c52-950c1aeafaa6",
        "colab": {
          "base_uri": "https://localhost:8080/",
          "height": 34
        }
      },
      "source": [
        "training.total_acc.median()"
      ],
      "execution_count": 0,
      "outputs": [
        {
          "output_type": "execute_result",
          "data": {
            "text/plain": [
              "23.0"
            ]
          },
          "metadata": {
            "tags": []
          },
          "execution_count": 225
        }
      ]
    },
    {
      "cell_type": "markdown",
      "metadata": {
        "id": "mUo8LQXvb5Sd",
        "colab_type": "text"
      },
      "source": [
        "##1.13 revol_util & sec_app_revol_util\n",
        "\n",
        "**Sotlution:** Drop both\n",
        "\n",
        "Can't explain null in the context"
      ]
    },
    {
      "cell_type": "code",
      "metadata": {
        "id": "K5ZySMxXcLoy",
        "colab_type": "code",
        "outputId": "efd4893e-87e6-4a6d-8c26-124cfb6b0d77",
        "colab": {
          "base_uri": "https://localhost:8080/",
          "height": 221
        }
      },
      "source": [
        "training.loc[training.revol_util.isna(),['revol_util','issue_y','revol_bal']].revol_bal.value_counts()"
      ],
      "execution_count": 0,
      "outputs": [
        {
          "output_type": "execute_result",
          "data": {
            "text/plain": [
              "0         548\n",
              "146843      1\n",
              "27922       1\n",
              "6424        1\n",
              "301         1\n",
              "         ... \n",
              "8924        1\n",
              "79589       1\n",
              "81648       1\n",
              "22258       1\n",
              "50691       1\n",
              "Name: revol_bal, Length: 134, dtype: int64"
            ]
          },
          "metadata": {
            "tags": []
          },
          "execution_count": 226
        }
      ]
    },
    {
      "cell_type": "code",
      "metadata": {
        "id": "sIYpAVOecNTS",
        "colab_type": "code",
        "outputId": "589868fe-9868-4fb4-dfca-7d5dcac4fe71",
        "colab": {
          "base_uri": "https://localhost:8080/",
          "height": 221
        }
      },
      "source": [
        "training.loc[ (training.application_type=='Joint App') & (training.sec_app_revol_util.isna()),['revol_util','issue_y','revol_bal']].revol_bal.value_counts()"
      ],
      "execution_count": 0,
      "outputs": [
        {
          "output_type": "execute_result",
          "data": {
            "text/plain": [
              "0        32\n",
              "7833      4\n",
              "3060      4\n",
              "7063      3\n",
              "7002      3\n",
              "         ..\n",
              "29896     1\n",
              "17610     1\n",
              "5324      1\n",
              "27855     1\n",
              "34757     1\n",
              "Name: revol_bal, Length: 5098, dtype: int64"
            ]
          },
          "metadata": {
            "tags": []
          },
          "execution_count": 229
        }
      ]
    },
    {
      "cell_type": "markdown",
      "metadata": {
        "id": "Ckm-d0XQc6bf",
        "colab_type": "text"
      },
      "source": [
        "# 2 Replacing Null Values\n",
        "\n",
        "Null values will be replaced in the transformed dataset, training_tofill. Once finish this section, the dataset is ready to be used on model building."
      ]
    },
    {
      "cell_type": "code",
      "metadata": {
        "id": "JbflqN2TdToe",
        "colab_type": "code",
        "outputId": "9ab04e3f-d559-48e7-ae6e-69740b93528e",
        "colab": {
          "base_uri": "https://localhost:8080/",
          "height": 306
        }
      },
      "source": [
        "training_tofill.columns.values"
      ],
      "execution_count": 84,
      "outputs": [
        {
          "output_type": "execute_result",
          "data": {
            "text/plain": [
              "array(['id', 'acc_open_past_24mths', 'addr_state', 'application_type',\n",
              "       'avg_cur_bal', 'bc_open_to_buy', 'bc_util', 'desc', 'dti',\n",
              "       'dti_joint', 'home_ownership', 'inq_last_6mths', 'loan_amnt',\n",
              "       'num_bc_tl', 'mo_sin_old_il_acct', 'mo_sin_old_rev_tl_op',\n",
              "       'mo_sin_rcnt_rev_tl_op', 'mths_since_recent_bc', 'num_actv_bc_tl',\n",
              "       'num_actv_rev_tl', 'num_bc_sats', 'num_il_tl', 'num_op_rev_tl',\n",
              "       'num_rev_tl_bal_gt_0', 'num_sats', 'num_tl_op_past_12m',\n",
              "       'percent_bc_gt_75', 'purpose', 'revol_util', 'sec_app_revol_util',\n",
              "       'term', 'tot_coll_amt', 'tot_cur_bal', 'tot_hi_cred_lim',\n",
              "       'total_acc', 'total_bal_ex_mort', 'pct_tl_nvr_dlq', 'results',\n",
              "       'issue_d', 'issue_y', 'issue_m', 'earliest_cr_line1',\n",
              "       'sec_app_earliest_cr_line1', 'earliest_cr_line_min',\n",
              "       'verification_status_all', 'if_worse_rating', 'annual_inc_all',\n",
              "       'revol_bal_all', 'mort_acc_all', 'num_rev_accts_all',\n",
              "       'open_acc_all', 'if_revol_delinq', 'if_cur_il', 'if_delinq_2yrs',\n",
              "       'if_pub_rec', 'if_pub_rec_bankruptcies', 'if_chargeoff_12_mths',\n",
              "       'if_collections_12_mths'], dtype=object)"
            ]
          },
          "metadata": {
            "tags": []
          },
          "execution_count": 84
        }
      ]
    },
    {
      "cell_type": "code",
      "metadata": {
        "id": "hVFgEOypdXcB",
        "colab_type": "code",
        "outputId": "178d8387-64bf-491b-eead-0a09f1dea270",
        "colab": {
          "base_uri": "https://localhost:8080/",
          "height": 34
        }
      },
      "source": [
        "training_tofill.shape"
      ],
      "execution_count": 85,
      "outputs": [
        {
          "output_type": "execute_result",
          "data": {
            "text/plain": [
              "(1045085, 58)"
            ]
          },
          "metadata": {
            "tags": []
          },
          "execution_count": 85
        }
      ]
    },
    {
      "cell_type": "markdown",
      "metadata": {
        "id": "oUyJ1Z4FddOB",
        "colab_type": "text"
      },
      "source": [
        "##2.1 Replacing Null with 0\n",
        "\n",
        "**Variables:**\n",
        "\n",
        "acc_open_past_24mths, avg_cur_bal, tot_cur_bal, delinq_amnt, bc_open_to_buy, mort_acc, sec_app_mort_acc, num_actv_bc_tl, num_actv_rev_tl, num_bc_sats, num_il_tl, num_op_rev_tl, num_rev_accts, sec_app_num_rev_accts, num_sats, num_tl_op_past_12m, tot_coll_amt, tot_cur_bal, total_bal_ex_mort, num_bc_tl, mo_sin_old_rev_tl_op, mo_sin_rcnt_rev_tl_op, percent_bc_gt_75"
      ]
    },
    {
      "cell_type": "code",
      "metadata": {
        "id": "IKA3-5igdaAY",
        "colab_type": "code",
        "colab": {}
      },
      "source": [
        "tocombine=training.loc[:,['id','mort_acc','sec_app_mort_acc','num_rev_accts','sec_app_num_rev_accts']].fillna(0)"
      ],
      "execution_count": 0,
      "outputs": []
    },
    {
      "cell_type": "code",
      "metadata": {
        "id": "_Zuf_0ahsMnh",
        "colab_type": "code",
        "colab": {}
      },
      "source": [
        "tocombine['mort_acc_all']=tocombine.mort_acc+tocombine.sec_app_mort_acc\n",
        "tocombine['num_rev_accts_all']=tocombine.num_rev_accts+tocombine.sec_app_num_rev_accts"
      ],
      "execution_count": 0,
      "outputs": []
    },
    {
      "cell_type": "code",
      "metadata": {
        "id": "Ptjj3-VIsZ8W",
        "colab_type": "code",
        "colab": {
          "base_uri": "https://localhost:8080/",
          "height": 224
        },
        "outputId": "c83c9bbf-8f53-44af-c3bc-dcec3d8d1b82"
      },
      "source": [
        "tocombine.head()"
      ],
      "execution_count": 110,
      "outputs": [
        {
          "output_type": "execute_result",
          "data": {
            "text/html": [
              "<div>\n",
              "<style scoped>\n",
              "    .dataframe tbody tr th:only-of-type {\n",
              "        vertical-align: middle;\n",
              "    }\n",
              "\n",
              "    .dataframe tbody tr th {\n",
              "        vertical-align: top;\n",
              "    }\n",
              "\n",
              "    .dataframe thead th {\n",
              "        text-align: right;\n",
              "    }\n",
              "</style>\n",
              "<table border=\"1\" class=\"dataframe\">\n",
              "  <thead>\n",
              "    <tr style=\"text-align: right;\">\n",
              "      <th></th>\n",
              "      <th>id</th>\n",
              "      <th>mort_acc</th>\n",
              "      <th>sec_app_mort_acc</th>\n",
              "      <th>num_rev_accts</th>\n",
              "      <th>sec_app_num_rev_accts</th>\n",
              "      <th>mort_acc_all</th>\n",
              "      <th>num_rev_accts_all</th>\n",
              "    </tr>\n",
              "  </thead>\n",
              "  <tbody>\n",
              "    <tr>\n",
              "      <th>0</th>\n",
              "      <td>1294383</td>\n",
              "      <td>0.0</td>\n",
              "      <td>0.0</td>\n",
              "      <td>2.0</td>\n",
              "      <td>0.0</td>\n",
              "      <td>0.0</td>\n",
              "      <td>2.0</td>\n",
              "    </tr>\n",
              "    <tr>\n",
              "      <th>1</th>\n",
              "      <td>1876502</td>\n",
              "      <td>0.0</td>\n",
              "      <td>0.0</td>\n",
              "      <td>6.0</td>\n",
              "      <td>0.0</td>\n",
              "      <td>0.0</td>\n",
              "      <td>6.0</td>\n",
              "    </tr>\n",
              "    <tr>\n",
              "      <th>2</th>\n",
              "      <td>954710</td>\n",
              "      <td>0.0</td>\n",
              "      <td>0.0</td>\n",
              "      <td>15.0</td>\n",
              "      <td>0.0</td>\n",
              "      <td>0.0</td>\n",
              "      <td>15.0</td>\n",
              "    </tr>\n",
              "    <tr>\n",
              "      <th>3</th>\n",
              "      <td>809314</td>\n",
              "      <td>5.0</td>\n",
              "      <td>0.0</td>\n",
              "      <td>19.0</td>\n",
              "      <td>0.0</td>\n",
              "      <td>5.0</td>\n",
              "      <td>19.0</td>\n",
              "    </tr>\n",
              "    <tr>\n",
              "      <th>4</th>\n",
              "      <td>1069627</td>\n",
              "      <td>3.0</td>\n",
              "      <td>0.0</td>\n",
              "      <td>9.0</td>\n",
              "      <td>0.0</td>\n",
              "      <td>3.0</td>\n",
              "      <td>9.0</td>\n",
              "    </tr>\n",
              "  </tbody>\n",
              "</table>\n",
              "</div>"
            ],
            "text/plain": [
              "        id  mort_acc  ...  mort_acc_all  num_rev_accts_all\n",
              "0  1294383       0.0  ...           0.0                2.0\n",
              "1  1876502       0.0  ...           0.0                6.0\n",
              "2   954710       0.0  ...           0.0               15.0\n",
              "3   809314       5.0  ...           5.0               19.0\n",
              "4  1069627       3.0  ...           3.0                9.0\n",
              "\n",
              "[5 rows x 7 columns]"
            ]
          },
          "metadata": {
            "tags": []
          },
          "execution_count": 110
        }
      ]
    },
    {
      "cell_type": "code",
      "metadata": {
        "id": "dIJrk9KDsbnO",
        "colab_type": "code",
        "colab": {}
      },
      "source": [
        "training_tofill.fillna({'id':0,'acc_open_past_24mths':0,'avg_cur_bal':0,'tot_cur_bal':0,\n",
        "                        'bc_open_to_buy':0,'num_actv_bc_tl':0,'num_actv_rev_tl':0,'num_bc_sats':0,\n",
        "                        'num_il_tl':0,'num_op_rev_tl':0,'num_sats':0,'num_tl_op_past_12m':0,'tot_coll_amt':0,\n",
        "                        'tot_cur_bal':0,'total_bal_ex_mort':0,'num_bc_tl':0,'mo_sin_old_rev_tl_op':0,\n",
        "                        'mo_sin_rcnt_rev_tl_op':0,'percent_bc_gt_75':0,'annual_inc_all':0,'inq_last_6mths':0, 'num_bc_tl':0},\n",
        "                       inplace=True)"
      ],
      "execution_count": 0,
      "outputs": []
    },
    {
      "cell_type": "code",
      "metadata": {
        "id": "G7WpGMxBsd63",
        "colab_type": "code",
        "colab": {
          "base_uri": "https://localhost:8080/",
          "height": 34
        },
        "outputId": "e40e97f3-3ca0-49d9-aa3a-7dfb4167b495"
      },
      "source": [
        "training_tofill.shape"
      ],
      "execution_count": 112,
      "outputs": [
        {
          "output_type": "execute_result",
          "data": {
            "text/plain": [
              "(1045085, 58)"
            ]
          },
          "metadata": {
            "tags": []
          },
          "execution_count": 112
        }
      ]
    },
    {
      "cell_type": "code",
      "metadata": {
        "id": "ypQ4-W_7sft3",
        "colab_type": "code",
        "colab": {
          "base_uri": "https://localhost:8080/",
          "height": 34
        },
        "outputId": "41b99bb4-00d3-41c7-b61a-5d6df85d8e96"
      },
      "source": [
        "training_tofill.drop(columns=['mort_acc_all','num_rev_accts_all'],inplace=True)\n",
        "training_tofill.shape"
      ],
      "execution_count": 113,
      "outputs": [
        {
          "output_type": "execute_result",
          "data": {
            "text/plain": [
              "(1045085, 56)"
            ]
          },
          "metadata": {
            "tags": []
          },
          "execution_count": 113
        }
      ]
    },
    {
      "cell_type": "code",
      "metadata": {
        "id": "oyayruhcsh8f",
        "colab_type": "code",
        "colab": {
          "base_uri": "https://localhost:8080/",
          "height": 34
        },
        "outputId": "e194b701-7313-4227-8376-f5cfc9d376f7"
      },
      "source": [
        "training_tofill=training_tofill.merge(tocombine.loc[:,['id','mort_acc_all','num_rev_accts_all']],on='id',validate='1:1')\n",
        "training_tofill.shape"
      ],
      "execution_count": 114,
      "outputs": [
        {
          "output_type": "execute_result",
          "data": {
            "text/plain": [
              "(1045085, 58)"
            ]
          },
          "metadata": {
            "tags": []
          },
          "execution_count": 114
        }
      ]
    },
    {
      "cell_type": "code",
      "metadata": {
        "id": "fDGx8wr4sr4Z",
        "colab_type": "code",
        "colab": {
          "base_uri": "https://localhost:8080/",
          "height": 289
        },
        "outputId": "4d7b1680-e646-41bf-e8b9-71e2cb749641"
      },
      "source": [
        "training_tofill.isna().sum()[training_tofill.isna().sum()>0]"
      ],
      "execution_count": 115,
      "outputs": [
        {
          "output_type": "execute_result",
          "data": {
            "text/plain": [
              "bc_util                        51345\n",
              "dti                              239\n",
              "dti_joint                    1026576\n",
              "mo_sin_old_il_acct             85587\n",
              "mths_since_recent_bc           50030\n",
              "num_rev_tl_bal_gt_0            56201\n",
              "revol_util                       681\n",
              "sec_app_revol_util           1032165\n",
              "tot_hi_cred_lim                56201\n",
              "total_acc                         23\n",
              "pct_tl_nvr_dlq                 56327\n",
              "earliest_cr_line1                 23\n",
              "sec_app_earliest_cr_line1    1031916\n",
              "earliest_cr_line_min            5363\n",
              "open_acc_all                      23\n",
              "dtype: int64"
            ]
          },
          "metadata": {
            "tags": []
          },
          "execution_count": 115
        }
      ]
    },
    {
      "cell_type": "markdown",
      "metadata": {
        "id": "Dz6YFRA6s1_6",
        "colab_type": "text"
      },
      "source": [
        "##2.2 Filling with Special Values\n",
        "- mths_since_recent_bc: Set null to max(mths_since_recent_bc)+1=640\n",
        "- total_acc: Set null to median, 23\n",
        "- pct_tl_nvr_dlq: Set all nulls to 100 percent\n",
        "- dti: All null value in dti having a joint application, so in this case, use dti_joint instead.\n",
        "- dti_joint: All the null come from individual applicaiton. For joint applications, use the weighted average of dti and dti_joint. \n",
        "\n",
        "  - The final dti can be calculated as annul_inc/(annual_inc + annual_inc_joint) * dti + annul_inc_joint/(annual_inc + annual_inc_joint) * dti_joint"
      ]
    },
    {
      "cell_type": "code",
      "metadata": {
        "id": "VtJuDHnOsx-J",
        "colab_type": "code",
        "colab": {}
      },
      "source": [
        "training_tofill.fillna({'mths_since_recent_bc':640, \n",
        "                        'total_acc':23,'pct_tl_nvr_dlq':100\n",
        "                        },inplace=True)"
      ],
      "execution_count": 0,
      "outputs": []
    },
    {
      "cell_type": "code",
      "metadata": {
        "id": "DFaePGRttyYH",
        "colab_type": "code",
        "colab": {
          "base_uri": "https://localhost:8080/",
          "height": 238
        },
        "outputId": "b2762e21-5202-4ca7-aa59-a6ae346c6c61"
      },
      "source": [
        "training_tofill.isna().sum()[training_tofill.isna().sum()>0]"
      ],
      "execution_count": 117,
      "outputs": [
        {
          "output_type": "execute_result",
          "data": {
            "text/plain": [
              "bc_util                        51345\n",
              "dti                              239\n",
              "dti_joint                    1026576\n",
              "mo_sin_old_il_acct             85587\n",
              "num_rev_tl_bal_gt_0            56201\n",
              "revol_util                       681\n",
              "sec_app_revol_util           1032165\n",
              "tot_hi_cred_lim                56201\n",
              "earliest_cr_line1                 23\n",
              "sec_app_earliest_cr_line1    1031916\n",
              "earliest_cr_line_min            5363\n",
              "open_acc_all                      23\n",
              "dtype: int64"
            ]
          },
          "metadata": {
            "tags": []
          },
          "execution_count": 117
        }
      ]
    },
    {
      "cell_type": "code",
      "metadata": {
        "id": "ILhb-OYat0Uu",
        "colab_type": "code",
        "colab": {}
      },
      "source": [
        "dtis=training.loc[:,['id','dti','dti_joint','application_type','annual_inc','annual_inc_joint']]\n",
        "dtis['dti_all']=np.nan"
      ],
      "execution_count": 0,
      "outputs": []
    },
    {
      "cell_type": "code",
      "metadata": {
        "id": "lfAsRyQ5umTt",
        "colab_type": "code",
        "colab": {
          "base_uri": "https://localhost:8080/",
          "height": 224
        },
        "outputId": "aedf82b8-60d2-45f4-c106-f85a4e2f3188"
      },
      "source": [
        "dtis.head()"
      ],
      "execution_count": 119,
      "outputs": [
        {
          "output_type": "execute_result",
          "data": {
            "text/html": [
              "<div>\n",
              "<style scoped>\n",
              "    .dataframe tbody tr th:only-of-type {\n",
              "        vertical-align: middle;\n",
              "    }\n",
              "\n",
              "    .dataframe tbody tr th {\n",
              "        vertical-align: top;\n",
              "    }\n",
              "\n",
              "    .dataframe thead th {\n",
              "        text-align: right;\n",
              "    }\n",
              "</style>\n",
              "<table border=\"1\" class=\"dataframe\">\n",
              "  <thead>\n",
              "    <tr style=\"text-align: right;\">\n",
              "      <th></th>\n",
              "      <th>id</th>\n",
              "      <th>dti</th>\n",
              "      <th>dti_joint</th>\n",
              "      <th>application_type</th>\n",
              "      <th>annual_inc</th>\n",
              "      <th>annual_inc_joint</th>\n",
              "      <th>dti_all</th>\n",
              "    </tr>\n",
              "  </thead>\n",
              "  <tbody>\n",
              "    <tr>\n",
              "      <th>0</th>\n",
              "      <td>1294383</td>\n",
              "      <td>20.42</td>\n",
              "      <td>NaN</td>\n",
              "      <td>Individual</td>\n",
              "      <td>75000.0</td>\n",
              "      <td>NaN</td>\n",
              "      <td>NaN</td>\n",
              "    </tr>\n",
              "    <tr>\n",
              "      <th>1</th>\n",
              "      <td>1876502</td>\n",
              "      <td>7.97</td>\n",
              "      <td>NaN</td>\n",
              "      <td>Individual</td>\n",
              "      <td>25000.0</td>\n",
              "      <td>NaN</td>\n",
              "      <td>NaN</td>\n",
              "    </tr>\n",
              "    <tr>\n",
              "      <th>2</th>\n",
              "      <td>954710</td>\n",
              "      <td>11.52</td>\n",
              "      <td>NaN</td>\n",
              "      <td>Individual</td>\n",
              "      <td>32000.0</td>\n",
              "      <td>NaN</td>\n",
              "      <td>NaN</td>\n",
              "    </tr>\n",
              "    <tr>\n",
              "      <th>3</th>\n",
              "      <td>809314</td>\n",
              "      <td>23.66</td>\n",
              "      <td>NaN</td>\n",
              "      <td>Individual</td>\n",
              "      <td>135000.0</td>\n",
              "      <td>NaN</td>\n",
              "      <td>NaN</td>\n",
              "    </tr>\n",
              "    <tr>\n",
              "      <th>4</th>\n",
              "      <td>1069627</td>\n",
              "      <td>10.22</td>\n",
              "      <td>NaN</td>\n",
              "      <td>Individual</td>\n",
              "      <td>35000.0</td>\n",
              "      <td>NaN</td>\n",
              "      <td>NaN</td>\n",
              "    </tr>\n",
              "  </tbody>\n",
              "</table>\n",
              "</div>"
            ],
            "text/plain": [
              "        id    dti  dti_joint  ... annual_inc  annual_inc_joint  dti_all\n",
              "0  1294383  20.42        NaN  ...    75000.0               NaN      NaN\n",
              "1  1876502   7.97        NaN  ...    25000.0               NaN      NaN\n",
              "2   954710  11.52        NaN  ...    32000.0               NaN      NaN\n",
              "3   809314  23.66        NaN  ...   135000.0               NaN      NaN\n",
              "4  1069627  10.22        NaN  ...    35000.0               NaN      NaN\n",
              "\n",
              "[5 rows x 7 columns]"
            ]
          },
          "metadata": {
            "tags": []
          },
          "execution_count": 119
        }
      ]
    },
    {
      "cell_type": "code",
      "metadata": {
        "id": "rVOECtsouoD8",
        "colab_type": "code",
        "colab": {}
      },
      "source": [
        "# In the case of dti is null, fill them with 0\n",
        "dtis.fillna({'dti':0},inplace=True)\n",
        "\n",
        "# To handle the individual application_type:\n",
        "# Let all dti_all equal to dti for individual applicaiton_type\n",
        "Individual=dtis.loc[dtis.application_type=='Individual',['id','dti']]\n",
        "dtis.loc[dtis['id'].isin(Individual['id']),['dti_all']]=Individual.loc[:,['dti']].values"
      ],
      "execution_count": 0,
      "outputs": []
    },
    {
      "cell_type": "code",
      "metadata": {
        "id": "72M4-3NOuxxe",
        "colab_type": "code",
        "colab": {
          "base_uri": "https://localhost:8080/",
          "height": 139
        },
        "outputId": "721338b4-f71f-45bf-8609-81d5b3e66717"
      },
      "source": [
        "# To handle the the joint application type:\n",
        "# Let dti_add equal to \n",
        "# annul_inc/(annual_inc + annual_inc_joint) * dti + annul_inc_joint/(annual_inc + annual_inc_joint) * dti_joint\n",
        "Joint=dtis.loc[dtis.application_type=='Joint App',:]\n",
        "Joint.loc[:,'dti_all']=np.nan\n",
        "Joint.loc[:,'dti_all']=Joint.loc[:,'annual_inc']/(Joint.loc[:,'annual_inc']+Joint.loc[:,'annual_inc_joint'])*Joint.loc[:,'dti']+Joint.loc[:,'annual_inc_joint']/(Joint.loc[:,'annual_inc']+Joint.loc[:,'annual_inc_joint'])*Joint.loc[:,'dti_joint']\n",
        "dtis.loc[dtis['id'].isin(Joint['id']),['dti_all']]=Joint.loc[:,['dti_all']].values"
      ],
      "execution_count": 121,
      "outputs": [
        {
          "output_type": "stream",
          "text": [
            "/usr/local/lib/python3.6/dist-packages/pandas/core/indexing.py:966: SettingWithCopyWarning: \n",
            "A value is trying to be set on a copy of a slice from a DataFrame.\n",
            "Try using .loc[row_indexer,col_indexer] = value instead\n",
            "\n",
            "See the caveats in the documentation: https://pandas.pydata.org/pandas-docs/stable/user_guide/indexing.html#returning-a-view-versus-a-copy\n",
            "  self.obj[item] = s\n"
          ],
          "name": "stderr"
        }
      ]
    },
    {
      "cell_type": "code",
      "metadata": {
        "id": "s6OCHCilxXVf",
        "colab_type": "code",
        "colab": {
          "base_uri": "https://localhost:8080/",
          "height": 85
        },
        "outputId": "55a15603-3fa8-4ca0-9e7f-30e6858e0ebf"
      },
      "source": [
        "dtis.isnull().sum()[dtis.isna().sum()>0]"
      ],
      "execution_count": 122,
      "outputs": [
        {
          "output_type": "execute_result",
          "data": {
            "text/plain": [
              "dti_joint           1026576\n",
              "annual_inc                2\n",
              "annual_inc_joint    1026576\n",
              "dtype: int64"
            ]
          },
          "metadata": {
            "tags": []
          },
          "execution_count": 122
        }
      ]
    },
    {
      "cell_type": "code",
      "metadata": {
        "id": "ZcwykfzXvY5C",
        "colab_type": "code",
        "colab": {
          "base_uri": "https://localhost:8080/",
          "height": 34
        },
        "outputId": "c2c3bbb0-feb1-42c7-bf62-1e83ed1b3e5e"
      },
      "source": [
        "dtis.shape"
      ],
      "execution_count": 123,
      "outputs": [
        {
          "output_type": "execute_result",
          "data": {
            "text/plain": [
              "(1045085, 7)"
            ]
          },
          "metadata": {
            "tags": []
          },
          "execution_count": 123
        }
      ]
    },
    {
      "cell_type": "code",
      "metadata": {
        "id": "B7yWXgFVy-OD",
        "colab_type": "code",
        "colab": {}
      },
      "source": [
        "# Merge the dti_all from dtis to training_tofill\n",
        "training_tofill=training_tofill.merge(dtis.loc[:,['id','dti_all']],on='id')"
      ],
      "execution_count": 0,
      "outputs": []
    },
    {
      "cell_type": "code",
      "metadata": {
        "id": "7YgTzSoBzBQT",
        "colab_type": "code",
        "colab": {
          "base_uri": "https://localhost:8080/",
          "height": 34
        },
        "outputId": "93db545c-559e-499f-ba7b-b1fe5f60b306"
      },
      "source": [
        "training_tofill.shape"
      ],
      "execution_count": 125,
      "outputs": [
        {
          "output_type": "execute_result",
          "data": {
            "text/plain": [
              "(1045085, 59)"
            ]
          },
          "metadata": {
            "tags": []
          },
          "execution_count": 125
        }
      ]
    },
    {
      "cell_type": "markdown",
      "metadata": {
        "id": "6LnY0IrhzKLQ",
        "colab_type": "text"
      },
      "source": [
        "##2.3 Droping Variables\n",
        "'bc_util','mo_sin_old_il_acct','revol_util','sec_app_revol_util','mo_sin_old_rev_tl_op','num_rev_tl_bal_gt_0','open_acc_all','tot_hi_cred_lim','earliest_cr_line_min','dti','dti_joint','earliest_cr_line1','sec_app_earliest_cr_line1','annual_inc_all','issue_d','issue_m','issue_y'\n",
        "\n",
        "- To drop num_rev_tl_bal_gt_0 as it's highly correlated with num_actv_rev_tl\n",
        "- To drop open_acc_all as it's highly correlated with num_sats\n",
        "- To drop tot_hi_cred_lim as it's highly correlated with tot_cur_bal\n",
        "- To drop earliest_cr_line_min for simplication\n",
        "- To drop ealiest_cr_line1\n",
        "- To drop sec_app_earliest_cr_line1\n",
        "- To drop time related variables, issue_d, issue_m, issue_y\n",
        "- To drop 16 variables in total and total 43 variables left"
      ]
    },
    {
      "cell_type": "code",
      "metadata": {
        "id": "53JTKILUzIfk",
        "colab_type": "code",
        "colab": {
          "base_uri": "https://localhost:8080/",
          "height": 34
        },
        "outputId": "291f77b1-e0e4-455e-8428-b957d461a330"
      },
      "source": [
        "training_tofill.drop(columns=['bc_util','mo_sin_old_il_acct','mo_sin_old_rev_tl_op',\n",
        "                              'num_rev_tl_bal_gt_0','open_acc_all','tot_hi_cred_lim',\n",
        "                              'earliest_cr_line_min','revol_util','sec_app_revol_util',\n",
        "                              'dti','dti_joint','earliest_cr_line1','sec_app_earliest_cr_line1',\n",
        "                              'issue_d','issue_m','issue_y'],inplace=True)\n",
        "training_tofill.shape"
      ],
      "execution_count": 126,
      "outputs": [
        {
          "output_type": "execute_result",
          "data": {
            "text/plain": [
              "(1045085, 43)"
            ]
          },
          "metadata": {
            "tags": []
          },
          "execution_count": 126
        }
      ]
    },
    {
      "cell_type": "code",
      "metadata": {
        "id": "osSEumibzdDO",
        "colab_type": "code",
        "colab": {
          "base_uri": "https://localhost:8080/",
          "height": 34
        },
        "outputId": "d761677b-e5d8-4316-ed63-8af3d2e1bce1"
      },
      "source": [
        "# As we can see, we've replaced all null values with alternatives\n",
        "training_tofill.isna().sum()[training_tofill.isna().sum()>0]"
      ],
      "execution_count": 127,
      "outputs": [
        {
          "output_type": "execute_result",
          "data": {
            "text/plain": [
              "Series([], dtype: int64)"
            ]
          },
          "metadata": {
            "tags": []
          },
          "execution_count": 127
        }
      ]
    }
  ]
}